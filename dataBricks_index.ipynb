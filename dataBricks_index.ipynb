{
  "cells": [
    {
      "cell_type": "markdown",
      "metadata": {
        "application/vnd.databricks.v1+cell": {
          "cellMetadata": {},
          "inputWidgets": {},
          "nuid": "71846122-9009-4cd1-86b6-5b55dc5cfda6",
          "showTitle": false,
          "title": ""
        },
        "id": "oVueuUsQZk42"
      },
      "source": [
        "Install Dependencies\n"
      ]
    },
    {
      "cell_type": "markdown",
      "metadata": {
        "application/vnd.databricks.v1+cell": {
          "cellMetadata": {},
          "inputWidgets": {},
          "nuid": "2a3b6958-1e18-4cfa-8ba8-7b3d18a21da4",
          "showTitle": false,
          "title": ""
        },
        "id": "qj5Cc84nZk44"
      },
      "source": []
    },
    {
      "cell_type": "code",
      "execution_count": null,
      "metadata": {
        "application/vnd.databricks.v1+cell": {
          "cellMetadata": {
            "byteLimit": 2048000,
            "rowLimit": 10000
          },
          "inputWidgets": {},
          "nuid": "fcc31dd7-4715-43a3-825a-e65e363b5e41",
          "showTitle": false,
          "title": ""
        },
        "id": "7VNa5sP4Zk44",
        "outputId": "831d2867-53a1-43f5-f6c6-3cf6b8f80c73"
      },
      "outputs": [
        {
          "output_type": "stream",
          "name": "stdout",
          "text": [
            "\u001b[43mNote: you may need to restart the kernel using dbutils.library.restartPython() to use updated packages.\u001b[0m\nCollecting azure-identity==1.15.0\n  Downloading azure_identity-1.15.0-py3-none-any.whl (164 kB)\n     ━━━━━━━━━━━━━━━━━━━━━━━━━━━━━━━━━━━━━━━ 164.7/164.7 kB 1.8 MB/s eta 0:00:00\nCollecting msal<2.0.0,>=1.24.0\n  Downloading msal-1.30.0-py3-none-any.whl (111 kB)\n     ━━━━━━━━━━━━━━━━━━━━━━━━━━━━━━━━━━━━━━━ 111.8/111.8 kB 6.3 MB/s eta 0:00:00\nRequirement already satisfied: cryptography>=2.5 in /databricks/python3/lib/python3.10/site-packages (from azure-identity==1.15.0) (39.0.1)\nCollecting azure-core<2.0.0,>=1.23.0\n  Downloading azure_core-1.30.2-py3-none-any.whl (194 kB)\n     ━━━━━━━━━━━━━━━━━━━━━━━━━━━━━━━━━━━━━━━ 194.3/194.3 kB 8.7 MB/s eta 0:00:00\nCollecting msal-extensions<2.0.0,>=0.3.0\n  Downloading msal_extensions-1.2.0-py3-none-any.whl (19 kB)\nRequirement already satisfied: requests>=2.21.0 in /databricks/python3/lib/python3.10/site-packages (from azure-core<2.0.0,>=1.23.0->azure-identity==1.15.0) (2.28.1)\nCollecting typing-extensions>=4.6.0\n  Downloading typing_extensions-4.12.2-py3-none-any.whl (37 kB)\nRequirement already satisfied: six>=1.11.0 in /usr/lib/python3/dist-packages (from azure-core<2.0.0,>=1.23.0->azure-identity==1.15.0) (1.16.0)\nRequirement already satisfied: cffi>=1.12 in /databricks/python3/lib/python3.10/site-packages (from cryptography>=2.5->azure-identity==1.15.0) (1.15.1)\nRequirement already satisfied: PyJWT[crypto]<3,>=1.0.0 in /usr/lib/python3/dist-packages (from msal<2.0.0,>=1.24.0->azure-identity==1.15.0) (2.3.0)\nCollecting portalocker<3,>=1.4\n  Downloading portalocker-2.10.1-py3-none-any.whl (18 kB)\nRequirement already satisfied: pycparser in /databricks/python3/lib/python3.10/site-packages (from cffi>=1.12->cryptography>=2.5->azure-identity==1.15.0) (2.21)\nRequirement already satisfied: idna<4,>=2.5 in /databricks/python3/lib/python3.10/site-packages (from requests>=2.21.0->azure-core<2.0.0,>=1.23.0->azure-identity==1.15.0) (3.4)\nRequirement already satisfied: charset-normalizer<3,>=2 in /databricks/python3/lib/python3.10/site-packages (from requests>=2.21.0->azure-core<2.0.0,>=1.23.0->azure-identity==1.15.0) (2.0.4)\nRequirement already satisfied: urllib3<1.27,>=1.21.1 in /databricks/python3/lib/python3.10/site-packages (from requests>=2.21.0->azure-core<2.0.0,>=1.23.0->azure-identity==1.15.0) (1.26.14)\nRequirement already satisfied: certifi>=2017.4.17 in /databricks/python3/lib/python3.10/site-packages (from requests>=2.21.0->azure-core<2.0.0,>=1.23.0->azure-identity==1.15.0) (2022.12.7)\nInstalling collected packages: typing-extensions, portalocker, azure-core, msal, msal-extensions, azure-identity\n  Attempting uninstall: typing-extensions\n    Found existing installation: typing_extensions 4.4.0\n    Not uninstalling typing-extensions at /databricks/python3/lib/python3.10/site-packages, outside environment /local_disk0/.ephemeral_nfs/envs/pythonEnv-46bde175-e982-4894-8e15-f6fb35a2477d\n    Can't uninstall 'typing_extensions'. No files were found to uninstall.\nSuccessfully installed azure-core-1.30.2 azure-identity-1.15.0 msal-1.30.0 msal-extensions-1.2.0 portalocker-2.10.1 typing-extensions-4.12.2\n\u001b[43mNote: you may need to restart the kernel using dbutils.library.restartPython() to use updated packages.\u001b[0m\n\u001b[43mNote: you may need to restart the kernel using dbutils.library.restartPython() to use updated packages.\u001b[0m\nCollecting tiktoken\n  Downloading tiktoken-0.7.0-cp310-cp310-manylinux_2_17_x86_64.manylinux2014_x86_64.whl (1.1 MB)\n     ━━━━━━━━━━━━━━━━━━━━━━━━━━━━━━━━━━━━━━━━ 1.1/1.1 MB 5.9 MB/s eta 0:00:00\nCollecting regex>=2022.1.18\n  Downloading regex-2024.7.24-cp310-cp310-manylinux_2_17_x86_64.manylinux2014_x86_64.whl (776 kB)\n     ━━━━━━━━━━━━━━━━━━━━━━━━━━━━━━━━━━━━━━ 776.5/776.5 kB 30.3 MB/s eta 0:00:00\nRequirement already satisfied: requests>=2.26.0 in /databricks/python3/lib/python3.10/site-packages (from tiktoken) (2.28.1)\nRequirement already satisfied: certifi>=2017.4.17 in /databricks/python3/lib/python3.10/site-packages (from requests>=2.26.0->tiktoken) (2022.12.7)\nRequirement already satisfied: charset-normalizer<3,>=2 in /databricks/python3/lib/python3.10/site-packages (from requests>=2.26.0->tiktoken) (2.0.4)\nRequirement already satisfied: urllib3<1.27,>=1.21.1 in /databricks/python3/lib/python3.10/site-packages (from requests>=2.26.0->tiktoken) (1.26.14)\nRequirement already satisfied: idna<4,>=2.5 in /databricks/python3/lib/python3.10/site-packages (from requests>=2.26.0->tiktoken) (3.4)\nInstalling collected packages: regex, tiktoken\nSuccessfully installed regex-2024.7.24 tiktoken-0.7.0\n\u001b[43mNote: you may need to restart the kernel using dbutils.library.restartPython() to use updated packages.\u001b[0m\n\u001b[43mNote: you may need to restart the kernel using dbutils.library.restartPython() to use updated packages.\u001b[0m\nCollecting fitz\n  Downloading fitz-0.0.1.dev2-py2.py3-none-any.whl (20 kB)\nRequirement already satisfied: numpy in /databricks/python3/lib/python3.10/site-packages (from fitz) (1.23.5)\nCollecting configobj\n  Downloading configobj-5.0.8-py2.py3-none-any.whl (36 kB)\nRequirement already satisfied: scipy in /databricks/python3/lib/python3.10/site-packages (from fitz) (1.10.0)\nCollecting nipype\n  Downloading nipype-1.8.6-py3-none-any.whl (3.2 MB)\n     ━━━━━━━━━━━━━━━━━━━━━━━━━━━━━━━━━━━━━━━━ 3.2/3.2 MB 16.5 MB/s eta 0:00:00\nRequirement already satisfied: httplib2 in /usr/lib/python3/dist-packages (from fitz) (0.20.2)\nCollecting configparser\n  Downloading configparser-7.0.0-py3-none-any.whl (16 kB)\nRequirement already satisfied: pandas in /databricks/python3/lib/python3.10/site-packages (from fitz) (1.5.3)\nCollecting pyxnat\n  Downloading pyxnat-1.6.2-py3-none-any.whl (95 kB)\n     ━━━━━━━━━━━━━━━━━━━━━━━━━━━━━━━━━━━━━━━━ 95.6/95.6 kB 10.1 MB/s eta 0:00:00\nCollecting nibabel\n  Downloading nibabel-5.2.1-py3-none-any.whl (3.3 MB)\n     ━━━━━━━━━━━━━━━━━━━━━━━━━━━━━━━━━━━━━━━━ 3.3/3.3 MB 53.1 MB/s eta 0:00:00\nRequirement already satisfied: six in /usr/lib/python3/dist-packages (from configobj->fitz) (1.16.0)\nRequirement already satisfied: pyparsing!=3.0.0,!=3.0.1,!=3.0.2,!=3.0.3,<4,>=2.4.2 in /databricks/python3/lib/python3.10/site-packages (from httplib2->fitz) (3.0.9)\nRequirement already satisfied: packaging>=17 in /databricks/python3/lib/python3.10/site-packages (from nibabel->fitz) (23.2)\nCollecting looseversion\n  Downloading looseversion-1.3.0-py2.py3-none-any.whl (8.2 kB)\nRequirement already satisfied: filelock>=3.0.0 in /usr/local/lib/python3.10/dist-packages (from nipype->fitz) (3.13.1)\nRequirement already satisfied: python-dateutil>=2.2 in /databricks/python3/lib/python3.10/site-packages (from nipype->fitz) (2.8.2)\nCollecting rdflib>=5.0.0\n  Downloading rdflib-7.0.0-py3-none-any.whl (531 kB)\n     ━━━━━━━━━━━━━━━━━━━━━━━━━━━━━━━━━━━━━━ 531.9/531.9 kB 32.2 MB/s eta 0:00:00\nRequirement already satisfied: click>=6.6.0 in /databricks/python3/lib/python3.10/site-packages (from nipype->fitz) (8.0.4)\nCollecting networkx>=2.0\n  Downloading networkx-3.3-py3-none-any.whl (1.7 MB)\n     ━━━━━━━━━━━━━━━━━━━━━━━━━━━━━━━━━━━━━━━━ 1.7/1.7 MB 46.2 MB/s eta 0:00:00\nCollecting prov>=1.5.2\n  Downloading prov-2.0.1-py3-none-any.whl (421 kB)\n     ━━━━━━━━━━━━━━━━━━━━━━━━━━━━━━━━━━━━━━ 421.5/421.5 kB 28.3 MB/s eta 0:00:00\nCollecting pydot>=1.2.3\n  Downloading pydot-3.0.1-py3-none-any.whl (22 kB)\nCollecting simplejson>=3.8.0\n  Downloading simplejson-3.19.2-cp310-cp310-manylinux_2_5_x86_64.manylinux1_x86_64.manylinux_2_17_x86_64.manylinux2014_x86_64.whl (137 kB)\n     ━━━━━━━━━━━━━━━━━━━━━━━━━━━━━━━━━━━━━━ 137.9/137.9 kB 12.0 MB/s eta 0:00:00\nCollecting etelemetry>=0.2.0\n  Downloading etelemetry-0.3.1-py3-none-any.whl (6.4 kB)\nCollecting traits!=5.0,<6.4,>=4.6\n  Downloading traits-6.3.2-cp310-cp310-manylinux_2_5_x86_64.manylinux1_x86_64.manylinux_2_12_x86_64.manylinux2010_x86_64.whl (5.1 MB)\n     ━━━━━━━━━━━━━━━━━━━━━━━━━━━━━━━━━━━━━━━━ 5.1/5.1 MB 52.3 MB/s eta 0:00:00\nRequirement already satisfied: pytz>=2020.1 in /databricks/python3/lib/python3.10/site-packages (from pandas->fitz) (2022.7)\nRequirement already satisfied: lxml>=4.3 in /databricks/python3/lib/python3.10/site-packages (from pyxnat->fitz) (4.9.1)\nRequirement already satisfied: requests>=2.20 in /databricks/python3/lib/python3.10/site-packages (from pyxnat->fitz) (2.28.1)\nCollecting pathlib>=1.0\n  Downloading pathlib-1.0.1-py3-none-any.whl (14 kB)\nCollecting ci-info>=0.2\n  Downloading ci_info-0.3.0-py3-none-any.whl (7.8 kB)\nCollecting rdflib>=5.0.0\n  Downloading rdflib-6.3.2-py3-none-any.whl (528 kB)\n     ━━━━━━━━━━━━━━━━━━━━━━━━━━━━━━━━━━━━━━ 528.1/528.1 kB 30.7 MB/s eta 0:00:00\nCollecting isodate<0.7.0,>=0.6.0\n  Downloading isodate-0.6.1-py2.py3-none-any.whl (41 kB)\n     ━━━━━━━━━━━━━━━━━━━━━━━━━━━━━━━━━━━━━━━━ 41.7/41.7 kB 4.3 MB/s eta 0:00:00\nRequirement already satisfied: charset-normalizer<3,>=2 in /databricks/python3/lib/python3.10/site-packages (from requests>=2.20->pyxnat->fitz) (2.0.4)\nRequirement already satisfied: idna<4,>=2.5 in /databricks/python3/lib/python3.10/site-packages (from requests>=2.20->pyxnat->fitz) (3.4)\nRequirement already satisfied: certifi>=2017.4.17 in /databricks/python3/lib/python3.10/site-packages (from requests>=2.20->pyxnat->fitz) (2022.12.7)\nRequirement already satisfied: urllib3<1.27,>=1.21.1 in /databricks/python3/lib/python3.10/site-packages (from requests>=2.20->pyxnat->fitz) (1.26.14)\nInstalling collected packages: pathlib, looseversion, traits, simplejson, pydot, nibabel, networkx, isodate, configparser, configobj, ci-info, rdflib, pyxnat, etelemetry, prov, nipype, fitz\nSuccessfully installed ci-info-0.3.0 configobj-5.0.8 configparser-7.0.0 etelemetry-0.3.1 fitz-0.0.1.dev2 isodate-0.6.1 looseversion-1.3.0 networkx-3.3 nibabel-5.2.1 nipype-1.8.6 pathlib-1.0.1 prov-2.0.1 pydot-3.0.1 pyxnat-1.6.2 rdflib-6.3.2 simplejson-3.19.2 traits-6.3.2\n\u001b[43mNote: you may need to restart the kernel using dbutils.library.restartPython() to use updated packages.\u001b[0m\n\u001b[43mNote: you may need to restart the kernel using dbutils.library.restartPython() to use updated packages.\u001b[0m\nCollecting langchain==0.1.6\n  Downloading langchain-0.1.6-py3-none-any.whl (811 kB)\n     ━━━━━━━━━━━━━━━━━━━━━━━━━━━━━━━━━━━━━━━ 811.8/811.8 kB 5.2 MB/s eta 0:00:00\nCollecting PyYAML>=5.3\n  Downloading PyYAML-6.0.1-cp310-cp310-manylinux_2_17_x86_64.manylinux2014_x86_64.whl (705 kB)\n     ━━━━━━━━━━━━━━━━━━━━━━━━━━━━━━━━━━━━━━ 705.5/705.5 kB 29.6 MB/s eta 0:00:00\nCollecting jsonpatch<2.0,>=1.33\n  Downloading jsonpatch-1.33-py2.py3-none-any.whl (12 kB)\nCollecting dataclasses-json<0.7,>=0.5.7\n  Downloading dataclasses_json-0.6.7-py3-none-any.whl (28 kB)\nCollecting SQLAlchemy<3,>=1.4\n  Downloading SQLAlchemy-2.0.32.tar.gz (9.5 MB)\n     ━━━━━━━━━━━━━━━━━━━━━━━━━━━━━━━━━━━━━━━━ 9.5/9.5 MB 53.9 MB/s eta 0:00:00\n  Installing build dependencies: started\n  Installing build dependencies: finished with status 'done'\n  Getting requirements to build wheel: started\n  Getting requirements to build wheel: finished with status 'done'\n  Installing backend dependencies: started\n  Installing backend dependencies: finished with status 'done'\n  Preparing metadata (pyproject.toml): started\n  Preparing metadata (pyproject.toml): finished with status 'done'\nRequirement already satisfied: numpy<2,>=1 in /databricks/python3/lib/python3.10/site-packages (from langchain==0.1.6) (1.23.5)\nCollecting async-timeout<5.0.0,>=4.0.0\n  Downloading async_timeout-4.0.3-py3-none-any.whl (5.7 kB)\nRequirement already satisfied: pydantic<3,>=1 in /databricks/python3/lib/python3.10/site-packages (from langchain==0.1.6) (1.10.6)\nRequirement already satisfied: requests<3,>=2 in /databricks/python3/lib/python3.10/site-packages (from langchain==0.1.6) (2.28.1)\nCollecting langsmith<0.1,>=0.0.83\n  Downloading langsmith-0.0.92-py3-none-any.whl (56 kB)\n     ━━━━━━━━━━━━━━━━━━━━━━━━━━━━━━━━━━━━━━━━ 56.5/56.5 kB 6.0 MB/s eta 0:00:00\nCollecting langchain-core<0.2,>=0.1.22\n  Downloading langchain_core-0.1.52-py3-none-any.whl (302 kB)\n     ━━━━━━━━━━━━━━━━━━━━━━━━━━━━━━━━━━━━━━ 302.9/302.9 kB 22.8 MB/s eta 0:00:00\nCollecting aiohttp<4.0.0,>=3.8.3\n  Downloading aiohttp-3.10.1-cp310-cp310-manylinux_2_17_x86_64.manylinux2014_x86_64.whl (1.2 MB)\n     ━━━━━━━━━━━━━━━━━━━━━━━━━━━━━━━━━━━━━━━━ 1.2/1.2 MB 45.3 MB/s eta 0:00:00\nRequirement already satisfied: tenacity<9.0.0,>=8.1.0 in /databricks/python3/lib/python3.10/site-packages (from langchain==0.1.6) (8.1.0)\nCollecting langchain-community<0.1,>=0.0.18\n  Downloading langchain_community-0.0.38-py3-none-any.whl (2.0 MB)\n     ━━━━━━━━━━━━━━━━━━━━━━━━━━━━━━━━━━━━━━━━ 2.0/2.0 MB 51.7 MB/s eta 0:00:00\nCollecting yarl<2.0,>=1.0\n  Downloading yarl-1.9.4-cp310-cp310-manylinux_2_17_x86_64.manylinux2014_x86_64.whl (301 kB)\n     ━━━━━━━━━━━━━━━━━━━━━━━━━━━━━━━━━━━━━━ 301.6/301.6 kB 21.0 MB/s eta 0:00:00\nCollecting frozenlist>=1.1.1\n  Downloading frozenlist-1.4.1-cp310-cp310-manylinux_2_5_x86_64.manylinux1_x86_64.manylinux_2_17_x86_64.manylinux2014_x86_64.whl (239 kB)\n     ━━━━━━━━━━━━━━━━━━━━━━━━━━━━━━━━━━━━━━ 239.5/239.5 kB 21.2 MB/s eta 0:00:00\nCollecting multidict<7.0,>=4.5\n  Downloading multidict-6.0.5-cp310-cp310-manylinux_2_17_x86_64.manylinux2014_x86_64.whl (124 kB)\n     ━━━━━━━━━━━━━━━━━━━━━━━━━━━━━━━━━━━━━━ 124.3/124.3 kB 12.7 MB/s eta 0:00:00\nRequirement already satisfied: attrs>=17.3.0 in /databricks/python3/lib/python3.10/site-packages (from aiohttp<4.0.0,>=3.8.3->langchain==0.1.6) (22.1.0)\nCollecting aiosignal>=1.1.2\n  Downloading aiosignal-1.3.1-py3-none-any.whl (7.6 kB)\nCollecting aiohappyeyeballs>=2.3.0\n  Downloading aiohappyeyeballs-2.3.4-py3-none-any.whl (12 kB)\nCollecting typing-inspect<1,>=0.4.0\n  Downloading typing_inspect-0.9.0-py3-none-any.whl (8.8 kB)\nCollecting marshmallow<4.0.0,>=3.18.0\n  Downloading marshmallow-3.21.3-py3-none-any.whl (49 kB)\n     ━━━━━━━━━━━━━━━━━━━━━━━━━━━━━━━━━━━━━━━━ 49.2/49.2 kB 5.0 MB/s eta 0:00:00\nCollecting jsonpointer>=1.9\n  Downloading jsonpointer-3.0.0-py2.py3-none-any.whl (7.6 kB)\nCollecting langchain-community<0.1,>=0.0.18\n  Downloading langchain_community-0.0.37-py3-none-any.whl (2.0 MB)\n     ━━━━━━━━━━━━━━━━━━━━━━━━━━━━━━━━━━━━━━━━ 2.0/2.0 MB 53.5 MB/s eta 0:00:00\n  Downloading langchain_community-0.0.36-py3-none-any.whl (2.0 MB)\n     ━━━━━━━━━━━━━━━━━━━━━━━━━━━━━━━━━━━━━━━━ 2.0/2.0 MB 55.8 MB/s eta 0:00:00\n  Downloading langchain_community-0.0.35-py3-none-any.whl (2.0 MB)\n     ━━━━━━━━━━━━━━━━━━━━━━━━━━━━━━━━━━━━━━━━ 2.0/2.0 MB 55.1 MB/s eta 0:00:00\n  Downloading langchain_community-0.0.34-py3-none-any.whl (1.9 MB)\n     ━━━━━━━━━━━━━━━━━━━━━━━━━━━━━━━━━━━━━━━━ 1.9/1.9 MB 55.1 MB/s eta 0:00:00\n  Downloading langchain_community-0.0.33-py3-none-any.whl (1.9 MB)\n     ━━━━━━━━━━━━━━━━━━━━━━━━━━━━━━━━━━━━━━━━ 1.9/1.9 MB 52.7 MB/s eta 0:00:00\n  Downloading langchain_community-0.0.32-py3-none-any.whl (1.9 MB)\n     ━━━━━━━━━━━━━━━━━━━━━━━━━━━━━━━━━━━━━━━━ 1.9/1.9 MB 48.0 MB/s eta 0:00:00\n  Downloading langchain_community-0.0.31-py3-none-any.whl (1.9 MB)\n     ━━━━━━━━━━━━━━━━━━━━━━━━━━━━━━━━━━━━━━━━ 1.9/1.9 MB 47.6 MB/s eta 0:00:00\n  Downloading langchain_community-0.0.30-py3-none-any.whl (1.9 MB)\n     ━━━━━━━━━━━━━━━━━━━━━━━━━━━━━━━━━━━━━━━━ 1.9/1.9 MB 50.2 MB/s eta 0:00:00\n  Downloading langchain_community-0.0.29-py3-none-any.whl (1.8 MB)\n     ━━━━━━━━━━━━━━━━━━━━━━━━━━━━━━━━━━━━━━━━ 1.8/1.8 MB 40.0 MB/s eta 0:00:00\n  Downloading langchain_community-0.0.28-py3-none-any.whl (1.8 MB)\n     ━━━━━━━━━━━━━━━━━━━━━━━━━━━━━━━━━━━━━━━━ 1.8/1.8 MB 51.3 MB/s eta 0:00:00\n  Downloading langchain_community-0.0.27-py3-none-any.whl (1.8 MB)\n     ━━━━━━━━━━━━━━━━━━━━━━━━━━━━━━━━━━━━━━━━ 1.8/1.8 MB 48.8 MB/s eta 0:00:00\n  Downloading langchain_community-0.0.26-py3-none-any.whl (1.8 MB)\n     ━━━━━━━━━━━━━━━━━━━━━━━━━━━━━━━━━━━━━━━━ 1.8/1.8 MB 54.6 MB/s eta 0:00:00\n  Downloading langchain_community-0.0.25-py3-none-any.whl (1.8 MB)\n     ━━━━━━━━━━━━━━━━━━━━━━━━━━━━━━━━━━━━━━━━ 1.8/1.8 MB 53.6 MB/s eta 0:00:00\n  Downloading langchain_community-0.0.24-py3-none-any.whl (1.7 MB)\n     ━━━━━━━━━━━━━━━━━━━━━━━━━━━━━━━━━━━━━━━━ 1.7/1.7 MB 51.9 MB/s eta 0:00:00\n  Downloading langchain_community-0.0.23-py3-none-any.whl (1.7 MB)\n     ━━━━━━━━━━━━━━━━━━━━━━━━━━━━━━━━━━━━━━━━ 1.7/1.7 MB 52.6 MB/s eta 0:00:00\n  Downloading langchain_community-0.0.22-py3-none-any.whl (1.7 MB)\n     ━━━━━━━━━━━━━━━━━━━━━━━━━━━━━━━━━━━━━━━━ 1.7/1.7 MB 51.7 MB/s eta 0:00:00\n  Downloading langchain_community-0.0.21-py3-none-any.whl (1.7 MB)\n     ━━━━━━━━━━━━━━━━━━━━━━━━━━━━━━━━━━━━━━━━ 1.7/1.7 MB 52.8 MB/s eta 0:00:00\n  Downloading langchain_community-0.0.20-py3-none-any.whl (1.7 MB)\n     ━━━━━━━━━━━━━━━━━━━━━━━━━━━━━━━━━━━━━━━━ 1.7/1.7 MB 53.2 MB/s eta 0:00:00\nCollecting langchain-core<0.2,>=0.1.22\n  Downloading langchain_core-0.1.51-py3-none-any.whl (302 kB)\n     ━━━━━━━━━━━━━━━━━━━━━━━━━━━━━━━━━━━━━━ 302.9/302.9 kB 17.4 MB/s eta 0:00:00\n  Downloading langchain_core-0.1.50-py3-none-any.whl (302 kB)\n     ━━━━━━━━━━━━━━━━━━━━━━━━━━━━━━━━━━━━━━ 302.8/302.8 kB 24.4 MB/s eta 0:00:00\n  Downloading langchain_core-0.1.49-py3-none-any.whl (303 kB)\n     ━━━━━━━━━━━━━━━━━━━━━━━━━━━━━━━━━━━━━━ 303.0/303.0 kB 23.3 MB/s eta 0:00:00\n  Downloading langchain_core-0.1.48-py3-none-any.whl (302 kB)\n     ━━━━━━━━━━━━━━━━━━━━━━━━━━━━━━━━━━━━━━ 302.9/302.9 kB 23.9 MB/s eta 0:00:00\n  Downloading langchain_core-0.1.47-py3-none-any.whl (302 kB)\n     ━━━━━━━━━━━━━━━━━━━━━━━━━━━━━━━━━━━━━━ 302.2/302.2 kB 24.4 MB/s eta 0:00:00\n  Downloading langchain_core-0.1.46-py3-none-any.whl (299 kB)\n     ━━━━━━━━━━━━━━━━━━━━━━━━━━━━━━━━━━━━━━ 299.3/299.3 kB 21.8 MB/s eta 0:00:00\n  Downloading langchain_core-0.1.45-py3-none-any.whl (291 kB)\n     ━━━━━━━━━━━━━━━━━━━━━━━━━━━━━━━━━━━━━━ 291.3/291.3 kB 22.8 MB/s eta 0:00:00\n  Downloading langchain_core-0.1.44-py3-none-any.whl (290 kB)\n     ━━━━━━━━━━━━━━━━━━━━━━━━━━━━━━━━━━━━━━ 290.2/290.2 kB 23.3 MB/s eta 0:00:00\n  Downloading langchain_core-0.1.43-py3-none-any.whl (289 kB)\n     ━━━━━━━━━━━━━━━━━━━━━━━━━━━━━━━━━━━━━━ 289.1/289.1 kB 23.5 MB/s eta 0:00:00\n  Downloading langchain_core-0.1.42-py3-none-any.whl (287 kB)\n     ━━━━━━━━━━━━━━━━━━━━━━━━━━━━━━━━━━━━━━ 287.5/287.5 kB 24.1 MB/s eta 0:00:00\n  Downloading langchain_core-0.1.41-py3-none-any.whl (278 kB)\n     ━━━━━━━━━━━━━━━━━━━━━━━━━━━━━━━━━━━━━━ 278.4/278.4 kB 23.7 MB/s eta 0:00:00\n  Downloading langchain_core-0.1.40-py3-none-any.whl (276 kB)\n     ━━━━━━━━━━━━━━━━━━━━━━━━━━━━━━━━━━━━━━ 276.8/276.8 kB 23.1 MB/s eta 0:00:00\n  Downloading langchain_core-0.1.39-py3-none-any.whl (276 kB)\n     ━━━━━━━━━━━━━━━━━━━━━━━━━━━━━━━━━━━━━━ 276.6/276.6 kB 21.7 MB/s eta 0:00:00\n  Downloading langchain_core-0.1.38-py3-none-any.whl (279 kB)\n     ━━━━━━━━━━━━━━━━━━━━━━━━━━━━━━━━━━━━━━ 279.2/279.2 kB 22.1 MB/s eta 0:00:00\n  Downloading langchain_core-0.1.37-py3-none-any.whl (274 kB)\n     ━━━━━━━━━━━━━━━━━━━━━━━━━━━━━━━━━━━━━━ 274.6/274.6 kB 21.7 MB/s eta 0:00:00\n  Downloading langchain_core-0.1.36-py3-none-any.whl (273 kB)\n     ━━━━━━━━━━━━━━━━━━━━━━━━━━━━━━━━━━━━━━ 273.9/273.9 kB 21.9 MB/s eta 0:00:00\n  Downloading langchain_core-0.1.35-py3-none-any.whl (273 kB)\n     ━━━━━━━━━━━━━━━━━━━━━━━━━━━━━━━━━━━━━━ 273.0/273.0 kB 22.2 MB/s eta 0:00:00\n  Downloading langchain_core-0.1.34-py3-none-any.whl (271 kB)\n     ━━━━━━━━━━━━━━━━━━━━━━━━━━━━━━━━━━━━━━ 271.6/271.6 kB 22.5 MB/s eta 0:00:00\n  Downloading langchain_core-0.1.33-py3-none-any.whl (269 kB)\n     ━━━━━━━━━━━━━━━━━━━━━━━━━━━━━━━━━━━━━━ 269.1/269.1 kB 22.8 MB/s eta 0:00:00\n  Downloading langchain_core-0.1.32-py3-none-any.whl (260 kB)\n     ━━━━━━━━━━━━━━━━━━━━━━━━━━━━━━━━━━━━━━ 260.9/260.9 kB 22.7 MB/s eta 0:00:00\n  Downloading langchain_core-0.1.31-py3-none-any.whl (258 kB)\n     ━━━━━━━━━━━━━━━━━━━━━━━━━━━━━━━━━━━━━━ 258.8/258.8 kB 21.4 MB/s eta 0:00:00\n  Downloading langchain_core-0.1.30-py3-none-any.whl (256 kB)\n     ━━━━━━━━━━━━━━━━━━━━━━━━━━━━━━━━━━━━━━ 256.9/256.9 kB 21.7 MB/s eta 0:00:00\n  Downloading langchain_core-0.1.29-py3-none-any.whl (252 kB)\n     ━━━━━━━━━━━━━━━━━━━━━━━━━━━━━━━━━━━━━━ 252.6/252.6 kB 20.4 MB/s eta 0:00:00\n  Downloading langchain_core-0.1.28-py3-none-any.whl (252 kB)\n     ━━━━━━━━━━━━━━━━━━━━━━━━━━━━━━━━━━━━━━ 252.4/252.4 kB 20.7 MB/s eta 0:00:00\n  Downloading langchain_core-0.1.27-py3-none-any.whl (250 kB)\n     ━━━━━━━━━━━━━━━━━━━━━━━━━━━━━━━━━━━━━━ 250.8/250.8 kB 22.7 MB/s eta 0:00:00\n  Downloading langchain_core-0.1.26-py3-none-any.whl (246 kB)\n     ━━━━━━━━━━━━━━━━━━━━━━━━━━━━━━━━━━━━━━ 246.4/246.4 kB 22.5 MB/s eta 0:00:00\n  Downloading langchain_core-0.1.25-py3-none-any.whl (242 kB)\n     ━━━━━━━━━━━━━━━━━━━━━━━━━━━━━━━━━━━━━━ 242.1/242.1 kB 21.7 MB/s eta 0:00:00\n  Downloading langchain_core-0.1.24-py3-none-any.whl (241 kB)\n     ━━━━━━━━━━━━━━━━━━━━━━━━━━━━━━━━━━━━━━ 241.3/241.3 kB 20.8 MB/s eta 0:00:00\n  Downloading langchain_core-0.1.23-py3-none-any.whl (241 kB)\n     ━━━━━━━━━━━━━━━━━━━━━━━━━━━━━━━━━━━━━━ 241.2/241.2 kB 21.2 MB/s eta 0:00:00\nCollecting langsmith<0.1,>=0.0.83\n  Downloading langsmith-0.0.87-py3-none-any.whl (55 kB)\n     ━━━━━━━━━━━━━━━━━━━━━━━━━━━━━━━━━━━━━━━━ 55.4/55.4 kB 5.6 MB/s eta 0:00:00\nRequirement already satisfied: anyio<5,>=3 in /databricks/python3/lib/python3.10/site-packages (from langchain-core<0.2,>=0.1.22->langchain==0.1.6) (3.5.0)\nRequirement already satisfied: packaging<24.0,>=23.2 in /databricks/python3/lib/python3.10/site-packages (from langchain-core<0.2,>=0.1.22->langchain==0.1.6) (23.2)\nRequirement already satisfied: typing-extensions>=4.2.0 in /local_disk0/.ephemeral_nfs/envs/pythonEnv-46bde175-e982-4894-8e15-f6fb35a2477d/lib/python3.10/site-packages (from pydantic<3,>=1->langchain==0.1.6) (4.12.2)\nRequirement already satisfied: certifi>=2017.4.17 in /databricks/python3/lib/python3.10/site-packages (from requests<3,>=2->langchain==0.1.6) (2022.12.7)\nRequirement already satisfied: idna<4,>=2.5 in /databricks/python3/lib/python3.10/site-packages (from requests<3,>=2->langchain==0.1.6) (3.4)\nRequirement already satisfied: urllib3<1.27,>=1.21.1 in /databricks/python3/lib/python3.10/site-packages (from requests<3,>=2->langchain==0.1.6) (1.26.14)\nRequirement already satisfied: charset-normalizer<3,>=2 in /databricks/python3/lib/python3.10/site-packages (from requests<3,>=2->langchain==0.1.6) (2.0.4)\nCollecting greenlet!=0.4.17\n  Downloading greenlet-3.0.3-cp310-cp310-manylinux_2_24_x86_64.manylinux_2_28_x86_64.whl (616 kB)\n     ━━━━━━━━━━━━━━━━━━━━━━━━━━━━━━━━━━━━━━ 616.0/616.0 kB 34.6 MB/s eta 0:00:00\nRequirement already satisfied: sniffio>=1.1 in /databricks/python3/lib/python3.10/site-packages (from anyio<5,>=3->langchain-core<0.2,>=0.1.22->langchain==0.1.6) (1.2.0)\nRequirement already satisfied: mypy-extensions>=0.3.0 in /databricks/python3/lib/python3.10/site-packages (from typing-inspect<1,>=0.4.0->dataclasses-json<0.7,>=0.5.7->langchain==0.1.6) (0.4.3)\nBuilding wheels for collected packages: SQLAlchemy\n  Building wheel for SQLAlchemy (pyproject.toml): started\n  Building wheel for SQLAlchemy (pyproject.toml): finished with status 'done'\n  Created wheel for SQLAlchemy: filename=SQLAlchemy-2.0.32-cp310-cp310-linux_x86_64.whl size=2638117 sha256=2166b81c6de263854e0904ea55abaf7e9eb1a3916acb36051e42470f8ba00b42\n  Stored in directory: /home/spark-46bde175-e982-4894-8e15-f6/.cache/pip/wheels/48/e3/da/d6b0f0a34a58722d3215d643d1125f8c53e48de807feeb27c8\nSuccessfully built SQLAlchemy\nInstalling collected packages: typing-inspect, PyYAML, multidict, marshmallow, jsonpointer, greenlet, frozenlist, async-timeout, aiohappyeyeballs, yarl, SQLAlchemy, langsmith, jsonpatch, dataclasses-json, aiosignal, langchain-core, aiohttp, langchain-community, langchain\nSuccessfully installed PyYAML-6.0.1 SQLAlchemy-2.0.32 aiohappyeyeballs-2.3.4 aiohttp-3.10.1 aiosignal-1.3.1 async-timeout-4.0.3 dataclasses-json-0.6.7 frozenlist-1.4.1 greenlet-3.0.3 jsonpatch-1.33 jsonpointer-3.0.0 langchain-0.1.6 langchain-community-0.0.20 langchain-core-0.1.23 langsmith-0.0.87 marshmallow-3.21.3 multidict-6.0.5 typing-inspect-0.9.0 yarl-1.9.4\n\u001b[43mNote: you may need to restart the kernel using dbutils.library.restartPython() to use updated packages.\u001b[0m\n\u001b[43mNote: you may need to restart the kernel using dbutils.library.restartPython() to use updated packages.\u001b[0m\nCollecting python-docx\n  Downloading python_docx-1.1.2-py3-none-any.whl (244 kB)\n     ━━━━━━━━━━━━━━━━━━━━━━━━━━━━━━━━━━━━━━━ 244.3/244.3 kB 2.5 MB/s eta 0:00:00\nRequirement already satisfied: lxml>=3.1.0 in /databricks/python3/lib/python3.10/site-packages (from python-docx) (4.9.1)\nRequirement already satisfied: typing-extensions>=4.9.0 in /local_disk0/.ephemeral_nfs/envs/pythonEnv-46bde175-e982-4894-8e15-f6fb35a2477d/lib/python3.10/site-packages (from python-docx) (4.12.2)\nInstalling collected packages: python-docx\nSuccessfully installed python-docx-1.1.2\n\u001b[43mNote: you may need to restart the kernel using dbutils.library.restartPython() to use updated packages.\u001b[0m\n\u001b[43mNote: you may need to restart the kernel using dbutils.library.restartPython() to use updated packages.\u001b[0m\nCollecting azure-core==1.30.0\n  Downloading azure_core-1.30.0-py3-none-any.whl (193 kB)\n     ━━━━━━━━━━━━━━━━━━━━━━━━━━━━━━━━━━━━━━━ 193.4/193.4 kB 1.9 MB/s eta 0:00:00\nRequirement already satisfied: typing-extensions>=4.6.0 in /local_disk0/.ephemeral_nfs/envs/pythonEnv-46bde175-e982-4894-8e15-f6fb35a2477d/lib/python3.10/site-packages (from azure-core==1.30.0) (4.12.2)\nRequirement already satisfied: requests>=2.21.0 in /databricks/python3/lib/python3.10/site-packages (from azure-core==1.30.0) (2.28.1)\nRequirement already satisfied: six>=1.11.0 in /usr/lib/python3/dist-packages (from azure-core==1.30.0) (1.16.0)\nRequirement already satisfied: idna<4,>=2.5 in /databricks/python3/lib/python3.10/site-packages (from requests>=2.21.0->azure-core==1.30.0) (3.4)\nRequirement already satisfied: charset-normalizer<3,>=2 in /databricks/python3/lib/python3.10/site-packages (from requests>=2.21.0->azure-core==1.30.0) (2.0.4)\nRequirement already satisfied: urllib3<1.27,>=1.21.1 in /databricks/python3/lib/python3.10/site-packages (from requests>=2.21.0->azure-core==1.30.0) (1.26.14)\nRequirement already satisfied: certifi>=2017.4.17 in /databricks/python3/lib/python3.10/site-packages (from requests>=2.21.0->azure-core==1.30.0) (2022.12.7)\nInstalling collected packages: azure-core\n  Attempting uninstall: azure-core\n    Found existing installation: azure-core 1.30.2\n    Uninstalling azure-core-1.30.2:\n      Successfully uninstalled azure-core-1.30.2\nSuccessfully installed azure-core-1.30.0\n\u001b[43mNote: you may need to restart the kernel using dbutils.library.restartPython() to use updated packages.\u001b[0m\n\u001b[43mNote: you may need to restart the kernel using dbutils.library.restartPython() to use updated packages.\u001b[0m\nCollecting azure-search-documents==11.4.0\n  Downloading azure_search_documents-11.4.0-py3-none-any.whl (283 kB)\n     ━━━━━━━━━━━━━━━━━━━━━━━━━━━━━━━━━━━━━━━ 283.8/283.8 kB 2.6 MB/s eta 0:00:00\nRequirement already satisfied: isodate>=0.6.0 in /local_disk0/.ephemeral_nfs/envs/pythonEnv-46bde175-e982-4894-8e15-f6fb35a2477d/lib/python3.10/site-packages (from azure-search-documents==11.4.0) (0.6.1)\nRequirement already satisfied: azure-core<2.0.0,>=1.28.0 in /local_disk0/.ephemeral_nfs/envs/pythonEnv-46bde175-e982-4894-8e15-f6fb35a2477d/lib/python3.10/site-packages (from azure-search-documents==11.4.0) (1.30.0)\nCollecting azure-common~=1.1\n  Downloading azure_common-1.1.28-py2.py3-none-any.whl (14 kB)\nRequirement already satisfied: typing-extensions>=4.6.0 in /local_disk0/.ephemeral_nfs/envs/pythonEnv-46bde175-e982-4894-8e15-f6fb35a2477d/lib/python3.10/site-packages (from azure-core<2.0.0,>=1.28.0->azure-search-documents==11.4.0) (4.12.2)\nRequirement already satisfied: requests>=2.21.0 in /databricks/python3/lib/python3.10/site-packages (from azure-core<2.0.0,>=1.28.0->azure-search-documents==11.4.0) (2.28.1)\nRequirement already satisfied: six>=1.11.0 in /usr/lib/python3/dist-packages (from azure-core<2.0.0,>=1.28.0->azure-search-documents==11.4.0) (1.16.0)\nRequirement already satisfied: idna<4,>=2.5 in /databricks/python3/lib/python3.10/site-packages (from requests>=2.21.0->azure-core<2.0.0,>=1.28.0->azure-search-documents==11.4.0) (3.4)\nRequirement already satisfied: urllib3<1.27,>=1.21.1 in /databricks/python3/lib/python3.10/site-packages (from requests>=2.21.0->azure-core<2.0.0,>=1.28.0->azure-search-documents==11.4.0) (1.26.14)\nRequirement already satisfied: certifi>=2017.4.17 in /databricks/python3/lib/python3.10/site-packages (from requests>=2.21.0->azure-core<2.0.0,>=1.28.0->azure-search-documents==11.4.0) (2022.12.7)\nRequirement already satisfied: charset-normalizer<3,>=2 in /databricks/python3/lib/python3.10/site-packages (from requests>=2.21.0->azure-core<2.0.0,>=1.28.0->azure-search-documents==11.4.0) (2.0.4)\nInstalling collected packages: azure-common, azure-search-documents\nSuccessfully installed azure-common-1.1.28 azure-search-documents-11.4.0\n\u001b[43mNote: you may need to restart the kernel using dbutils.library.restartPython() to use updated packages.\u001b[0m\n\u001b[43mNote: you may need to restart the kernel using dbutils.library.restartPython() to use updated packages.\u001b[0m\nCollecting pymupdf\n  Downloading PyMuPDF-1.24.9-cp310-none-manylinux2014_x86_64.whl (3.5 MB)\n     ━━━━━━━━━━━━━━━━━━━━━━━━━━━━━━━━━━━━━━━━ 3.5/3.5 MB 14.3 MB/s eta 0:00:00\nCollecting PyMuPDFb==1.24.9\n  Downloading PyMuPDFb-1.24.9-py3-none-manylinux2014_x86_64.manylinux_2_17_x86_64.whl (15.9 MB)\n     ━━━━━━━━━━━━━━━━━━━━━━━━━━━━━━━━━━━━━━━━ 15.9/15.9 MB 45.5 MB/s eta 0:00:00\nInstalling collected packages: PyMuPDFb, pymupdf\nSuccessfully installed PyMuPDFb-1.24.9 pymupdf-1.24.9\n\u001b[43mNote: you may need to restart the kernel using dbutils.library.restartPython() to use updated packages.\u001b[0m\n\u001b[43mNote: you may need to restart the kernel using dbutils.library.restartPython() to use updated packages.\u001b[0m\nCollecting pymupdf4llm\n  Downloading pymupdf4llm-0.0.10-py3-none-any.whl (22 kB)\nRequirement already satisfied: pymupdf>=1.24.2 in /local_disk0/.ephemeral_nfs/envs/pythonEnv-46bde175-e982-4894-8e15-f6fb35a2477d/lib/python3.10/site-packages (from pymupdf4llm) (1.24.9)\nRequirement already satisfied: PyMuPDFb==1.24.9 in /local_disk0/.ephemeral_nfs/envs/pythonEnv-46bde175-e982-4894-8e15-f6fb35a2477d/lib/python3.10/site-packages (from pymupdf>=1.24.2->pymupdf4llm) (1.24.9)\nInstalling collected packages: pymupdf4llm\nSuccessfully installed pymupdf4llm-0.0.10\n\u001b[43mNote: you may need to restart the kernel using dbutils.library.restartPython() to use updated packages.\u001b[0m\n\u001b[43mNote: you may need to restart the kernel using dbutils.library.restartPython() to use updated packages.\u001b[0m\nCollecting python-pptx\n  Downloading python_pptx-1.0.1-py3-none-any.whl (472 kB)\n     ━━━━━━━━━━━━━━━━━━━━━━━━━━━━━━━━━━━━━━━ 472.4/472.4 kB 3.4 MB/s eta 0:00:00\nRequirement already satisfied: Pillow>=3.3.2 in /databricks/python3/lib/python3.10/site-packages (from python-pptx) (9.4.0)\nCollecting XlsxWriter>=0.5.7\n  Downloading XlsxWriter-3.2.0-py3-none-any.whl (159 kB)\n     ━━━━━━━━━━━━━━━━━━━━━━━━━━━━━━━━━━━━━━ 159.9/159.9 kB 13.8 MB/s eta 0:00:00\nRequirement already satisfied: lxml>=3.1.0 in /databricks/python3/lib/python3.10/site-packages (from python-pptx) (4.9.1)\nRequirement already satisfied: typing-extensions>=4.9.0 in /local_disk0/.ephemeral_nfs/envs/pythonEnv-46bde175-e982-4894-8e15-f6fb35a2477d/lib/python3.10/site-packages (from python-pptx) (4.12.2)\nInstalling collected packages: XlsxWriter, python-pptx\nSuccessfully installed XlsxWriter-3.2.0 python-pptx-1.0.1\n\u001b[43mNote: you may need to restart the kernel using dbutils.library.restartPython() to use updated packages.\u001b[0m\n\u001b[43mNote: you may need to restart the kernel using dbutils.library.restartPython() to use updated packages.\u001b[0m\nCollecting openai\n  Downloading openai-1.39.0-py3-none-any.whl (336 kB)\n     ━━━━━━━━━━━━━━━━━━━━━━━━━━━━━━━━━━━━━━━ 336.7/336.7 kB 2.7 MB/s eta 0:00:00\nRequirement already satisfied: pydantic<3,>=1.9.0 in /databricks/python3/lib/python3.10/site-packages (from openai) (1.10.6)\nRequirement already satisfied: anyio<5,>=3.5.0 in /databricks/python3/lib/python3.10/site-packages (from openai) (3.5.0)\nRequirement already satisfied: sniffio in /databricks/python3/lib/python3.10/site-packages (from openai) (1.2.0)\nCollecting tqdm>4\n  Downloading tqdm-4.66.5-py3-none-any.whl (78 kB)\n     ━━━━━━━━━━━━━━━━━━━━━━━━━━━━━━━━━━━━━━━━ 78.4/78.4 kB 8.0 MB/s eta 0:00:00\nRequirement already satisfied: distro<2,>=1.7.0 in /usr/lib/python3/dist-packages (from openai) (1.7.0)\nCollecting httpx<1,>=0.23.0\n  Downloading httpx-0.27.0-py3-none-any.whl (75 kB)\n     ━━━━━━━━━━━━━━━━━━━━━━━━━━━━━━━━━━━━━━━━ 75.6/75.6 kB 6.1 MB/s eta 0:00:00\nRequirement already satisfied: typing-extensions<5,>=4.7 in /local_disk0/.ephemeral_nfs/envs/pythonEnv-46bde175-e982-4894-8e15-f6fb35a2477d/lib/python3.10/site-packages (from openai) (4.12.2)\nRequirement already satisfied: idna>=2.8 in /databricks/python3/lib/python3.10/site-packages (from anyio<5,>=3.5.0->openai) (3.4)\nRequirement already satisfied: certifi in /databricks/python3/lib/python3.10/site-packages (from httpx<1,>=0.23.0->openai) (2022.12.7)\nCollecting httpcore==1.*\n  Downloading httpcore-1.0.5-py3-none-any.whl (77 kB)\n     ━━━━━━━━━━━━━━━━━━━━━━━━━━━━━━━━━━━━━━━━ 77.9/77.9 kB 8.1 MB/s eta 0:00:00\nCollecting h11<0.15,>=0.13\n  Downloading h11-0.14.0-py3-none-any.whl (58 kB)\n     ━━━━━━━━━━━━━━━━━━━━━━━━━━━━━━━━━━━━━━━━ 58.3/58.3 kB 6.2 MB/s eta 0:00:00\nInstalling collected packages: tqdm, h11, httpcore, httpx, openai\nSuccessfully installed h11-0.14.0 httpcore-1.0.5 httpx-0.27.0 openai-1.39.0 tqdm-4.66.5\n\u001b[43mNote: you may need to restart the kernel using dbutils.library.restartPython() to use updated packages.\u001b[0m\n"
          ]
        }
      ],
      "source": [
        "!pip install azure-identity==1.15.0\n",
        "!pip install tiktoken\n",
        "!pip install fitz\n",
        "!pip install langchain==0.1.6\n",
        "!pip install python-docx\n",
        "!pip install azure-core==1.30.0\n",
        "!pip install azure-search-documents==11.4.0\n",
        "!pip install pymupdf\n",
        "!pip install pymupdf4llm\n",
        "!pip install python-pptx\n",
        "!pip install openai"
      ]
    },
    {
      "cell_type": "code",
      "execution_count": null,
      "metadata": {
        "application/vnd.databricks.v1+cell": {
          "cellMetadata": {
            "byteLimit": 2048000,
            "rowLimit": 10000
          },
          "inputWidgets": {},
          "nuid": "3243b5c3-9db8-4de4-83aa-474c6c38af7d",
          "showTitle": false,
          "title": ""
        },
        "id": "b7n07hMXZk45"
      },
      "outputs": [],
      "source": [
        "dbutils.library.restartPython()"
      ]
    },
    {
      "cell_type": "markdown",
      "metadata": {
        "application/vnd.databricks.v1+cell": {
          "cellMetadata": {},
          "inputWidgets": {},
          "nuid": "00932643-e7e4-4a65-879d-4a2b24f8d668",
          "showTitle": false,
          "title": ""
        },
        "id": "5NKd6sRmZk46"
      },
      "source": [
        "Instantiate index, read in documents, convert them to text, chunk them, convert them to JSON"
      ]
    },
    {
      "cell_type": "code",
      "execution_count": null,
      "metadata": {
        "application/vnd.databricks.v1+cell": {
          "cellMetadata": {
            "byteLimit": 2048000,
            "rowLimit": 10000
          },
          "inputWidgets": {},
          "nuid": "c37c5ff3-088c-4e35-bc77-cbb00accc706",
          "showTitle": false,
          "title": ""
        },
        "id": "nBDTvlK0Zk46",
        "outputId": "d7f9f81a-032e-4364-ec03-735d2868bc28"
      },
      "outputs": [
        {
          "output_type": "stream",
          "name": "stderr",
          "text": [
            "keyword_field is not a known attribute of class <class 'azure.search.documents.indexes._generated.models._models_py3.SemanticPrioritizedFields'> and will be ignored\n"
          ]
        },
        {
          "output_type": "stream",
          "name": "stdout",
          "text": [
            "idxmkdownandmupdf index created or updated\n/Volumes/prod/sb_llm_assets/alliedtechpub/06428D460_06428D460-KIT_000.pdf\nTotal tokens: 1462\nStart: 0, End: 1462, Chunk Length: 3955\nReached the end of tokens.\n/Volumes/prod/sb_llm_assets/alliedtechpub/0658688-00.pdf\nTotal tokens: 7829\nStart: 0, End: 4000, Chunk Length: 18255\nStart: 4000, End: 7829, Chunk Length: 16759\nReached the end of tokens.\n/Volumes/prod/sb_llm_assets/alliedtechpub/0658688-01.pdf\nTotal tokens: 7533\nStart: 0, End: 4000, Chunk Length: 18104\nStart: 4000, End: 7533, Chunk Length: 15757\nReached the end of tokens.\n/Volumes/prod/sb_llm_assets/alliedtechpub/0659140-00.pdf\nTotal tokens: 3898\nStart: 0, End: 3898, Chunk Length: 18038\nReached the end of tokens.\n/Volumes/prod/sb_llm_assets/alliedtechpub/0673501-00_507792-01 issue 1810_507792-01_001.pdf\nTotal tokens: 5029\nStart: 0, End: 4000, Chunk Length: 15267\nStart: 4000, End: 5029, Chunk Length: 4407\nReached the end of tokens.\n/Volumes/prod/sb_llm_assets/alliedtechpub/0673501-00_507792-01 issue 1835_507792-01_002.pdf\nTotal tokens: 5183\nStart: 0, End: 4000, Chunk Length: 15502\nStart: 4000, End: 5183, Chunk Length: 4668\nReached the end of tokens.\nUploaded documents 1 to 10 (total: 10)\nAll documents uploaded successfully\n/Volumes/prod/sb_llm_assets/alliedtechpub/0673501-00_507792-01 issue 1948_507792-01_003.pdf\nTotal tokens: 5192\nStart: 0, End: 4000, Chunk Length: 15531\nStart: 4000, End: 5192, Chunk Length: 4681\nReached the end of tokens.\n/Volumes/prod/sb_llm_assets/alliedtechpub/0673501-00_507792-01_507792-01_000.pdf\nTotal tokens: 5107\nStart: 0, End: 4000, Chunk Length: 15457\nStart: 4000, End: 5107, Chunk Length: 4540\nReached the end of tokens.\n/Volumes/prod/sb_llm_assets/alliedtechpub/0673567-00_507795-01 issue 1741_507795-01_001.pdf\nTotal tokens: 4136\nStart: 0, End: 4000, Chunk Length: 13137\nStart: 4000, End: 4136, Chunk Length: 569\nReached the end of tokens.\n/Volumes/prod/sb_llm_assets/alliedtechpub/0673567-00_507795-01 issue 1810_507795-01_002.pdf\nTotal tokens: 4107\nStart: 0, End: 4000, Chunk Length: 13109\nStart: 4000, End: 4107, Chunk Length: 458\nReached the end of tokens.\n/Volumes/prod/sb_llm_assets/alliedtechpub/0674398-00_507792-01B issue 1835_507792-01B_000.pdf\nTotal tokens: 5090\nStart: 0, End: 4000, Chunk Length: 15350\nStart: 4000, End: 5090, Chunk Length: 4513\nReached the end of tokens.\nUploaded documents 1 to 10 (total: 10)\nAll documents uploaded successfully\n/Volumes/prod/sb_llm_assets/alliedtechpub/0674398-00_507792-01B issue 1948_507792-01B_001.pdf\nTotal tokens: 5107\nStart: 0, End: 4000, Chunk Length: 15402\nStart: 4000, End: 5107, Chunk Length: 4540\nReached the end of tokens.\n/Volumes/prod/sb_llm_assets/alliedtechpub/0674708-00_507792-01C issue 1835_507792-01C_000.pdf\nTotal tokens: 4676\nStart: 0, End: 4000, Chunk Length: 15415\nStart: 4000, End: 4676, Chunk Length: 3010\nReached the end of tokens.\n/Volumes/prod/sb_llm_assets/alliedtechpub/0674708-00_507792-01C issue 1948_507792-01C_001.pdf\nTotal tokens: 4696\nStart: 0, End: 4000, Chunk Length: 15405\nStart: 4000, End: 4696, Chunk Length: 3094\nReached the end of tokens.\n/Volumes/prod/sb_llm_assets/alliedtechpub/100402-05.pdf\nTotal tokens: 6870\nStart: 0, End: 4000, Chunk Length: 16156\nStart: 4000, End: 6870, Chunk Length: 13206\nReached the end of tokens.\n/Volumes/prod/sb_llm_assets/alliedtechpub/100402-06.pdf\nTotal tokens: 5335\nStart: 0, End: 4000, Chunk Length: 15859\nStart: 4000, End: 5335, Chunk Length: 5350\nReached the end of tokens.\nUploaded documents 1 to 10 (total: 10)\nAll documents uploaded successfully\n/Volumes/prod/sb_llm_assets/alliedtechpub/100402-07.pdf\nTotal tokens: 14743\nStart: 0, End: 4000, Chunk Length: 15619\nStart: 4000, End: 8000, Chunk Length: 15961\nStart: 8000, End: 12000, Chunk Length: 8460\nStart: 12000, End: 14743, Chunk Length: 13059\nReached the end of tokens.\n/Volumes/prod/sb_llm_assets/alliedtechpub/100660-01.pdF\nError using pymupdf4llm: 'Quad' object has no attribute 'tl'. Falling back to pymupdf.\nTotal tokens: 23981\nStart: 0, End: 4000, Chunk Length: 17892\nStart: 4000, End: 8000, Chunk Length: 14464\nStart: 8000, End: 12000, Chunk Length: 16378\nStart: 12000, End: 16000, Chunk Length: 16563\nStart: 16000, End: 20000, Chunk Length: 15757\nStart: 20000, End: 23981, Chunk Length: 15809\nReached the end of tokens.\nUploaded documents 1 to 10 (total: 10)\nAll documents uploaded successfully\n/Volumes/prod/sb_llm_assets/alliedtechpub/100861-02.pdf\nTotal tokens: 702\nStart: 0, End: 702, Chunk Length: 2624\nReached the end of tokens.\n/Volumes/prod/sb_llm_assets/alliedtechpub/100861-03.pdf\nTotal tokens: 1085\nStart: 0, End: 1085, Chunk Length: 4308\nReached the end of tokens.\n/Volumes/prod/sb_llm_assets/alliedtechpub/100861-06.pdf\nTotal tokens: 691\nStart: 0, End: 691, Chunk Length: 2906\nReached the end of tokens.\n/Volumes/prod/sb_llm_assets/alliedtechpub/100861-07.pdf\nTotal tokens: 607\nStart: 0, End: 607, Chunk Length: 2536\nReached the end of tokens.\n/Volumes/prod/sb_llm_assets/alliedtechpub/1067629~507923-02 03-2021.pdf\nTotal tokens: 2705\nStart: 0, End: 2705, Chunk Length: 13696\nReached the end of tokens.\n/Volumes/prod/sb_llm_assets/alliedtechpub/1067630~80G2E-100_04-2021.pdf\nError using pymupdf4llm: 'Quad' object has no attribute 'tl'. Falling back to pymupdf.\nTotal tokens: 8924\nStart: 0, End: 4000, Chunk Length: 9062\nStart: 4000, End: 8000, Chunk Length: 8243\nStart: 8000, End: 8924, Chunk Length: 2034\nReached the end of tokens.\n/Volumes/prod/sb_llm_assets/alliedtechpub/1067631~A802E-100_04-2021.pdf\nError using pymupdf4llm: 'Quad' object has no attribute 'tl'. Falling back to pymupdf.\nTotal tokens: 6869\nStart: 0, End: 4000, Chunk Length: 9096\nStart: 4000, End: 6869, Chunk Length: 6334\nReached the end of tokens.\nUploaded documents 1 to 10 (total: 10)\nAll documents uploaded successfully\n/Volumes/prod/sb_llm_assets/alliedtechpub/1067632~508145-01 issue 2108.pdf\nTotal tokens: 26233\nStart: 0, End: 4000, Chunk Length: 17683\nStart: 4000, End: 8000, Chunk Length: 15819\nStart: 8000, End: 12000, Chunk Length: 13978\nStart: 12000, End: 16000, Chunk Length: 12929\nStart: 16000, End: 20000, Chunk Length: 15116\nStart: 20000, End: 24000, Chunk Length: 16402\nStart: 24000, End: 26233, Chunk Length: 7694\nReached the end of tokens.\n/Volumes/prod/sb_llm_assets/alliedtechpub/1067633~508144-01B issue 2108.pdf\nTotal tokens: 27034\nStart: 0, End: 4000, Chunk Length: 17800\nStart: 4000, End: 8000, Chunk Length: 15979\nStart: 8000, End: 12000, Chunk Length: 15821\nStart: 12000, End: 16000, Chunk Length: 13645\nStart: 16000, End: 20000, Chunk Length: 15252\nStart: 20000, End: 24000, Chunk Length: 16422\nStart: 24000, End: 27034, Chunk Length: 10246\nReached the end of tokens.\nUploaded documents 1 to 10 (total: 10)\nAll documents uploaded successfully\n/Volumes/prod/sb_llm_assets/alliedtechpub/1067633~508145-01B issue 2108.pdf\nTotal tokens: 26218\nStart: 0, End: 4000, Chunk Length: 17705\nStart: 4000, End: 8000, Chunk Length: 15813\nStart: 8000, End: 12000, Chunk Length: 13982\nStart: 12000, End: 16000, Chunk Length: 12935\nStart: 16000, End: 20000, Chunk Length: 15105\nStart: 20000, End: 24000, Chunk Length: 16451\nStart: 24000, End: 26218, Chunk Length: 7631\nReached the end of tokens.\nUploaded documents 1 to 10 (total: 10)\nAll documents uploaded successfully\n/Volumes/prod/sb_llm_assets/alliedtechpub/1067634~508144-01 issue 2108.pdf\nTotal tokens: 29039\nStart: 0, End: 4000, Chunk Length: 17374\nStart: 4000, End: 8000, Chunk Length: 16117\nStart: 8000, End: 12000, Chunk Length: 16295\nStart: 12000, End: 16000, Chunk Length: 13119\nStart: 16000, End: 20000, Chunk Length: 15334\nStart: 20000, End: 24000, Chunk Length: 15503\nStart: 24000, End: 28000, Chunk Length: 10931\nStart: 28000, End: 29039, Chunk Length: 4570\nReached the end of tokens.\n/Volumes/prod/sb_llm_assets/alliedtechpub/1067640~4SHP15LE-100_03-2020.pdf\nTotal tokens: 30287\nStart: 0, End: 4000, Chunk Length: 10748\nStart: 4000, End: 8000, Chunk Length: 6582\nStart: 8000, End: 12000, Chunk Length: 6970\nStart: 12000, End: 16000, Chunk Length: 6782\nStart: 16000, End: 20000, Chunk Length: 7116\nStart: 20000, End: 24000, Chunk Length: 7230\nStart: 24000, End: 28000, Chunk Length: 7073\nStart: 28000, End: 30287, Chunk Length: 4015\nReached the end of tokens.\nUploaded documents 1 to 10 (total: 10)\nAll documents uploaded successfully\n/Volumes/prod/sb_llm_assets/alliedtechpub/1067642~507314-01b.pdf\nTotal tokens: 2722\nStart: 0, End: 2722, Chunk Length: 9498\nReached the end of tokens.\n/Volumes/prod/sb_llm_assets/alliedtechpub/1067643~506202-02a.pdf\nTotal tokens: 3077\nStart: 0, End: 3077, Chunk Length: 9488\nReached the end of tokens.\n/Volumes/prod/sb_llm_assets/alliedtechpub/1067651~FLAGSHIP_PACKAGEDUNITS_PRPAC14-FER_SPECSHEET.pdf\nError using pymupdf4llm: 'Quad' object has no attribute 'tl'. Falling back to pymupdf.\nTotal tokens: 7317\nStart: 0, End: 4000, Chunk Length: 7532\nStart: 4000, End: 7317, Chunk Length: 7131\nReached the end of tokens.\nUploaded documents 1 to 10 (total: 10)\nAll documents uploaded successfully\n/Volumes/prod/sb_llm_assets/alliedtechpub/1067651~FLAGSHIP_PACKAGEDUNITS_PRPAC16-FER_SPECSHEET.pdf\nError using pymupdf4llm: 'Quad' object has no attribute 'tl'. Falling back to pymupdf.\nTotal tokens: 16752\nStart: 0, End: 4000, Chunk Length: 15313\nStart: 4000, End: 8000, Chunk Length: 7092\nStart: 8000, End: 12000, Chunk Length: 5998\nStart: 12000, End: 16000, Chunk Length: 7364\nStart: 16000, End: 16752, Chunk Length: 2114\nReached the end of tokens.\n/Volumes/prod/sb_llm_assets/alliedtechpub/1067651~FLAGSHIP_PACKAGEDUNITS_PRPDF16-FER_SPECSHEET.pdf\nError using pymupdf4llm: 'Quad' object has no attribute 'tl'. Falling back to pymupdf.\nTotal tokens: 16854\nStart: 0, End: 4000, Chunk Length: 16408\nStart: 4000, End: 8000, Chunk Length: 7486\nStart: 8000, End: 12000, Chunk Length: 6027\nStart: 12000, End: 16000, Chunk Length: 7947\nStart: 16000, End: 16854, Chunk Length: 2528\nReached the end of tokens.\nUploaded documents 1 to 10 (total: 10)\nAll documents uploaded successfully\n/Volumes/prod/sb_llm_assets/alliedtechpub/1067654~FLAGSHIP_PACKAGEDUNITS_PRPGE16-FER_SPECSHEET.pdf\nError using pymupdf4llm: 'Quad' object has no attribute 'tl'. Falling back to pymupdf.\nTotal tokens: 16823\nStart: 0, End: 4000, Chunk Length: 16346\nStart: 4000, End: 8000, Chunk Length: 7683\nStart: 8000, End: 12000, Chunk Length: 6042\nStart: 12000, End: 16000, Chunk Length: 8032\nStart: 16000, End: 16823, Chunk Length: 2450\nReached the end of tokens.\n/Volumes/prod/sb_llm_assets/alliedtechpub/1067654~FLAGSHIP_PACKAGEDUNITS_PRPHP16-FER_SPECSHEET.pdf\nError using pymupdf4llm: 'Quad' object has no attribute 'tl'. Falling back to pymupdf.\nTotal tokens: 17355\nStart: 0, End: 4000, Chunk Length: 15543\nStart: 4000, End: 8000, Chunk Length: 7944\nStart: 8000, End: 12000, Chunk Length: 5972\nStart: 12000, End: 16000, Chunk Length: 6546\nStart: 16000, End: 17355, Chunk Length: 3464\nReached the end of tokens.\nUploaded documents 1 to 10 (total: 10)\nAll documents uploaded successfully\n/Volumes/prod/sb_llm_assets/alliedtechpub/1067656~FLAGSHIP_PACKAGEDUNITS_PRPGE14-FER_SPECSHEET.pdf\nError using pymupdf4llm: 'Quad' object has no attribute 'tl'. Falling back to pymupdf.\nTotal tokens: 6411\nStart: 0, End: 4000, Chunk Length: 8116\nStart: 4000, End: 6411, Chunk Length: 6053\nReached the end of tokens.\n/Volumes/prod/sb_llm_assets/alliedtechpub/1067657~FLAGSHIP_PACKAGEDUNITS_PRPHP14-FER_SPECSHEET.pdf\nError using pymupdf4llm: 'Quad' object has no attribute 'tl'. Falling back to pymupdf.\nTotal tokens: 7729\nStart: 0, End: 4000, Chunk Length: 7769\nStart: 4000, End: 7729, Chunk Length: 7791\nReached the end of tokens.\n/Volumes/prod/sb_llm_assets/alliedtechpub/1067658~538164-01.pdf\nTotal tokens: 1\nStart: 0, End: 1, Chunk Length: 7\nReached the end of tokens.\n/Volumes/prod/sb_llm_assets/alliedtechpub/1067659~538165-01.pdf\nTotal tokens: 1\nStart: 0, End: 1, Chunk Length: 7\nReached the end of tokens.\n/Volumes/prod/sb_llm_assets/alliedtechpub/1067672~507338-02 issue 2118.pdf\nTotal tokens: 38342\nStart: 0, End: 4000, Chunk Length: 17267\nStart: 4000, End: 8000, Chunk Length: 16492\nStart: 8000, End: 12000, Chunk Length: 16724\nStart: 12000, End: 16000, Chunk Length: 10572\nStart: 16000, End: 20000, Chunk Length: 14988\nStart: 20000, End: 24000, Chunk Length: 12711\nStart: 24000, End: 28000, Chunk Length: 14652\nStart: 28000, End: 32000, Chunk Length: 15224\nStart: 32000, End: 36000, Chunk Length: 18460\nStart: 36000, End: 38342, Chunk Length: 9739\nReached the end of tokens.\nUploaded documents 1 to 10 (total: 10)\nAll documents uploaded successfully\n/Volumes/prod/sb_llm_assets/alliedtechpub/1067673~507340-02 issue 2118.pdf\nTotal tokens: 37427\nStart: 0, End: 4000, Chunk Length: 17537\nStart: 4000, End: 8000, Chunk Length: 15722\nStart: 8000, End: 12000, Chunk Length: 12624\nStart: 12000, End: 16000, Chunk Length: 12605\nStart: 16000, End: 20000, Chunk Length: 15268\nStart: 20000, End: 24000, Chunk Length: 14044\nStart: 24000, End: 28000, Chunk Length: 14884\nStart: 28000, End: 32000, Chunk Length: 16967\nStart: 32000, End: 36000, Chunk Length: 18099\nStart: 36000, End: 37427, Chunk Length: 6179\nReached the end of tokens.\nUploaded documents 1 to 10 (total: 10)\nAll documents uploaded successfully\n/Volumes/prod/sb_llm_assets/alliedtechpub/1067674~96G1E-100_05-2021.pdf\nTotal tokens: 6160\nStart: 0, End: 4000, Chunk Length: 9417\nStart: 4000, End: 6160, Chunk Length: 4268\nReached the end of tokens.\n/Volumes/prod/sb_llm_assets/alliedtechpub/1067674~A962E-100_05_2021.pdf\nTotal tokens: 7200\nStart: 0, End: 4000, Chunk Length: 9715\nStart: 4000, End: 7200, Chunk Length: 6750\nReached the end of tokens.\nUploaded documents 1 to 10 (total: 10)\nAll documents uploaded successfully\n/Volumes/prod/sb_llm_assets/alliedtechpub/1067702~508094-02 issue 2120.pdf\nTotal tokens: 979\nStart: 0, End: 979, Chunk Length: 4503\nReached the end of tokens.\n/Volumes/prod/sb_llm_assets/alliedtechpub/1067702~508095-02 issue 2120.pdf\nTotal tokens: 915\nStart: 0, End: 915, Chunk Length: 4160\nReached the end of tokens.\n/Volumes/prod/sb_llm_assets/alliedtechpub/1067704~507391-01 issue 2120.pdf\nTotal tokens: 2402\nStart: 0, End: 2402, Chunk Length: 11117\nReached the end of tokens.\n/Volumes/prod/sb_llm_assets/alliedtechpub/1067704~507859-01 issue 2120.pdf\nTotal tokens: 3181\nStart: 0, End: 3181, Chunk Length: 14430\nReached the end of tokens.\n/Volumes/prod/sb_llm_assets/alliedtechpub/1067706~507390-02 issue 2120.pdf\nTotal tokens: 5558\nStart: 0, End: 4000, Chunk Length: 15656\nStart: 4000, End: 5558, Chunk Length: 3857\nReached the end of tokens.\n/Volumes/prod/sb_llm_assets/alliedtechpub/1067707~508062-01 issue 2120.pdf\nTotal tokens: 3817\nStart: 0, End: 3817, Chunk Length: 9642\nReached the end of tokens.\n/Volumes/prod/sb_llm_assets/alliedtechpub/1067708~507388-03 issue 2120.pdf\nTotal tokens: 11150\nStart: 0, End: 4000, Chunk Length: 18268\nStart: 4000, End: 8000, Chunk Length: 12384\nStart: 8000, End: 11150, Chunk Length: 13494\nReached the end of tokens.\nUploaded documents 1 to 10 (total: 10)\nAll documents uploaded successfully\n/Volumes/prod/sb_llm_assets/alliedtechpub/1067708~507858-01 issue 2120.pdf\nTotal tokens: 18468\nStart: 0, End: 4000, Chunk Length: 17338\nStart: 4000, End: 8000, Chunk Length: 8828\nStart: 8000, End: 12000, Chunk Length: 8550\nStart: 12000, End: 16000, Chunk Length: 16355\nStart: 16000, End: 18468, Chunk Length: 5244\nReached the end of tokens.\n/Volumes/prod/sb_llm_assets/alliedtechpub/1067710~507389-03 issue 2120.pdf\nTotal tokens: 13320\nStart: 0, End: 4000, Chunk Length: 17650\nStart: 4000, End: 8000, Chunk Length: 14322\nStart: 8000, End: 12000, Chunk Length: 16333\nStart: 12000, End: 13320, Chunk Length: 5777\nReached the end of tokens.\nUploaded documents 1 to 10 (total: 10)\nAll documents uploaded successfully\n/Volumes/prod/sb_llm_assets/alliedtechpub/1067710~507860-01 issue 2120.pdf\nError using pymupdf4llm: 'Quad' object has no attribute 'tl'. Falling back to pymupdf.\nTotal tokens: 11041\nStart: 0, End: 4000, Chunk Length: 14408\nStart: 4000, End: 8000, Chunk Length: 9716\nStart: 8000, End: 11041, Chunk Length: 9082\nReached the end of tokens.\n/Volumes/prod/sb_llm_assets/alliedtechpub/1067710~507861-01 issue 2120.pdf\nError using pymupdf4llm: 'Quad' object has no attribute 'tl'. Falling back to pymupdf.\nTotal tokens: 10327\nStart: 0, End: 4000, Chunk Length: 14602\nStart: 4000, End: 8000, Chunk Length: 13752\nStart: 8000, End: 10327, Chunk Length: 5986\nReached the end of tokens.\n/Volumes/prod/sb_llm_assets/alliedtechpub/1067772~507277-04 issue 2121.pdf\nError using pymupdf4llm: 'Quad' object has no attribute 'tl'. Falling back to pymupdf.\nTotal tokens: 35732\nStart: 0, End: 4000, Chunk Length: 17556\nStart: 4000, End: 8000, Chunk Length: 15428\nStart: 8000, End: 12000, Chunk Length: 13703\nStart: 12000, End: 16000, Chunk Length: 13735\nStart: 16000, End: 20000, Chunk Length: 13380\nStart: 20000, End: 24000, Chunk Length: 13384\nStart: 24000, End: 28000, Chunk Length: 15616\nStart: 28000, End: 32000, Chunk Length: 14406\nStart: 32000, End: 35732, Chunk Length: 15869\nReached the end of tokens.\nUploaded documents 1 to 10 (total: 10)\nAll documents uploaded successfully\n/Volumes/prod/sb_llm_assets/alliedtechpub/1067772~507277-04C issue 2121.pdf\nError using pymupdf4llm: 'Quad' object has no attribute 'tl'. Falling back to pymupdf.\nTotal tokens: 35769\nStart: 0, End: 4000, Chunk Length: 17506\nStart: 4000, End: 8000, Chunk Length: 15405\nStart: 8000, End: 12000, Chunk Length: 13661\nStart: 12000, End: 16000, Chunk Length: 13702\nStart: 16000, End: 20000, Chunk Length: 13398\nStart: 20000, End: 24000, Chunk Length: 13356\nStart: 24000, End: 28000, Chunk Length: 15582\nStart: 28000, End: 32000, Chunk Length: 14414\nStart: 32000, End: 35769, Chunk Length: 15986\nReached the end of tokens.\nUploaded documents 1 to 10 (total: 10)\nAll documents uploaded successfully\n/Volumes/prod/sb_llm_assets/alliedtechpub/1067774~507276-06 issue 2121.pdf\nError using pymupdf4llm: 'Quad' object has no attribute 'tl'. Falling back to pymupdf.\nTotal tokens: 39451\nStart: 0, End: 4000, Chunk Length: 16930\nStart: 4000, End: 8000, Chunk Length: 16512\nStart: 8000, End: 12000, Chunk Length: 15303\nStart: 12000, End: 16000, Chunk Length: 10467\nStart: 16000, End: 20000, Chunk Length: 13527\nStart: 20000, End: 24000, Chunk Length: 13787\nStart: 24000, End: 28000, Chunk Length: 13979\nStart: 28000, End: 32000, Chunk Length: 15973\nStart: 32000, End: 36000, Chunk Length: 11131\nStart: 36000, End: 39451, Chunk Length: 14676\nReached the end of tokens.\nUploaded documents 1 to 10 (total: 10)\nAll documents uploaded successfully\n/Volumes/prod/sb_llm_assets/alliedtechpub/1067774~507276-06B issue 2121.pdf\nError using pymupdf4llm: 'Quad' object has no attribute 'tl'. Falling back to pymupdf.\nTotal tokens: 37736\nStart: 0, End: 4000, Chunk Length: 17278\nStart: 4000, End: 8000, Chunk Length: 16496\nStart: 8000, End: 12000, Chunk Length: 14939\nStart: 12000, End: 16000, Chunk Length: 11658\nStart: 16000, End: 20000, Chunk Length: 13202\nStart: 20000, End: 24000, Chunk Length: 14153\nStart: 24000, End: 28000, Chunk Length: 14099\nStart: 28000, End: 32000, Chunk Length: 15237\nStart: 32000, End: 36000, Chunk Length: 14549\nStart: 36000, End: 37736, Chunk Length: 7360\nReached the end of tokens.\nUploaded documents 1 to 10 (total: 10)\nAll documents uploaded successfully\n/Volumes/prod/sb_llm_assets/alliedtechpub/1067774~507276-06C issue 2121.pdf\nError using pymupdf4llm: 'Quad' object has no attribute 'tl'. Falling back to pymupdf.\nTotal tokens: 38899\nStart: 0, End: 4000, Chunk Length: 17089\nStart: 4000, End: 8000, Chunk Length: 16446\nStart: 8000, End: 12000, Chunk Length: 15125\nStart: 12000, End: 16000, Chunk Length: 10726\nStart: 16000, End: 20000, Chunk Length: 13499\nStart: 20000, End: 24000, Chunk Length: 13852\nStart: 24000, End: 28000, Chunk Length: 13992\nStart: 28000, End: 32000, Chunk Length: 16067\nStart: 32000, End: 36000, Chunk Length: 11958\nStart: 36000, End: 38899, Chunk Length: 12356\nReached the end of tokens.\nUploaded documents 1 to 10 (total: 10)\nAll documents uploaded successfully\n/Volumes/prod/sb_llm_assets/alliedtechpub/1067777~507716-03 issue 2121.pdf\nError using pymupdf4llm: 'Quad' object has no attribute 'tl'. Falling back to pymupdf.\nTotal tokens: 38871\nStart: 0, End: 4000, Chunk Length: 17114\nStart: 4000, End: 8000, Chunk Length: 16471\nStart: 8000, End: 12000, Chunk Length: 15152\nStart: 12000, End: 16000, Chunk Length: 10750\nStart: 16000, End: 20000, Chunk Length: 13527\nStart: 20000, End: 24000, Chunk Length: 13865\nStart: 24000, End: 28000, Chunk Length: 13998\nStart: 28000, End: 32000, Chunk Length: 16047\nStart: 32000, End: 36000, Chunk Length: 12025\nStart: 36000, End: 38871, Chunk Length: 12252\nReached the end of tokens.\nUploaded documents 1 to 10 (total: 10)\nAll documents uploaded successfully\n/Volumes/prod/sb_llm_assets/alliedtechpub/1067777~507735-03 issue 2121.pdf\nError using pymupdf4llm: 'Quad' object has no attribute 'tl'. Falling back to pymupdf.\nTotal tokens: 35720\nStart: 0, End: 4000, Chunk Length: 17577\nStart: 4000, End: 8000, Chunk Length: 15441\nStart: 8000, End: 12000, Chunk Length: 13676\nStart: 12000, End: 16000, Chunk Length: 13738\nStart: 16000, End: 20000, Chunk Length: 13377\nStart: 20000, End: 24000, Chunk Length: 13386\nStart: 24000, End: 28000, Chunk Length: 15582\nStart: 28000, End: 32000, Chunk Length: 14463\nStart: 32000, End: 35720, Chunk Length: 15816\nReached the end of tokens.\nUploaded documents 1 to 10 (total: 10)\nAll documents uploaded successfully\n/Volumes/prod/sb_llm_assets/alliedtechpub/1067779~507768-05 issue 2121.pdf\nError using pymupdf4llm: 'Quad' object has no attribute 'tl'. Falling back to pymupdf.\nTotal tokens: 37492\nStart: 0, End: 4000, Chunk Length: 17410\nStart: 4000, End: 8000, Chunk Length: 16529\nStart: 8000, End: 12000, Chunk Length: 14744\nStart: 12000, End: 16000, Chunk Length: 11628\nStart: 16000, End: 20000, Chunk Length: 13165\nStart: 20000, End: 24000, Chunk Length: 14002\nStart: 24000, End: 28000, Chunk Length: 14133\nStart: 28000, End: 32000, Chunk Length: 14732\nStart: 32000, End: 36000, Chunk Length: 14224\nStart: 36000, End: 37492, Chunk Length: 6429\nReached the end of tokens.\nUploaded documents 1 to 10 (total: 10)\nAll documents uploaded successfully\n/Volumes/prod/sb_llm_assets/alliedtechpub/1067780~507769-05 issue 2121.pdf\nError using pymupdf4llm: 'Quad' object has no attribute 'tl'. Falling back to pymupdf.\nTotal tokens: 37679\nStart: 0, End: 4000, Chunk Length: 17444\nStart: 4000, End: 8000, Chunk Length: 15384\nStart: 8000, End: 12000, Chunk Length: 14064\nStart: 12000, End: 16000, Chunk Length: 13829\nStart: 16000, End: 20000, Chunk Length: 13542\nStart: 20000, End: 24000, Chunk Length: 12787\nStart: 24000, End: 28000, Chunk Length: 16088\nStart: 28000, End: 32000, Chunk Length: 14614\nStart: 32000, End: 36000, Chunk Length: 14237\nStart: 36000, End: 37679, Chunk Length: 6769\nReached the end of tokens.\nUploaded documents 1 to 10 (total: 10)\nAll documents uploaded successfully\n/Volumes/prod/sb_llm_assets/alliedtechpub/1067780~507769-05P issue 2121.pdf\nError using pymupdf4llm: 'Quad' object has no attribute 'tl'. Falling back to pymupdf.\nTotal tokens: 37755\nStart: 0, End: 4000, Chunk Length: 17419\nStart: 4000, End: 8000, Chunk Length: 15360\nStart: 8000, End: 12000, Chunk Length: 14037\nStart: 12000, End: 16000, Chunk Length: 13864\nStart: 16000, End: 20000, Chunk Length: 13529\nStart: 20000, End: 24000, Chunk Length: 12707\nStart: 24000, End: 28000, Chunk Length: 16129\nStart: 28000, End: 32000, Chunk Length: 14503\nStart: 32000, End: 36000, Chunk Length: 14309\nStart: 36000, End: 37755, Chunk Length: 6987\nReached the end of tokens.\nUploaded documents 1 to 10 (total: 10)\nAll documents uploaded successfully\n/Volumes/prod/sb_llm_assets/alliedtechpub/1067782~507768-05B issue 2121.pdf\nError using pymupdf4llm: 'Quad' object has no attribute 'tl'. Falling back to pymupdf.\nTotal tokens: 36945\nStart: 0, End: 4000, Chunk Length: 17444\nStart: 4000, End: 8000, Chunk Length: 16498\nStart: 8000, End: 12000, Chunk Length: 14732\nStart: 12000, End: 16000, Chunk Length: 11864\nStart: 16000, End: 20000, Chunk Length: 13063\nStart: 20000, End: 24000, Chunk Length: 14205\nStart: 24000, End: 28000, Chunk Length: 14194\nStart: 28000, End: 32000, Chunk Length: 14321\nStart: 32000, End: 36000, Chunk Length: 15403\nStart: 36000, End: 36945, Chunk Length: 4199\nReached the end of tokens.\nUploaded documents 1 to 10 (total: 10)\nAll documents uploaded successfully\n/Volumes/prod/sb_llm_assets/alliedtechpub/1067782~507768-05P issue 2121.pdf\nError using pymupdf4llm: 'Quad' object has no attribute 'tl'. Falling back to pymupdf.\nTotal tokens: 36982\nStart: 0, End: 4000, Chunk Length: 17433\nStart: 4000, End: 8000, Chunk Length: 16498\nStart: 8000, End: 12000, Chunk Length: 14744\nStart: 12000, End: 16000, Chunk Length: 11849\nStart: 16000, End: 20000, Chunk Length: 13071\nStart: 20000, End: 24000, Chunk Length: 14184\nStart: 24000, End: 28000, Chunk Length: 14160\nStart: 28000, End: 32000, Chunk Length: 14377\nStart: 32000, End: 36000, Chunk Length: 15334\nStart: 36000, End: 36982, Chunk Length: 4328\nReached the end of tokens.\nUploaded documents 1 to 10 (total: 10)\nAll documents uploaded successfully\n/\n\n*** WARNING: max output size exceeded, skipping output. ***\n\n6-0e28fa04f975\nChunk ID: b8bd0210-07d2-415f-a1b6-0e28fa04f975_2\n-----\nDocument ID: b8bd0210-07d2-415f-a1b6-0e28fa04f975\nChunk ID: b8bd0210-07d2-415f-a1b6-0e28fa04f975_3\n-----\nDocument ID: b8bd0210-07d2-415f-a1b6-0e28fa04f975\nChunk ID: b8bd0210-07d2-415f-a1b6-0e28fa04f975_6\n-----\nDocument ID: cfbf27aa-817c-4060-8578-3f5a1b482bd9\nChunk ID: cfbf27aa-817c-4060-8578-3f5a1b482bd9_3\n-----\nDocument ID: cfbf27aa-817c-4060-8578-3f5a1b482bd9\nChunk ID: cfbf27aa-817c-4060-8578-3f5a1b482bd9_10\n-----\nDocument ID: fa507cab-185a-45b7-9ce9-952be7c13877\nChunk ID: fa507cab-185a-45b7-9ce9-952be7c13877_4\n-----\nDocument ID: fa507cab-185a-45b7-9ce9-952be7c13877\nChunk ID: fa507cab-185a-45b7-9ce9-952be7c13877_14\n-----\nDocument ID: 52033fd0-f8d0-4a14-853b-3690dedb2a41\nChunk ID: 52033fd0-f8d0-4a14-853b-3690dedb2a41_7\n-----\nDocument ID: 480ebd4e-f98a-4cb5-8173-a27a98da6f09\nChunk ID: 480ebd4e-f98a-4cb5-8173-a27a98da6f09_16\n-----\nDocument ID: 40bb96ee-89c3-47f2-8fdc-a5e87994dbab\nChunk ID: 40bb96ee-89c3-47f2-8fdc-a5e87994dbab_7\n-----\nDocument ID: 2f1c9865-1c38-451c-8253-397cdf8ee94a\nChunk ID: 2f1c9865-1c38-451c-8253-397cdf8ee94a_2\n-----\nDocument ID: 055701af-8217-4539-8cc5-8b690b77cc46\nChunk ID: 055701af-8217-4539-8cc5-8b690b77cc46_16\n-----\nDocument ID: 920f4c36-6fe9-401f-9e25-909f3b796dbe\nChunk ID: 920f4c36-6fe9-401f-9e25-909f3b796dbe_9\n-----\nDocument ID: 0266ac12-90af-48c8-900e-ae7383c9197c\nChunk ID: 0266ac12-90af-48c8-900e-ae7383c9197c_3\n-----\nDocument ID: 8e674c10-ed99-4f48-85d2-cdb0c70572ae\nChunk ID: 8e674c10-ed99-4f48-85d2-cdb0c70572ae_5\n-----\nDocument ID: c8bf2a53-05ec-4d52-966c-ffb32f0212c8\nChunk ID: c8bf2a53-05ec-4d52-966c-ffb32f0212c8_6\n-----\nDocument ID: 480ebd4e-f98a-4cb5-8173-a27a98da6f09\nChunk ID: 480ebd4e-f98a-4cb5-8173-a27a98da6f09_21\n-----\nDocument ID: 11b3948c-1671-4ac0-b439-843c19ec1bd2\nChunk ID: 11b3948c-1671-4ac0-b439-843c19ec1bd2_7\n-----\nDocument ID: 11b3948c-1671-4ac0-b439-843c19ec1bd2\nChunk ID: 11b3948c-1671-4ac0-b439-843c19ec1bd2_9\n-----\nDocument ID: a8aac788-35eb-464b-b2db-ea7f87796592\nChunk ID: a8aac788-35eb-464b-b2db-ea7f87796592_3\n-----\nDocument ID: a8aac788-35eb-464b-b2db-ea7f87796592\nChunk ID: a8aac788-35eb-464b-b2db-ea7f87796592_4\n-----\nDocument ID: a8aac788-35eb-464b-b2db-ea7f87796592\nChunk ID: a8aac788-35eb-464b-b2db-ea7f87796592_5\n-----\nDocument ID: 5f8453c0-35ec-4a95-aa40-4dfbc1d20eb6\nChunk ID: 5f8453c0-35ec-4a95-aa40-4dfbc1d20eb6_3\n-----\nDocument ID: 5f8453c0-35ec-4a95-aa40-4dfbc1d20eb6\nChunk ID: 5f8453c0-35ec-4a95-aa40-4dfbc1d20eb6_4\n-----\nDocument ID: 4c1510c5-cd1c-4399-bc25-b0c462840166\nChunk ID: 4c1510c5-cd1c-4399-bc25-b0c462840166_1\n-----\nDocument ID: 2a557aac-2f7c-42ba-ae14-f69950de26a0\nChunk ID: 2a557aac-2f7c-42ba-ae14-f69950de26a0_1\n-----\nDocument ID: 769b8bdd-631d-4a1c-a679-5bd2171b268f\nChunk ID: 769b8bdd-631d-4a1c-a679-5bd2171b268f_1\n-----\nDocument ID: 0cbd4ef0-f050-4d81-836b-f40813fc9100\nChunk ID: 0cbd4ef0-f050-4d81-836b-f40813fc9100_3\n-----\nDocument ID: 3c2a34a9-8b2b-48b8-943f-40e3b5d10678\nChunk ID: 3c2a34a9-8b2b-48b8-943f-40e3b5d10678_2\n-----\nDocument ID: 3c2a34a9-8b2b-48b8-943f-40e3b5d10678\nChunk ID: 3c2a34a9-8b2b-48b8-943f-40e3b5d10678_3\n-----\nDocument ID: 7eef340c-e8e3-4fa9-8d7c-7a7aed8297ad\nChunk ID: 7eef340c-e8e3-4fa9-8d7c-7a7aed8297ad_1\n-----\nDocument ID: 5508439e-2cc2-4a77-8b63-e730fe9bbbd6\nChunk ID: 5508439e-2cc2-4a77-8b63-e730fe9bbbd6_2\n-----\nDocument ID: 0ffcc895-c9fb-48ed-ba42-70f941da37fc\nChunk ID: 0ffcc895-c9fb-48ed-ba42-70f941da37fc_8\n-----\nDocument ID: c9f2f64a-0320-455c-addd-659091b849b2\nChunk ID: c9f2f64a-0320-455c-addd-659091b849b2_4\n-----\nDocument ID: f2a4c66e-107a-454e-8d0d-03a99ab646ef\nChunk ID: f2a4c66e-107a-454e-8d0d-03a99ab646ef_2\n-----\nDocument ID: 2b83ba93-afe7-42a9-bbde-30703aa57d03\nChunk ID: 2b83ba93-afe7-42a9-bbde-30703aa57d03_3\n-----\nDocument ID: 315683f1-9042-4e86-a8b8-acc2062a03a5\nChunk ID: 315683f1-9042-4e86-a8b8-acc2062a03a5_1\n-----\nDocument ID: 5e8baba6-b27e-4bc3-a78d-ab1305d39cc9\nChunk ID: 5e8baba6-b27e-4bc3-a78d-ab1305d39cc9_2\n-----\nDocument ID: 6348ff73-122c-427b-a60b-91c0b747510d\nChunk ID: 6348ff73-122c-427b-a60b-91c0b747510d_2\n-----\nDocument ID: 49b40101-93cd-428e-939f-393ec0ba6c67\nChunk ID: 49b40101-93cd-428e-939f-393ec0ba6c67_1\n-----\nDocument ID: 49b40101-93cd-428e-939f-393ec0ba6c67\nChunk ID: 49b40101-93cd-428e-939f-393ec0ba6c67_3\n-----\nDocument ID: f5066006-08f5-46fb-8495-11ab0ead6b08\nChunk ID: f5066006-08f5-46fb-8495-11ab0ead6b08_1\n-----\nDocument ID: 8889f6c5-fca8-4fc7-b4aa-375a3c26355c\nChunk ID: 8889f6c5-fca8-4fc7-b4aa-375a3c26355c_1\n-----\nDocument ID: 5424fc21-6bee-4aec-af88-4cb198c58028\nChunk ID: 5424fc21-6bee-4aec-af88-4cb198c58028_1\n-----\nDocument ID: 2ec48e6f-42fc-478e-a823-bc233a7175fc\nChunk ID: 2ec48e6f-42fc-478e-a823-bc233a7175fc_1\n-----\nDocument ID: 7c43b6f8-23bd-4ef0-8578-412651a63ad2\nChunk ID: 7c43b6f8-23bd-4ef0-8578-412651a63ad2_3\n-----\nDocument ID: 571829e6-0cf1-46aa-9fb6-efda86c09f4e\nChunk ID: 571829e6-0cf1-46aa-9fb6-efda86c09f4e_2\n-----\nDocument ID: 5a0bf09c-e1b6-49ef-bca8-ad08a51620e4\nChunk ID: 5a0bf09c-e1b6-49ef-bca8-ad08a51620e4_4\n-----\nDocument ID: 32ffc46b-d3ad-4225-b93f-f81fa2705337\nChunk ID: 32ffc46b-d3ad-4225-b93f-f81fa2705337_2\n-----\nDocument ID: 02255312-10b2-4ade-bc61-682deb55c89e\nChunk ID: 02255312-10b2-4ade-bc61-682deb55c89e_2\n-----\nDocument ID: b0d3ae6c-e284-4569-b266-3553b4cf3dd0\nChunk ID: b0d3ae6c-e284-4569-b266-3553b4cf3dd0_1\n-----\nDocument ID: 3ca2149d-6ea8-47cd-8760-71e156ecd008\nChunk ID: 3ca2149d-6ea8-47cd-8760-71e156ecd008_1\n-----\nDocument ID: 67262f04-c48b-49e6-807a-c33f1b27b685\nChunk ID: 67262f04-c48b-49e6-807a-c33f1b27b685_12\n-----\nDocument ID: 67262f04-c48b-49e6-807a-c33f1b27b685\nChunk ID: 67262f04-c48b-49e6-807a-c33f1b27b685_18\n-----\nDocument ID: 5c7e3f25-44ab-4ac2-9665-def8bdbffe64\nChunk ID: 5c7e3f25-44ab-4ac2-9665-def8bdbffe64_1\n-----\nDocument ID: 6af9cf82-e8ec-42d2-a7ed-5edaa555921a\nChunk ID: 6af9cf82-e8ec-42d2-a7ed-5edaa555921a_3\n-----\nDocument ID: 6af9cf82-e8ec-42d2-a7ed-5edaa555921a\nChunk ID: 6af9cf82-e8ec-42d2-a7ed-5edaa555921a_5\n-----\nDocument ID: 55936a54-ac57-4099-82e5-c09a18ccb024\nChunk ID: 55936a54-ac57-4099-82e5-c09a18ccb024_2\n-----\nDocument ID: 5ba6d6e1-d351-4260-bc04-57e789e92afd\nChunk ID: 5ba6d6e1-d351-4260-bc04-57e789e92afd_2\n-----\nDocument ID: 04ed8967-9bce-4d26-8599-fcc74e8f5918\nChunk ID: 04ed8967-9bce-4d26-8599-fcc74e8f5918_5\n-----\nDocument ID: df3ce413-b3e1-47fa-898c-b2e408838eff\nChunk ID: df3ce413-b3e1-47fa-898c-b2e408838eff_7\n-----\nDocument ID: df3ce413-b3e1-47fa-898c-b2e408838eff\nChunk ID: df3ce413-b3e1-47fa-898c-b2e408838eff_8\n-----\nDocument ID: df3ce413-b3e1-47fa-898c-b2e408838eff\nChunk ID: df3ce413-b3e1-47fa-898c-b2e408838eff_9\n-----\nDocument ID: 68ce9901-c7d9-4729-81e7-1cf04de0642a\nChunk ID: 68ce9901-c7d9-4729-81e7-1cf04de0642a_7\n-----\nDocument ID: d07a3c1c-fa23-4cb0-b90e-43a31f632659\nChunk ID: d07a3c1c-fa23-4cb0-b90e-43a31f632659_1\n-----\nDocument ID: d5746def-338e-4e43-9e3f-717e1fd66dc3\nChunk ID: d5746def-338e-4e43-9e3f-717e1fd66dc3_9\n-----\nDocument ID: 9b5d0049-b40e-44ee-96e4-4845147d06a3\nChunk ID: 9b5d0049-b40e-44ee-96e4-4845147d06a3_19\n-----\nDocument ID: 8cc69415-087d-4d52-8014-e40519d04f8d\nChunk ID: 8cc69415-087d-4d52-8014-e40519d04f8d_8\n-----\nDocument ID: 7d48cd4a-6f57-42ef-90e2-fc02906454e3\nChunk ID: 7d48cd4a-6f57-42ef-90e2-fc02906454e3_1\n-----\nDocument ID: 7d48cd4a-6f57-42ef-90e2-fc02906454e3\nChunk ID: 7d48cd4a-6f57-42ef-90e2-fc02906454e3_3\n-----\nDocument ID: e5703cbb-b64d-4c2a-8faf-5c7f31a24a68\nChunk ID: e5703cbb-b64d-4c2a-8faf-5c7f31a24a68_7\n-----\nDocument ID: 8aba9eb2-fce1-46b8-a492-2f90a5c037ea\nChunk ID: 8aba9eb2-fce1-46b8-a492-2f90a5c037ea_14\n-----\nDocument ID: 7213aa30-6254-49e1-98f9-cdfbe715d9ac\nChunk ID: 7213aa30-6254-49e1-98f9-cdfbe715d9ac_11\n-----\nDocument ID: 765473ea-8e54-400c-8505-bf8e84dd0046\nChunk ID: 765473ea-8e54-400c-8505-bf8e84dd0046_1\n-----\nDocument ID: 765473ea-8e54-400c-8505-bf8e84dd0046\nChunk ID: 765473ea-8e54-400c-8505-bf8e84dd0046_4\n-----\nDocument ID: 7050c866-0059-4c84-b6f2-dfbc72b5c4dd\nChunk ID: 7050c866-0059-4c84-b6f2-dfbc72b5c4dd_6\n-----\nDocument ID: 2f06f608-1fca-428a-861f-62fec66701a5\nChunk ID: 2f06f608-1fca-428a-861f-62fec66701a5_4\n-----\nDocument ID: efa7ee84-a74a-4b77-aea9-0cba27e174c8\nChunk ID: efa7ee84-a74a-4b77-aea9-0cba27e174c8_6\n-----\nDocument ID: 5b904eb5-e217-4e4b-877b-2d2c53bd5990\nChunk ID: 5b904eb5-e217-4e4b-877b-2d2c53bd5990_7\n-----\nDocument ID: f3a8205e-b93c-4cf1-9548-a1d68849a4ff\nChunk ID: f3a8205e-b93c-4cf1-9548-a1d68849a4ff_1\n-----\nDocument ID: df639312-f2bc-4f91-88ef-26beec257eb1\nChunk ID: df639312-f2bc-4f91-88ef-26beec257eb1_3\n-----\nDocument ID: df639312-f2bc-4f91-88ef-26beec257eb1\nChunk ID: df639312-f2bc-4f91-88ef-26beec257eb1_5\n-----\nDocument ID: 07ba8152-64ca-4b40-a185-cff14956e80a\nChunk ID: 07ba8152-64ca-4b40-a185-cff14956e80a_1\n-----\nDocument ID: 07ba8152-64ca-4b40-a185-cff14956e80a\nChunk ID: 07ba8152-64ca-4b40-a185-cff14956e80a_5\n-----\nDocument ID: 0434eba4-bbb6-419b-956b-0b697f03af26\nChunk ID: 0434eba4-bbb6-419b-956b-0b697f03af26_3\n-----\nDocument ID: bba7e2d3-fd98-458a-a641-1f8d3dcfd62f\nChunk ID: bba7e2d3-fd98-458a-a641-1f8d3dcfd62f_1\n-----\nDocument ID: 21a9e689-101d-4622-b72f-e28cf9561fac\nChunk ID: 21a9e689-101d-4622-b72f-e28cf9561fac_1\n-----\nDocument ID: cbfc3d4d-2827-4a08-a3c3-d41390e02ded\nChunk ID: cbfc3d4d-2827-4a08-a3c3-d41390e02ded_6\n-----\nDocument ID: 950a7511-2c19-448a-8b1a-054db54f5677\nChunk ID: 950a7511-2c19-448a-8b1a-054db54f5677_1\n-----\nDocument ID: 5c794064-fd12-4f32-adcf-4e25c2d53d26\nChunk ID: 5c794064-fd12-4f32-adcf-4e25c2d53d26_20\n-----\nDocument ID: 950a7511-2c19-448a-8b1a-054db54f5677\nChunk ID: 950a7511-2c19-448a-8b1a-054db54f5677_8\n-----\nDocument ID: 200b33f6-b619-4516-9c43-e78e3fb180bb\nChunk ID: 200b33f6-b619-4516-9c43-e78e3fb180bb_8\n-----\nDocument ID: de59de30-5fcf-44d0-93fd-3e73de0636eb\nChunk ID: de59de30-5fcf-44d0-93fd-3e73de0636eb_3\n-----\nDocument ID: de59de30-5fcf-44d0-93fd-3e73de0636eb\nChunk ID: de59de30-5fcf-44d0-93fd-3e73de0636eb_4\n-----\nDocument ID: aa0437cd-c1bf-40bb-a88c-3a80fbc9499c\nChunk ID: aa0437cd-c1bf-40bb-a88c-3a80fbc9499c_1\n-----\nDocument ID: aa0437cd-c1bf-40bb-a88c-3a80fbc9499c\nChunk ID: aa0437cd-c1bf-40bb-a88c-3a80fbc9499c_3\n-----\nDocument ID: 8de2315b-90a6-4d29-bb45-2f0e2c642338\nChunk ID: 8de2315b-90a6-4d29-bb45-2f0e2c642338_6\n-----\nDocument ID: 200b33f6-b619-4516-9c43-e78e3fb180bb\nChunk ID: 200b33f6-b619-4516-9c43-e78e3fb180bb_3\n-----\nDocument ID: 96a39964-e290-402c-af8b-1fa3420106e7\nChunk ID: 96a39964-e290-402c-af8b-1fa3420106e7_9\n-----\nDocument ID: 11dc091b-e037-4279-835d-03f6365af11b\nChunk ID: 11dc091b-e037-4279-835d-03f6365af11b_5\n-----\nDocument ID: e30c826b-dd8e-4389-8a30-c991aff09905\nChunk ID: e30c826b-dd8e-4389-8a30-c991aff09905_3\n-----\nDocument ID: e30c826b-dd8e-4389-8a30-c991aff09905\nChunk ID: e30c826b-dd8e-4389-8a30-c991aff09905_6\n-----\nDocument ID: 96a39964-e290-402c-af8b-1fa3420106e7\nChunk ID: 96a39964-e290-402c-af8b-1fa3420106e7_3\n-----\nDocument ID: 8056311d-063a-4f17-a283-6465d7426fe7\nChunk ID: 8056311d-063a-4f17-a283-6465d7426fe7_2\n-----\nDocument ID: 2d73e352-a6eb-4c63-8ac7-17b7bb268f46\nChunk ID: 2d73e352-a6eb-4c63-8ac7-17b7bb268f46_6\n-----\nDocument ID: 2d73e352-a6eb-4c63-8ac7-17b7bb268f46\nChunk ID: 2d73e352-a6eb-4c63-8ac7-17b7bb268f46_9\n-----\nDocument ID: 2d73e352-a6eb-4c63-8ac7-17b7bb268f46\nChunk ID: 2d73e352-a6eb-4c63-8ac7-17b7bb268f46_13\n-----\nDocument ID: 2d73e352-a6eb-4c63-8ac7-17b7bb268f46\nChunk ID: 2d73e352-a6eb-4c63-8ac7-17b7bb268f46_20\n-----\nDocument ID: 476b5699-8583-4bd6-88ea-a7de942dc9dd\nChunk ID: 476b5699-8583-4bd6-88ea-a7de942dc9dd_1\n-----\nDocument ID: bd489811-213f-4053-b3ba-661acee05d24\nChunk ID: bd489811-213f-4053-b3ba-661acee05d24_2\n-----\nDocument ID: 5cad7bae-2803-462e-a985-ee6983881ded\nChunk ID: 5cad7bae-2803-462e-a985-ee6983881ded_4\n-----\nDocument ID: c322d6fb-28a8-41ec-ac94-3040358403fb\nChunk ID: c322d6fb-28a8-41ec-ac94-3040358403fb_11\n-----\nDocument ID: c322d6fb-28a8-41ec-ac94-3040358403fb\nChunk ID: c322d6fb-28a8-41ec-ac94-3040358403fb_17\n-----\nDocument ID: d10c2a83-f495-4f65-bab2-33dc0c3c6767\nChunk ID: d10c2a83-f495-4f65-bab2-33dc0c3c6767_20\n-----\nDocument ID: fa152e85-2b47-405d-b296-b3cf73a8056b\nChunk ID: fa152e85-2b47-405d-b296-b3cf73a8056b_6\n-----\nDocument ID: 777caf8f-6671-447c-a700-13aeb1150cca\nChunk ID: 777caf8f-6671-447c-a700-13aeb1150cca_21\n-----\nDocument ID: cd6c130b-654a-4e40-8a1c-52f3d34c44bb\nChunk ID: cd6c130b-654a-4e40-8a1c-52f3d34c44bb_11\n-----\nDocument ID: d10c2a83-f495-4f65-bab2-33dc0c3c6767\nChunk ID: d10c2a83-f495-4f65-bab2-33dc0c3c6767_17\n-----\nDocument ID: cd6c130b-654a-4e40-8a1c-52f3d34c44bb\nChunk ID: cd6c130b-654a-4e40-8a1c-52f3d34c44bb_19\n-----\nDocument ID: d2177b89-7565-419a-acb0-04e59737e6a6\nChunk ID: d2177b89-7565-419a-acb0-04e59737e6a6_4\n-----\nDocument ID: d2177b89-7565-419a-acb0-04e59737e6a6\nChunk ID: d2177b89-7565-419a-acb0-04e59737e6a6_21\n-----\nDocument ID: 930f98df-a914-4ebf-9b42-97be889f8700\nChunk ID: 930f98df-a914-4ebf-9b42-97be889f8700_4\n-----\nDocument ID: b8cd3cd3-924d-4d6c-a53c-e26b126dc1f8\nChunk ID: b8cd3cd3-924d-4d6c-a53c-e26b126dc1f8_3\n-----\nDocument ID: b8cd3cd3-924d-4d6c-a53c-e26b126dc1f8\nChunk ID: b8cd3cd3-924d-4d6c-a53c-e26b126dc1f8_5\n-----\nDocument ID: e6d8d701-d94b-4023-8886-6450c2ceb4ef\nChunk ID: e6d8d701-d94b-4023-8886-6450c2ceb4ef_6\n-----\nDocument ID: e6d8d701-d94b-4023-8886-6450c2ceb4ef\nChunk ID: e6d8d701-d94b-4023-8886-6450c2ceb4ef_10\n-----\nDocument ID: 0b19c63d-632a-4488-8bc4-b16f3b5203f9\nChunk ID: 0b19c63d-632a-4488-8bc4-b16f3b5203f9_3\n-----\nDocument ID: e6d8d701-d94b-4023-8886-6450c2ceb4ef\nChunk ID: e6d8d701-d94b-4023-8886-6450c2ceb4ef_1\n-----\nDocument ID: 125c9834-1410-4382-9f58-c6c1bf9fc7fb\nChunk ID: 125c9834-1410-4382-9f58-c6c1bf9fc7fb_10\n-----\nDocument ID: c20c487b-fbdf-4477-9454-ff44366f630a\nChunk ID: c20c487b-fbdf-4477-9454-ff44366f630a_5\n-----\nDocument ID: c20c487b-fbdf-4477-9454-ff44366f630a\nChunk ID: c20c487b-fbdf-4477-9454-ff44366f630a_6\n-----\nDocument ID: c20c487b-fbdf-4477-9454-ff44366f630a\nChunk ID: c20c487b-fbdf-4477-9454-ff44366f630a_8\n-----\nDocument ID: 9e06cd7b-67bb-489b-8d1b-39c8cc1cbee7\nChunk ID: 9e06cd7b-67bb-489b-8d1b-39c8cc1cbee7_2\n-----\nDocument ID: 6a6a52ea-b1da-4613-8ad5-d8f8a8377749\nChunk ID: 6a6a52ea-b1da-4613-8ad5-d8f8a8377749_10\n-----\nDocument ID: 9e06cd7b-67bb-489b-8d1b-39c8cc1cbee7\nChunk ID: 9e06cd7b-67bb-489b-8d1b-39c8cc1cbee7_8\n-----\nDocument ID: a6e1aa3d-4f27-4ca5-b80c-696b7d1586ff\nChunk ID: a6e1aa3d-4f27-4ca5-b80c-696b7d1586ff_8\n-----\nDocument ID: c6e62df8-180a-4043-a480-116fe1a5d3d0\nChunk ID: c6e62df8-180a-4043-a480-116fe1a5d3d0_7\n-----\nDocument ID: a891b20b-63af-4c17-8a62-4d5a7963edb5\nChunk ID: a891b20b-63af-4c17-8a62-4d5a7963edb5_2\n-----\nDocument ID: 1e3e0f9d-e7a7-4036-93a9-b9ff1d50179f\nChunk ID: 1e3e0f9d-e7a7-4036-93a9-b9ff1d50179f_5\n-----\nDocument ID: 1e3e0f9d-e7a7-4036-93a9-b9ff1d50179f\nChunk ID: 1e3e0f9d-e7a7-4036-93a9-b9ff1d50179f_8\n-----\nDocument ID: 0426449c-8d97-43fc-bef5-c2e94789bb89\nChunk ID: 0426449c-8d97-43fc-bef5-c2e94789bb89_10\n-----\nDocument ID: 5eecc0fe-b41b-48eb-8105-fb360795e449\nChunk ID: 5eecc0fe-b41b-48eb-8105-fb360795e449_10\n-----\nDocument ID: 88729f2e-4445-4ba4-b5d0-791fe6181838\nChunk ID: 88729f2e-4445-4ba4-b5d0-791fe6181838_4\n-----\nDocument ID: 88729f2e-4445-4ba4-b5d0-791fe6181838\nChunk ID: 88729f2e-4445-4ba4-b5d0-791fe6181838_5\n-----\nDocument ID: 88729f2e-4445-4ba4-b5d0-791fe6181838\nChunk ID: 88729f2e-4445-4ba4-b5d0-791fe6181838_10\n-----\nDocument ID: 82c837bc-a5c5-4892-84a9-4b4257db69f8\nChunk ID: 82c837bc-a5c5-4892-84a9-4b4257db69f8_3\n-----\nDocument ID: 10e90b4e-f057-40bd-a439-36cbd2a82bd4\nChunk ID: 10e90b4e-f057-40bd-a439-36cbd2a82bd4_3\n-----\nDocument ID: ec2b91d5-e5d3-4012-b9d7-563a3f52e4b7\nChunk ID: ec2b91d5-e5d3-4012-b9d7-563a3f52e4b7_5\n-----\nDocument ID: 058ee4d0-f772-4f44-8f3e-7799ce26e2bb\nChunk ID: 058ee4d0-f772-4f44-8f3e-7799ce26e2bb_4\n-----\nDocument ID: 8697f2a1-8106-49d4-b1b0-c77dce006619\nChunk ID: 8697f2a1-8106-49d4-b1b0-c77dce006619_1\n-----\nDocument ID: f85935eb-e3df-4bc4-9a8a-e577943c1978\nChunk ID: f85935eb-e3df-4bc4-9a8a-e577943c1978_2\n-----\nDocument ID: c466f4e6-3a6e-467a-b5f8-35e4df532a4a\nChunk ID: c466f4e6-3a6e-467a-b5f8-35e4df532a4a_7\n-----\nDocument ID: 022f0faa-0451-472d-988d-ec5eb2dfc669\nChunk ID: 022f0faa-0451-472d-988d-ec5eb2dfc669_6\n-----\nDocument ID: 022f0faa-0451-472d-988d-ec5eb2dfc669\nChunk ID: 022f0faa-0451-472d-988d-ec5eb2dfc669_9\n-----\nDocument ID: 75112d44-b466-4fd0-9b6b-e06c4c793ad5\nChunk ID: 75112d44-b466-4fd0-9b6b-e06c4c793ad5_4\n-----\nDocument ID: 757001d3-97b1-44b7-8b0c-c20d506db620\nChunk ID: 757001d3-97b1-44b7-8b0c-c20d506db620_1\n-----\nDocument ID: 4d1881a5-2c80-43d2-9337-bc19ebd92c4a\nChunk ID: 4d1881a5-2c80-43d2-9337-bc19ebd92c4a_4\n-----\nDocument ID: d783f6e1-6d17-490a-9b74-8a041407fcbc\nChunk ID: d783f6e1-6d17-490a-9b74-8a041407fcbc_1\n-----\nDocument ID: d783f6e1-6d17-490a-9b74-8a041407fcbc\nChunk ID: d783f6e1-6d17-490a-9b74-8a041407fcbc_2\n-----\nDocument ID: c4063e55-73c1-4d83-b7db-1aab2a2ffc3a\nChunk ID: c4063e55-73c1-4d83-b7db-1aab2a2ffc3a_1\n-----\nDocument ID: cba93c05-0f58-4260-b42b-3e68b7b419a8\nChunk ID: cba93c05-0f58-4260-b42b-3e68b7b419a8_1\n-----\nDocument ID: b279fdc0-ce49-4a2a-aa76-93834c89f3c6\nChunk ID: b279fdc0-ce49-4a2a-aa76-93834c89f3c6_3\n-----\nDocument ID: 74fbe15f-599b-4c0c-8641-d1710b819bc2\nChunk ID: 74fbe15f-599b-4c0c-8641-d1710b819bc2_2\n-----\nDocument ID: 74fbe15f-599b-4c0c-8641-d1710b819bc2\nChunk ID: 74fbe15f-599b-4c0c-8641-d1710b819bc2_3\n-----\nDocument ID: dc08157c-c101-4eb9-a01c-9fb733279119\nChunk ID: dc08157c-c101-4eb9-a01c-9fb733279119_4\n-----\nDocument ID: dc08157c-c101-4eb9-a01c-9fb733279119\nChunk ID: dc08157c-c101-4eb9-a01c-9fb733279119_5\n-----\nDocument ID: 74e2dc7a-d692-4ca8-9b83-7485247e9820\nChunk ID: 74e2dc7a-d692-4ca8-9b83-7485247e9820_2\n-----\nDocument ID: e31a38bf-b8af-499b-ac0b-d0dcf3194e8d\nChunk ID: e31a38bf-b8af-499b-ac0b-d0dcf3194e8d_1\n-----\nDocument ID: ea019f41-074b-4a66-b668-9a25d6575c2e\nChunk ID: ea019f41-074b-4a66-b668-9a25d6575c2e_1\n-----\nDocument ID: 4a302ac7-bb6b-4f8b-bd92-d12a0cb0cf53\nChunk ID: 4a302ac7-bb6b-4f8b-bd92-d12a0cb0cf53_10\n-----\nDocument ID: 2798a29f-f3c1-42ee-92c4-6e0822f4fb7a\nChunk ID: 2798a29f-f3c1-42ee-92c4-6e0822f4fb7a_7\n-----\nDocument ID: 8a9daf0f-b846-47ea-865f-f070ba374cb5\nChunk ID: 8a9daf0f-b846-47ea-865f-f070ba374cb5_3\n-----\nDocument ID: 7429ebb3-f350-48d3-9278-36049128f162\nChunk ID: 7429ebb3-f350-48d3-9278-36049128f162_1\n-----\nDocument ID: 1f634467-e826-442e-8cd9-b143edfe0e67\nChunk ID: 1f634467-e826-442e-8cd9-b143edfe0e67_2\n-----\nDocument ID: 4f3b8877-f3b5-47bb-9a94-0e3cbbc50fe7\nChunk ID: 4f3b8877-f3b5-47bb-9a94-0e3cbbc50fe7_8\n-----\nDocument ID: 159b5165-ab0e-4a06-93ba-a62f951de7fd\nChunk ID: 159b5165-ab0e-4a06-93ba-a62f951de7fd_10\n-----\nDocument ID: 45e53c60-f775-4e19-aaf7-0b7a26b35f8d\nChunk ID: 45e53c60-f775-4e19-aaf7-0b7a26b35f8d_6\n-----\nDocument ID: 45e53c60-f775-4e19-aaf7-0b7a26b35f8d\nChunk ID: 45e53c60-f775-4e19-aaf7-0b7a26b35f8d_7\n-----\nDocument ID: aa9fea8f-d419-43ff-b52e-eb9e71b9f78a\nChunk ID: aa9fea8f-d419-43ff-b52e-eb9e71b9f78a_6\n-----\nDocument ID: aa9fea8f-d419-43ff-b52e-eb9e71b9f78a\nChunk ID: aa9fea8f-d419-43ff-b52e-eb9e71b9f78a_7\n-----\nDocument ID: aa9fea8f-d419-43ff-b52e-eb9e71b9f78a\nChunk ID: aa9fea8f-d419-43ff-b52e-eb9e71b9f78a_10\n-----\nDocument ID: bdc484dc-aea9-4413-bb9b-201ade0a12a5\nChunk ID: bdc484dc-aea9-4413-bb9b-201ade0a12a5_1\n-----\nDocument ID: 677bb386-e3b7-4a5f-bfe8-e8f64a5067ba\nChunk ID: 677bb386-e3b7-4a5f-bfe8-e8f64a5067ba_5\n-----\nDocument ID: b23d344c-710b-4373-97d8-ab2b86a5bf1e\nChunk ID: b23d344c-710b-4373-97d8-ab2b86a5bf1e_4\n-----\nDocument ID: b23d344c-710b-4373-97d8-ab2b86a5bf1e\nChunk ID: b23d344c-710b-4373-97d8-ab2b86a5bf1e_9\n-----\nDocument ID: dc08274c-aec8-45c7-95c3-61a37885d889\nChunk ID: dc08274c-aec8-45c7-95c3-61a37885d889_3\n-----\nDocument ID: edd27884-2220-4fb1-b542-c28074c6980c\nChunk ID: edd27884-2220-4fb1-b542-c28074c6980c_7\n-----\nDocument ID: 5fbe9f5b-7c16-4949-851c-200e61a339a7\nChunk ID: 5fbe9f5b-7c16-4949-851c-200e61a339a7_4\n-----\nDocument ID: ca9b1289-8245-4d8f-9b37-b8972f1c6dae\nChunk ID: ca9b1289-8245-4d8f-9b37-b8972f1c6dae_4\n-----\nDocument ID: b4c7753b-7f93-4eb9-bd04-cb9f54a0b7e9\nChunk ID: b4c7753b-7f93-4eb9-bd04-cb9f54a0b7e9_5\n-----\nDocument ID: 6bb429ef-3d5f-448f-8488-0985a68aaaf7\nChunk ID: 6bb429ef-3d5f-448f-8488-0985a68aaaf7_4\n-----\nDocument ID: 1f8237f8-b446-4b5a-bc22-761a0610df17\nChunk ID: 1f8237f8-b446-4b5a-bc22-761a0610df17_2\n-----\nDocument ID: f245a5ad-4105-4204-81bf-9a368cc76833\nChunk ID: f245a5ad-4105-4204-81bf-9a368cc76833_1\n-----\nDocument ID: e668a4ec-6113-4aa7-ab8a-39916fd0e030\nChunk ID: e668a4ec-6113-4aa7-ab8a-39916fd0e030_19\n-----\nDocument ID: bc24cef3-5b4e-4e03-8cf4-6af7dad2cb99\nChunk ID: bc24cef3-5b4e-4e03-8cf4-6af7dad2cb99_1\n-----\nDocument ID: bc24cef3-5b4e-4e03-8cf4-6af7dad2cb99\nChunk ID: bc24cef3-5b4e-4e03-8cf4-6af7dad2cb99_13\n-----\nDocument ID: bc24cef3-5b4e-4e03-8cf4-6af7dad2cb99\nChunk ID: bc24cef3-5b4e-4e03-8cf4-6af7dad2cb99_17\n-----\nDocument ID: e668a4ec-6113-4aa7-ab8a-39916fd0e030\nChunk ID: e668a4ec-6113-4aa7-ab8a-39916fd0e030_4\n-----\nDocument ID: e668a4ec-6113-4aa7-ab8a-39916fd0e030\nChunk ID: e668a4ec-6113-4aa7-ab8a-39916fd0e030_7\n-----\nDocument ID: e668a4ec-6113-4aa7-ab8a-39916fd0e030\nChunk ID: e668a4ec-6113-4aa7-ab8a-39916fd0e030_10\n-----\nDocument ID: bc24cef3-5b4e-4e03-8cf4-6af7dad2cb99\nChunk ID: bc24cef3-5b4e-4e03-8cf4-6af7dad2cb99_19\n-----\nDocument ID: 2acfa87e-aae5-4607-968f-9b20f2aa431f\nChunk ID: 2acfa87e-aae5-4607-968f-9b20f2aa431f_11\n-----\nDocument ID: 1b859bc9-df13-45aa-93b8-fefecbcd7cc7\nChunk ID: 1b859bc9-df13-45aa-93b8-fefecbcd7cc7_1\n-----\nDocument ID: 2acfa87e-aae5-4607-968f-9b20f2aa431f\nChunk ID: 2acfa87e-aae5-4607-968f-9b20f2aa431f_17\n-----\nDocument ID: 59908d8d-4f38-47d7-960c-96addc1884d2\nChunk ID: 59908d8d-4f38-47d7-960c-96addc1884d2_3\n-----\nDocument ID: fc64db8f-e35e-47f4-99aa-3da5e4cafd0d\nChunk ID: fc64db8f-e35e-47f4-99aa-3da5e4cafd0d_12\n-----\nDocument ID: f963fdc7-15e2-489b-927b-4a5a5c3558c2\nChunk ID: f963fdc7-15e2-489b-927b-4a5a5c3558c2_7\n-----\nDocument ID: f963fdc7-15e2-489b-927b-4a5a5c3558c2\nChunk ID: f963fdc7-15e2-489b-927b-4a5a5c3558c2_3\n-----\nDocument ID: fc64db8f-e35e-47f4-99aa-3da5e4cafd0d\nChunk ID: fc64db8f-e35e-47f4-99aa-3da5e4cafd0d_15\n-----\nDocument ID: df4cfb3a-f856-43b8-a2e9-7db5af626bbc\nChunk ID: df4cfb3a-f856-43b8-a2e9-7db5af626bbc_1\n-----\nDocument ID: df4cfb3a-f856-43b8-a2e9-7db5af626bbc\nChunk ID: df4cfb3a-f856-43b8-a2e9-7db5af626bbc_10\n-----\nDocument ID: df4cfb3a-f856-43b8-a2e9-7db5af626bbc\nChunk ID: df4cfb3a-f856-43b8-a2e9-7db5af626bbc_17\n-----\nDocument ID: d82255d3-a606-4967-9bda-b6615e87d259\nChunk ID: d82255d3-a606-4967-9bda-b6615e87d259_1\n-----\nDocument ID: 6f9a5065-9716-4e61-921a-50256cf58272\nChunk ID: 6f9a5065-9716-4e61-921a-50256cf58272_1\n-----\nDocument ID: 5c1f03c5-2862-430b-bb22-24a035877dfb\nChunk ID: 5c1f03c5-2862-430b-bb22-24a035877dfb_3\n-----\nDocument ID: 5b7a7759-12ba-480e-9fd7-9c3774fb6828\nChunk ID: 5b7a7759-12ba-480e-9fd7-9c3774fb6828_13\n-----\nDocument ID: 649627b6-c0f9-40ec-bcf9-f4f9c150a1d6\nChunk ID: 649627b6-c0f9-40ec-bcf9-f4f9c150a1d6_2\n-----\nDocument ID: 5b3a0fea-e960-4872-b3d1-c913b8ca314c\nChunk ID: 5b3a0fea-e960-4872-b3d1-c913b8ca314c_2\n-----\nDocument ID: 7df4c990-2157-455b-9c95-34a430424a65\nChunk ID: 7df4c990-2157-455b-9c95-34a430424a65_1\n-----\nDocument ID: 6024a6c9-5cb7-4bef-9fb4-459478e33887\nChunk ID: 6024a6c9-5cb7-4bef-9fb4-459478e33887_1\n-----\nDocument ID: 4028788f-5c84-4c76-83bf-d7a72d3a92bc\nChunk ID: 4028788f-5c84-4c76-83bf-d7a72d3a92bc_4\n-----\nDocument ID: 4028788f-5c84-4c76-83bf-d7a72d3a92bc\nChunk ID: 4028788f-5c84-4c76-83bf-d7a72d3a92bc_7\n-----\nDocument ID: 4028788f-5c84-4c76-83bf-d7a72d3a92bc\nChunk ID: 4028788f-5c84-4c76-83bf-d7a72d3a92bc_9\n-----\nDocument ID: 4028788f-5c84-4c76-83bf-d7a72d3a92bc\nChunk ID: 4028788f-5c84-4c76-83bf-d7a72d3a92bc_20\n-----\nDocument ID: 4028788f-5c84-4c76-83bf-d7a72d3a92bc\nChunk ID: 4028788f-5c84-4c76-83bf-d7a72d3a92bc_22\n-----\nDocument ID: 49535299-4f36-4f60-a0e3-05056ee4b6c5\nChunk ID: 49535299-4f36-4f60-a0e3-05056ee4b6c5_1\n-----\nDocument ID: 9697d18e-d3e0-40e3-bee9-28ddc288d91d\nChunk ID: 9697d18e-d3e0-40e3-bee9-28ddc288d91d_15\n-----\nDocument ID: 9bf56061-67dd-46f9-b105-848db3d1abce\nChunk ID: 9bf56061-67dd-46f9-b105-848db3d1abce_4\n-----\nDocument ID: 14c22199-11c1-44b9-942a-3bf500f0c5d8\nChunk ID: 14c22199-11c1-44b9-942a-3bf500f0c5d8_4\n-----\nDocument ID: 0846b716-4232-4e1f-9d5b-d3cc9b609e4e\nChunk ID: 0846b716-4232-4e1f-9d5b-d3cc9b609e4e_1\n-----\nDocument ID: 9229ff5f-66be-48ef-be21-2dc3484cb67c\nChunk ID: 9229ff5f-66be-48ef-be21-2dc3484cb67c_1\n-----\nDocument ID: 7dfb5b92-3555-4077-a2a2-b3943d6d312e\nChunk ID: 7dfb5b92-3555-4077-a2a2-b3943d6d312e_1\n-----\nDocument ID: 996ba738-9c0e-493f-981a-7807262b0dcb\nChunk ID: 996ba738-9c0e-493f-981a-7807262b0dcb_1\n-----\nDocument ID: d9cd8799-6501-4db8-9a60-b34f1ea00128\nChunk ID: d9cd8799-6501-4db8-9a60-b34f1ea00128_1\n-----\nDocument ID: 8fa0adfb-49a4-4ef1-bf77-82a2e0ae1941\nChunk ID: 8fa0adfb-49a4-4ef1-bf77-82a2e0ae1941_1\n-----\nDocument ID: d957b0b3-2293-46e6-9ba2-8cb386563531\nChunk ID: d957b0b3-2293-46e6-9ba2-8cb386563531_1\n-----\nDocument ID: 5c792f46-2989-4655-ac9a-cca40d3aafa1\nChunk ID: 5c792f46-2989-4655-ac9a-cca40d3aafa1_1\n-----\nDocument ID: 29095107-2382-471b-a77a-d8297f2403ad\nChunk ID: 29095107-2382-471b-a77a-d8297f2403ad_3\n-----\n"
          ]
        }
      ],
      "source": [
        "import os\n",
        "import json\n",
        "import fitz\n",
        "import uuid\n",
        "import docx\n",
        "import pptx\n",
        "import csv\n",
        "import pandas as pd\n",
        "import tiktoken\n",
        "import pymupdf4llm\n",
        "import pymupdf\n",
        "import openai\n",
        "from openai import AzureOpenAI\n",
        "from langchain.schema import HumanMessage\n",
        "from langchain.chat_models import AzureChatOpenAI\n",
        "from azure.core.credentials import AzureKeyCredential\n",
        "from azure.search.documents import SearchClient\n",
        "from azure.search.documents.indexes import SearchIndexClient\n",
        "from azure.search.documents.indexes.models import (\n",
        "    SearchIndex, SearchField, SearchFieldDataType, VectorSearch,\n",
        "    VectorSearchProfile, HnswAlgorithmConfiguration, HnswParameters,\n",
        "    VectorSearchAlgorithmMetric, SemanticConfiguration, SemanticPrioritizedFields,\n",
        "    SemanticField, SemanticSearch\n",
        ")\n",
        "from concurrent.futures import ThreadPoolExecutor, as_completed\n",
        "import uuid\n",
        "import os\n",
        "\n",
        "# Define credentials, endpoints, and index name\n",
        "scope_name = \"your_scope\n",
        "azure_search_key_id = \"your_search_key\"\n",
        "azure_openai_key_id = \"your_openai_key\"\n",
        "azure_search_key_value = dbutils.secrets.get(scope=scope_name, key=azure_search_key_id)\n",
        "azure_openai_key_value = dbutils.secrets.get(scope=scope_name, key=azure_openai_key_id)\n",
        "index_name= \"your_index_name\"\n",
        "\n",
        "azure_openai_endpoint = \"openai_endpoint\"\n",
        "azure_openai_embedding_deployment = \"text-embedding-ada-002\"\n",
        "azure_openai_api_version = \"2024-02-15-preview\"\n",
        "endpoint = \"endpoint\"\n",
        "key_credential_azure_search = azure_search_key_value\n",
        "\n",
        "# Initialize clients\n",
        "index_client = SearchIndexClient(endpoint=endpoint, credential=AzureKeyCredential(key_credential_azure_search))\n",
        "search_client = SearchClient(endpoint=endpoint, index_name=index_name, credential=AzureKeyCredential(key_credential_azure_search))\n",
        "embedding_client = AzureOpenAI(\n",
        "    azure_deployment=azure_openai_embedding_deployment,\n",
        "    api_version=azure_openai_api_version,\n",
        "    azure_endpoint=azure_openai_endpoint,\n",
        "    api_key=azure_openai_key_value\n",
        ")\n",
        "GPT_DEPLOYMENT_NAME='gpt-4-32k'\n",
        "os.environ[\"AZURE_OPENAI_API_KEY\"] = azure_openai_key_value\n",
        "os.environ[\"AZURE_OPENAI_ENDPOINT\"] = azure_openai_endpoint\n",
        "model = AzureChatOpenAI(\n",
        "    azure_endpoint=azure_openai_endpoint,\n",
        "    openai_api_version=azure_openai_api_version,\n",
        "    azure_deployment='gpt-4o'\n",
        ")\n",
        "\n",
        "# Define the index schema\n",
        "fields = [\n",
        "    SearchField(name=\"filepath\", type=SearchFieldDataType.String, filterable=True, sortable=True),\n",
        "    SearchField(name=\"summary\", type=SearchFieldDataType.String),\n",
        "    SearchField(name=\"chunk_id\", type=SearchFieldDataType.String,key=True),\n",
        "    SearchField(name=\"content\", type=SearchFieldDataType.String, searchable=True),\n",
        "    SearchField(name=\"id\", type=SearchFieldDataType.String),\n",
        "    SearchField(name=\"file_name\", type=SearchFieldDataType.String),\n",
        "    SearchField(name=\"sap_number\", type=SearchFieldDataType.String),\n",
        "    SearchField(name=\"year\", type=SearchFieldDataType.String),\n",
        "    SearchField(name=\"status\", type=SearchFieldDataType.String),\n",
        "    SearchField(name=\"description\", type=SearchFieldDataType.String),\n",
        "    SearchField(name=\"Publication_Type\", type=SearchFieldDataType.String),\n",
        "    SearchField(name=\"Model_Tag\", type=SearchFieldDataType.String),\n",
        "    SearchField(name=\"meta_content\", type=SearchFieldDataType.String),\n",
        "    SearchField(name=\"contentVector\", type=SearchFieldDataType.Collection(SearchFieldDataType.Single), searchable=True, vector_search_dimensions=1536, vector_search_profile_name=\"myHnswProfile\"),\n",
        "    SearchField(name=\"meta_content_vector\", type=SearchFieldDataType.Collection(SearchFieldDataType.Single), searchable=True, vector_search_dimensions=1536, vector_search_profile_name=\"myHnswProfile\")\n",
        "]\n",
        "\n",
        "# Configure vector search\n",
        "vector_search = VectorSearch(\n",
        "    algorithms=[\n",
        "        HnswAlgorithmConfiguration(\n",
        "            name=\"myHnsw\",\n",
        "            parameters=HnswParameters(\n",
        "                m=4,\n",
        "                ef_construction=100,\n",
        "                ef_search=100,\n",
        "                metric=VectorSearchAlgorithmMetric.COSINE\n",
        "            )\n",
        "        )\n",
        "    ],\n",
        "    profiles=[\n",
        "        VectorSearchProfile(\n",
        "            name=\"myHnswProfile\",\n",
        "            algorithm_configuration_name=\"myHnsw\"\n",
        "        )\n",
        "    ]\n",
        ")\n",
        "\n",
        "# Configure semantic search\n",
        "semantic_config = SemanticConfiguration(\n",
        "    name=\"my-semantic-config\",\n",
        "    prioritized_fields=SemanticPrioritizedFields(\n",
        "        content_fields=[\n",
        "            SemanticField(field_name=\"content\"),\n",
        "            SemanticField(field_name=\"filepath\"),\n",
        "            SemanticField(field_name=\"summary\")\n",
        "        ],\n",
        "        keyword_field=SemanticField(field_name=\"content\")\n",
        "    )\n",
        ")\n",
        "\n",
        "index = SearchIndex(\n",
        "    name=index_name,\n",
        "    fields=fields,\n",
        "    vector_search=vector_search,\n",
        "    semantic_search=SemanticSearch(configurations=[semantic_config])\n",
        ")\n",
        "\n",
        "# Create or update the search index\n",
        "index_client.create_or_update_index(index)\n",
        "print(f'{index_name} index created or updated')\n",
        "\n",
        "# Define prompt template for summarization\n",
        "prompt_template = \"\"\"Your task is to summarize the given content in less than 50 words. You need to capture important information such as what\n",
        "product is being spoken about and which year is the document published.\n",
        "You dont have to go through every line. Just go through all topics and headings and come up with a summary\n",
        "Context is enclosed in <context>{context}</context>\n",
        "\"\"\"\n",
        "\n",
        "def load_metadata(csv_filepath):\n",
        "    df = pd.read_csv(csv_filepath)\n",
        "    records = df.to_dict(orient='records')\n",
        "    return {record['file_name']: {k: v for k, v in record.items() if k != 'file_name'} for record in records}\n",
        "\n",
        "def generate_summary(context):\n",
        "    prompt = prompt_template.format(context=context)\n",
        "    message = HumanMessage(content=prompt)\n",
        "    return str(model([message]))\n",
        "\n",
        "def convert_to_text(filepath):\n",
        "    ext = filepath.split('.')[-1].lower()\n",
        "    if ext == 'pdf':\n",
        "        try:\n",
        "         text = pymupdf4llm.to_markdown(filepath)\n",
        "        except Exception as e:\n",
        "         print(f\"Error using pymupdf4llm: {e}. Falling back to pymupdf.\")\n",
        "         doc = pymupdf.open(filepath)\n",
        "         text=\"\"\n",
        "         for page in doc: # iterate the document pages\n",
        "            text += page.get_text()\n",
        "    elif ext == 'docx':\n",
        "        doc = docx.Document(filepath)\n",
        "        text = \"\\n\".join([para.text for para in doc.paragraphs])\n",
        "    elif ext == 'pptx':\n",
        "        prs = pptx.Presentation(filepath)\n",
        "        text = \"\\n\".join([shape.text for slide in prs.slides for shape in slide.shapes if hasattr(shape, \"text\")])\n",
        "    elif ext == 'csv':\n",
        "        with open(filepath, newline='', encoding='utf-8') as csvfile:\n",
        "            reader = csv.reader(csvfile)\n",
        "            text = \"\\n\".join([','.join(row) for row in reader])\n",
        "    else:\n",
        "        raise ValueError(\"Unsupported file type\")\n",
        "    return text\n",
        "\n",
        "def chunk_text(content, token_limit=4000):\n",
        "    enc = tiktoken.encoding_for_model(\"gpt-4-32k\")\n",
        "    tokens = enc.encode(content)\n",
        "    print(f\"Total tokens: {len(tokens)}\")  # Debug print\n",
        "    def generate_chunks():\n",
        "        start = 0\n",
        "        while start < len(tokens):\n",
        "            end = min(start + token_limit, len(tokens))\n",
        "            chunk = enc.decode(tokens[start:end])\n",
        "            print(f\"Start: {start}, End: {end}, Chunk Length: {len(chunk)}\")  # Debug print\n",
        "            yield chunk\n",
        "            start = end\n",
        "        print(\"Reached the end of tokens.\")\n",
        "    return generate_chunks()\n",
        "\n",
        "def process_document(filepath, metadata_dict, document_id, batch_size):\n",
        "    text = convert_to_text(filepath)\n",
        "    chunk_generator = chunk_text(text)\n",
        "    documents = []\n",
        "    filename = os.path.basename(filepath)\n",
        "    meta_data = load_metadata(metadata_dict)\n",
        "    chunk_counter = 1\n",
        "    chunk_batch = []\n",
        "\n",
        "    with ThreadPoolExecutor(max_workers=20) as executor:\n",
        "        future_to_chunk = {}\n",
        "        for chunk in chunk_generator:\n",
        "            chunk_batch.append(chunk)\n",
        "            if len(chunk_batch) >= batch_size:\n",
        "                # Submit futures for the current batch\n",
        "                for chunk in chunk_batch:\n",
        "                    future = executor.submit(generate_summary, chunk)\n",
        "                    future_to_chunk[future] = chunk\n",
        "                # Process futures for the current batch\n",
        "                for future in as_completed(future_to_chunk):\n",
        "                    chunk = future_to_chunk[future]\n",
        "                    try:\n",
        "                        summary = future.result()\n",
        "                        meta_content = (\n",
        "                            f\"File Name: {filename}, \"\n",
        "                            f\"Sap Number: {meta_data.get('sap_number', '')}, \"\n",
        "                            f\"Year: {meta_data.get('print_date', '')}, \"\n",
        "                            f\"Status: {meta_data.get('status', '')}, \"\n",
        "                            f\"Description: {meta_data.get('description', '')}, \"\n",
        "                            f\"Publication Type: {meta_data.get('Publication_Type', '')}, \"\n",
        "                            f\"Model Tag: {meta_data.get('Model_Tag', '')}\"\n",
        "                        )\n",
        "                        chunk_id = f\"{document_id}_{chunk_counter}\"\n",
        "\n",
        "                        document = {\n",
        "                            \"filepath\": filepath,\n",
        "                            \"summary\": summary,\n",
        "                            \"chunk_id\": chunk_id,\n",
        "                            \"content\": chunk,\n",
        "                            \"id\": document_id,\n",
        "                            \"meta_content\": meta_content,\n",
        "                            \"file_name\": filename,\n",
        "                            \"sap_number\": meta_data.get('sap_number', ''),\n",
        "                            \"year\": meta_data.get('print_date', ''),\n",
        "                            \"status\": meta_data.get('status', ''),\n",
        "                            \"description\": meta_data.get('description', ''),\n",
        "                            \"Publication_Type\": meta_data.get('Publication_Type', ''),\n",
        "                            \"Model_Tag\": meta_data.get('Model_Tag', ''),\n",
        "                            \"contentVector\": [],\n",
        "                            \"meta_content_vector\": []\n",
        "                        }\n",
        "                        documents.append(document)\n",
        "                        chunk_counter += 1\n",
        "                    except Exception as e:\n",
        "                        print(f\"Error generating summary for chunk: {e}\")\n",
        "\n",
        "                chunk_batch = []  # Clear batch after processing\n",
        "\n",
        "        # Process remaining chunks in the batch after the loop\n",
        "        if chunk_batch:\n",
        "            for chunk in chunk_batch:\n",
        "                future = executor.submit(generate_summary, chunk)\n",
        "                future_to_chunk[future] = chunk\n",
        "            for future in as_completed(future_to_chunk):\n",
        "                chunk = future_to_chunk[future]\n",
        "                try:\n",
        "                    summary = future.result()\n",
        "                    meta_content = (\n",
        "                        f\"File Name: {filename}, \"\n",
        "                        f\"Sap Number: {meta_data.get('sap_number', '')}, \"\n",
        "                        f\"Year: {meta_data.get('print_date', '')}, \"\n",
        "                        f\"Status: {meta_data.get('status', '')}, \"\n",
        "                        f\"Description: {meta_data.get('description', '')}, \"\n",
        "                        f\"Publication Type: {meta_data.get('Publication_Type', '')}, \"\n",
        "                        f\"Model Tag: {meta_data.get('Model_Tag', '')}\"\n",
        "                    )\n",
        "                    chunk_id = f\"{document_id}_{chunk_counter}\"\n",
        "                    document = {\n",
        "                        \"filepath\": filepath,\n",
        "                        \"summary\": summary,\n",
        "                        \"chunk_id\": chunk_id,\n",
        "                        \"content\": chunk,\n",
        "                        \"id\": document_id,\n",
        "                        \"meta_content\": meta_content,\n",
        "                        \"file_name\": filename,\n",
        "                        \"sap_number\": meta_data.get('sap_number', ''),\n",
        "                        \"year\": meta_data.get('print_date', ''),\n",
        "                        \"status\": meta_data.get('status', ''),\n",
        "                        \"description\": meta_data.get('description', ''),\n",
        "                        \"Publication_Type\": meta_data.get('Publication_Type', ''),\n",
        "                        \"Model_Tag\": meta_data.get('Model_Tag', ''),\n",
        "                        \"contentVector\": [],\n",
        "                        \"meta_content_vector\": []\n",
        "                    }\n",
        "                    documents.append(document)\n",
        "                    chunk_counter += 1\n",
        "                except Exception as e:\n",
        "                    print(f\"Error generating summary for chunk: {e}\")\n",
        "\n",
        "    return documents\n",
        "\n",
        "# Upload the current batch of documents\n",
        "def index_documents(documents,batch_size):\n",
        "    total_docs = len(documents)\n",
        "    for start in range(0, total_docs, batch_size):\n",
        "        end = min(start + batch_size, total_docs)\n",
        "        doc_batch = documents[start:end]\n",
        "        try:\n",
        "            result = search_client.upload_documents(documents=doc_batch)\n",
        "            print(f\"Uploaded documents {start + 1} to {end} (total: {total_docs})\")\n",
        "        except Exception as e:\n",
        "            print(f\"Error uploading batch {start + 1} to {end}: {e}\")\n",
        "    print(\"All documents uploaded successfully\")\n",
        "\n",
        "def process_and_index_folder(folder_path, metadata_dict, batch_size):\n",
        "    all_documents = []\n",
        "\n",
        "    for filename in os.listdir(folder_path):\n",
        "        filepath = os.path.join(folder_path, filename)\n",
        "        print(filepath)\n",
        "\n",
        "        if not os.path.isfile(filepath):\n",
        "            continue\n",
        "        try:\n",
        "            document_id = str(uuid.uuid4())\n",
        "            documents = process_document(filepath, metadata_dict, document_id, batch_size=batch_size)\n",
        "            all_documents.extend(documents)\n",
        "        except Exception as e:\n",
        "            print(f\"Error processing file {filename}: {e}\")\n",
        "\n",
        "        # Upload documents in batches if the batch size is reached\n",
        "        while len(all_documents) >= batch_size:\n",
        "            batch_to_upload = all_documents[:batch_size]\n",
        "            all_documents = all_documents[batch_size:]\n",
        "            try:\n",
        "                index_documents(batch_to_upload, batch_size)\n",
        "            except Exception as e:\n",
        "                print(f\"Error uploading batch: {e}\")\n",
        "\n",
        "    # Upload any remaining documents after processing all files\n",
        "    if all_documents:\n",
        "        try:\n",
        "            index_documents(all_documents, batch_size)\n",
        "        except Exception as e:\n",
        "            print(f\"Error uploading final batch: {e}\")\n",
        "\n",
        "# Usage example\n",
        "folder_path = \"your_data\"\n",
        "metadata_csv = \"your_meta_data\" #optional\n",
        "process_and_index_folder(folder_path, metadata_csv, batch_size=10)"
      ]
    },
    {
      "cell_type": "markdown",
      "metadata": {
        "application/vnd.databricks.v1+cell": {
          "cellMetadata": {},
          "inputWidgets": {},
          "nuid": "eb353672-9b9b-4543-8198-f98f7b45004e",
          "showTitle": false,
          "title": ""
        },
        "id": "V_Fo-NzrZk47"
      },
      "source": []
    },
    {
      "cell_type": "markdown",
      "metadata": {
        "application/vnd.databricks.v1+cell": {
          "cellMetadata": {},
          "inputWidgets": {},
          "nuid": "b07a4851-33d2-4439-b989-ca6de12e7d26",
          "showTitle": false,
          "title": ""
        },
        "id": "zJycbhtOZk47"
      },
      "source": [
        "Set permissions and dependencies for azure search, embedding client, and GPT"
      ]
    },
    {
      "cell_type": "markdown",
      "metadata": {
        "application/vnd.databricks.v1+cell": {
          "cellMetadata": {},
          "inputWidgets": {},
          "nuid": "e6997547-c181-4592-bc10-11fe831fc400",
          "showTitle": false,
          "title": ""
        },
        "id": "Y_7g3mWiZk48"
      },
      "source": [
        "Create embeddings for content, store in index"
      ]
    },
    {
      "cell_type": "code",
      "execution_count": null,
      "metadata": {
        "application/vnd.databricks.v1+cell": {
          "cellMetadata": {
            "byteLimit": 2048000,
            "rowLimit": 10000
          },
          "inputWidgets": {},
          "nuid": "10e1df9a-7bae-498d-b31f-c6a7334a0ba2",
          "showTitle": false,
          "title": ""
        },
        "id": "czTJnP9jZk48",
        "outputId": "572be2a8-b1fc-4754-c10f-9319d5745ba8"
      },
      "outputs": [
        {
          "output_type": "stream",
          "name": "stdout",
          "text": [
            "Total documents retrieved: 17631\nTotal documents with empty vectors: 980\nIndexed batch 1 for doc_id 927a0ca5-43e2-4160-98a6-5639c8bc387f\nUpload result: [<azure.search.documents._generated.models._models_py3.IndexingResult object at 0x7fb5e4dd28f0>, <azure.search.documents._generated.models._models_py3.IndexingResult object at 0x7fb5e4dd18a0>, <azure.search.documents._generated.models._models_py3.IndexingResult object at 0x7fb5e4dd22f0>, <azure.search.documents._generated.models._models_py3.IndexingResult object at 0x7fb5e4dd0c70>, <azure.search.documents._generated.models._models_py3.IndexingResult object at 0x7fb5e4dd0490>, <azure.search.documents._generated.models._models_py3.IndexingResult object at 0x7fb5e4dd1090>, <azure.search.documents._generated.models._models_py3.IndexingResult object at 0x7fb5e4dd09d0>, <azure.search.documents._generated.models._models_py3.IndexingResult object at 0x7fb5e4dd0820>, <azure.search.documents._generated.models._models_py3.IndexingResult object at 0x7fb5e4dd0ac0>, <azure.search.documents._generated.models._models_py3.IndexingResult object at 0x7fb5e4dd12d0>]\nIndexed batch 1 for doc_id f7b75dae-a67e-4e40-b112-337194cf566e\nUpload result: [<azure.search.documents._generated.models._models_py3.IndexingResult object at 0x7fb5e4dd1c60>, <azure.search.documents._generated.models._models_py3.IndexingResult object at 0x7fb5e4dd1600>, <azure.search.documents._generated.models._models_py3.IndexingResult object at 0x7fb5e4dd1510>, <azure.search.documents._generated.models._models_py3.IndexingResult object at 0x7fb5e4dd14b0>, <azure.search.documents._generated.models._models_py3.IndexingResult object at 0x7fb5e4dd0dc0>, <azure.search.documents._generated.models._models_py3.IndexingResult object at 0x7fb5e4dd02e0>, <azure.search.documents._generated.models._models_py3.IndexingResult object at 0x7fb5e4dd0370>, <azure.search.documents._generated.models._models_py3.IndexingResult object at 0x7fb5e4dd1390>, <azure.search.documents._generated.models._models_py3.IndexingResult object at 0x7fb5e4dd1270>, <azure.search.documents._generated.models._models_py3.IndexingResult object at 0x7fb5e4dd1240>]\nIndexed batch 1 for doc_id bb3cb465-80dc-46f9-9542-3a619ba4eb94\nUpload result: [<azure.search.documents._generated.models._models_py3.IndexingResult object at 0x7fb5e4db20e0>, <azure.search.documents._generated.models._models_py3.IndexingResult object at 0x7fb5e4db2b30>, <azure.search.documents._generated.models._models_py3.IndexingResult object at 0x7fb5e4db36a0>, <azure.search.documents._generated.models._models_py3.IndexingResult object at 0x7fb5e4db30a0>, <azure.search.documents._generated.models._models_py3.IndexingResult object at 0x7fb5e4db02e0>, <azure.search.documents._generated.models._models_py3.IndexingResult object at 0x7fb5e4db1900>, <azure.search.documents._generated.models._models_py3.IndexingResult object at 0x7fb5e4db3f10>, <azure.search.documents._generated.models._models_py3.IndexingResult object at 0x7fb5e4db1930>, <azure.search.documents._generated.models._models_py3.IndexingResult object at 0x7fb5e4db1a50>, <azure.search.documents._generated.models._models_py3.IndexingResult object at 0x7fb5e4db3490>]\nIndexed batch 1 for doc_id e9863967-d16e-40e4-8cce-d8f7f1dd35f0\nUpload result: [<azure.search.documents._generated.models._models_py3.IndexingResult object at 0x7fb5e4dd1ba0>, <azure.search.documents._generated.models._models_py3.IndexingResult object at 0x7fb5e4dd1ff0>, <azure.search.documents._generated.models._models_py3.IndexingResult object at 0x7fb5e4dd2620>]\nIndexed batch 1 for doc_id 0d4f787e-5b23-4d7f-b5f5-0b52df9ad0b1\nUpload result: [<azure.search.documents._generated.models._models_py3.IndexingResult object at 0x7fb6459c1b10>, <azure.search.documents._generated.models._models_py3.IndexingResult object at 0x7fb6459c3730>, <azure.search.documents._generated.models._models_py3.IndexingResult object at 0x7fb6459c3bb0>]\nIndexed batch 1 for doc_id 808ca815-25b7-4353-8bc4-7dccfcdc7c0a\nUpload result: [<azure.search.documents._generated.models._models_py3.IndexingResult object at 0x7fb64fef32e0>, <azure.search.documents._generated.models._models_py3.IndexingResult object at 0x7fb64fef29b0>, <azure.search.documents._generated.models._models_py3.IndexingResult object at 0x7fb64fef0e80>]\nIndexed batch 1 for doc_id 2be99fe4-e443-4c82-b414-a92661f728ca\nUpload result: [<azure.search.documents._generated.models._models_py3.IndexingResult object at 0x7fb6459c3850>, <azure.search.documents._generated.models._models_py3.IndexingResult object at 0x7fb6459c2170>, <azure.search.documents._generated.models._models_py3.IndexingResult object at 0x7fb6459c2260>, <azure.search.documents._generated.models._models_py3.IndexingResult object at 0x7fb6459c1f30>]\nIndexed batch 1 for doc_id 6e7f5c2e-0955-41a5-89f3-8f9faebeb00a\nUpload result: [<azure.search.documents._generated.models._models_py3.IndexingResult object at 0x7fb5e4dd1f60>, <azure.search.documents._generated.models._models_py3.IndexingResult object at 0x7fb5e4dd0e80>, <azure.search.documents._generated.models._models_py3.IndexingResult object at 0x7fb5e4dd2a40>]\nIndexed batch 1 for doc_id df6e2795-e162-41ff-b9f7-1e660ea2dcc0\nUpload result: [<azure.search.documents._generated.models._models_py3.IndexingResult object at 0x7fb5e4db3c10>, <azure.search.documents._generated.models._models_py3.IndexingResult object at 0x7fb5e4db1690>, <azure.search.documents._generated.models._models_py3.IndexingResult object at 0x7fb5e4db2800>]\nIndexed batch 1 for doc_id 17bc3dff-bd5e-4da4-94ea-2799dd9335cb\nUpload result: [<azure.search.documents._generated.models._models_py3.IndexingResult object at 0x7fb64fef0160>, <azure.search.documents._generated.models._models_py3.IndexingResult object at 0x7fb64fef3280>, <azure.search.documents._generated.models._models_py3.IndexingResult object at 0x7fb64fef2290>]\nIndexed batch 1 for doc_id ce4c521c-f935-4721-ba4e-e0f2d8f76741\nUpload result: [<azure.search.documents._generated.models._models_py3.IndexingResult object at 0x7fb643881330>, <azure.search.documents._generated.models._models_py3.IndexingResult object at 0x7fb643880d60>, <azure.search.documents._generated.models._models_py3.IndexingResult object at 0x7fb643881c90>, <azure.search.documents._generated.models._models_py3.IndexingResult object at 0x7fb643883ee0>, <azure.search.documents._generated.models._models_py3.IndexingResult object at 0x7fb643881840>, <azure.search.documents._generated.models._models_py3.IndexingResult object at 0x7fb643882b30>]\nIndexed batch 1 for doc_id bccf7aa8-07d4-4a8a-88ab-e598fa8e4347\nUpload result: [<azure.search.documents._generated.models._models_py3.IndexingResult object at 0x7fb5e4db3550>, <azure.search.documents._generated.models._models_py3.IndexingResult object at 0x7fb5e4db1cc0>, <azure.search.documents._generated.models._models_py3.IndexingResult object at 0x7fb5e4db13c0>, <azure.search.documents._generated.models._models_py3.IndexingResult object at 0x7fb5e4db00a0>, <azure.search.documents._generated.models._models_py3.IndexingResult object at 0x7fb5e4db17e0>, <azure.search.documents._generated.models._models_py3.IndexingResult object at 0x7fb5e4db1b70>, <azure.search.documents._generated.models._models_py3.IndexingResult object at 0x7fb5e4db3040>]\nIndexed batch 1 for doc_id 74ba28a1-bd80-4ab2-a624-f6d325e70269\nUpload result: [<azure.search.documents._generated.models._models_py3.IndexingResult object at 0x7fb5e4dd12d0>, <azure.search.documents._generated.models._models_py3.IndexingResult object at 0x7fb5e4dd1ff0>, <azure.search.documents._generated.models._models_py3.IndexingResult object at 0x7fb5e4dd2fe0>, <azure.search.documents._generated.models._models_py3.IndexingResult object at 0x7fb5e4dd34f0>, <azure.search.documents._generated.models._models_py3.IndexingResult object at 0x7fb5e4dd3220>, <azure.search.documents._generated.models._models_py3.IndexingResult object at 0x7fb5e4dd3a90>, <azure.search.documents._generated.models._models_py3.IndexingResult object at 0x7fb5e4dd3be0>, <azure.search.documents._generated.models._models_py3.IndexingResult object at 0x7fb5e4dd3a60>]\nIndexed batch 1 for doc_id d85c3df2-67e3-4044-b5d8-5a11dbd9abe0\nUpload result: [<azure.search.documents._generated.models._models_py3.IndexingResult object at 0x7fb6459c1870>]\nIndexed batch 1 for doc_id 7647218d-b7a5-4f62-9c86-e64a13583a47\nUpload result: [<azure.search.documents._generated.models._models_py3.IndexingResult object at 0x7fb643882e60>]\nIndexed batch 1 for doc_id a9876199-1245-43e9-8330-2f708d2dc74a\nUpload result: [<azure.search.documents._generated.models._models_py3.IndexingResult object at 0x7fb6459c1150>, <azure.search.documents._generated.models._models_py3.IndexingResult object at 0x7fb6459c3520>, <azure.search.documents._generated.models._models_py3.IndexingResult object at 0x7fb6459c1b40>, <azure.search.documents._generated.models._models_py3.IndexingResult object at 0x7fb6459c0a90>]\nIndexed batch 1 for doc_id 167750b7-f9b1-4dba-835d-0f6304800f78\nUpload result: [<azure.search.documents._generated.models._models_py3.IndexingResult object at 0x7fb5e4dd1000>, <azure.search.documents._generated.models._models_py3.IndexingResult object at 0x7fb5e4dd3520>, <azure.search.documents._generated.models._models_py3.IndexingResult object at 0x7fb5e4dd1300>, <azure.search.documents._generated.models._models_py3.IndexingResult object at 0x7fb5e4dd0d30>]\nIndexed batch 1 for doc_id 90055641-153e-4f43-a096-6751d785299c\nUpload result: [<azure.search.documents._generated.models._models_py3.IndexingResult object at 0x7fb5e4db2f20>, <azure.search.documents._generated.models._models_py3.IndexingResult object at 0x7fb5e4db3d00>]\nIndexed batch 1 for doc_id 7ec072c4-e06c-4608-8d95-22c1621447c3\nUpload result: [<azure.search.documents._generated.models._models_py3.IndexingResult object at 0x7fb643880d60>, <azure.search.documents._generated.models._models_py3.IndexingResult object at 0x7fb643883880>, <azure.search.documents._generated.models._models_py3.IndexingResult object at 0x7fb6438800d0>]\nIndexed batch 1 for doc_id 8cb1bdf0-f4f4-4a29-82bb-21b7deda5fcc\nUpload result: [<azure.search.documents._generated.models._models_py3.IndexingResult object at 0x7fb64fef3400>]\nIndexed batch 1 for doc_id 2edff925-f080-4ce8-b42d-a1b33e00fb96\nUpload result: [<azure.search.documents._generated.models._models_py3.IndexingResult object at 0x7fb64fef3a30>, <azure.search.documents._generated.models._models_py3.IndexingResult object at 0x7fb64fef3f70>, <azure.search.documents._generated.models._models_py3.IndexingResult object at 0x7fb64fef3430>, <azure.search.documents._generated.models._models_py3.IndexingResult object at 0x7fb64fef2c80>]\nIndexed batch 1 for doc_id 19c21c13-ca5f-4bcf-ab7d-17b19a2d6e79\nUpload result: [<azure.search.documents._generated.models._models_py3.IndexingResult object at 0x7fb5e4db1060>, <azure.search.documents._generated.models._models_py3.IndexingResult object at 0x7fb5e4db1270>]\nIndexed batch 1 for doc_id cb38ba6b-2c00-4bb6-9464-ffae2a281af2\nUpload result: [<azure.search.documents._generated.models._models_py3.IndexingResult object at 0x7fb5e4dd1d80>]\nIndexed batch 1 for doc_id 511c26c8-9d69-4248-b9b5-4f77628e67f5\nUpload result: [<azure.search.documents._generated.models._models_py3.IndexingResult object at 0x7fb6556ad990>, <azure.search.documents._generated.models._models_py3.IndexingResult object at 0x7fb6556ac130>, <azure.search.documents._generated.models._models_py3.IndexingResult object at 0x7fb6459c3370>]\nIndexed batch 1 for doc_id 0cbd4ef0-f050-4d81-836b-f40813fc9100\nUpload result: [<azure.search.documents._generated.models._models_py3.IndexingResult object at 0x7fb64f5bba90>, <azure.search.documents._generated.models._models_py3.IndexingResult object at 0x7fb64f5b8d90>, <azure.search.documents._generated.models._models_py3.IndexingResult object at 0x7fb64f5bb490>, <azure.search.documents._generated.models._models_py3.IndexingResult object at 0x7fb64f5ba320>]\nIndexed batch 1 for doc_id 3c2a34a9-8b2b-48b8-943f-40e3b5d10678\nUpload result: [<azure.search.documents._generated.models._models_py3.IndexingResult object at 0x7fb6459c1780>, <azure.search.documents._generated.models._models_py3.IndexingResult object at 0x7fb6459c3c40>, <azure.search.documents._generated.models._models_py3.IndexingResult object at 0x7fb6459c28f0>, <azure.search.documents._generated.models._models_py3.IndexingResult object at 0x7fb6459c2260>]\nIndexed batch 1 for doc_id ac5351a0-81c5-4190-8a3d-03118702291b\nUpload result: [<azure.search.documents._generated.models._models_py3.IndexingResult object at 0x7fb5e4dd1150>]\nIndexed batch 1 for doc_id bde939fd-f790-46d7-8f74-df476f478e04\nUpload result: [<azure.search.documents._generated.models._models_py3.IndexingResult object at 0x7fb5e4db1ba0>, <azure.search.documents._generated.models._models_py3.IndexingResult object at 0x7fb5e4db03a0>, <azure.search.documents._generated.models._models_py3.IndexingResult object at 0x7fb5e4db2680>]\nIndexed batch 1 for doc_id 086f1f73-d400-4f26-885d-c4fea783a4b6\nUpload result: [<azure.search.documents._generated.models._models_py3.IndexingResult object at 0x7fb6448e10f0>, <azure.search.documents._generated.models._models_py3.IndexingResult object at 0x7fb6448e1b10>, <azure.search.documents._generated.models._models_py3.IndexingResult object at 0x7fb6448e0f40>, <azure.search.documents._generated.models._models_py3.IndexingResult object at 0x7fb6448e2620>]\nIndexed batch 1 for doc_id 7f4e3310-5c5b-495d-9a39-98ec98e63ec9\nUpload result: [<azure.search.documents._generated.models._models_py3.IndexingResult object at 0x7fb655792860>, <azure.search.documents._generated.models._models_py3.IndexingResult object at 0x7fb6557906d0>, <azure.search.documents._generated.models._models_py3.IndexingResult object at 0x7fb655792410>, <azure.search.documents._generated.models._models_py3.IndexingResult object at 0x7fb644695720>]\nIndexed batch 1 for doc_id f5066006-08f5-46fb-8495-11ab0ead6b08\nUpload result: [<azure.search.documents._generated.models._models_py3.IndexingResult object at 0x7fb5e4db1c00>, <azure.search.documents._generated.models._models_py3.IndexingResult object at 0x7fb5e4db14e0>, <azure.search.documents._generated.models._models_py3.IndexingResult object at 0x7fb5e4db1870>, <azure.search.documents._generated.models._models_py3.IndexingResult object at 0x7fb5e4db0b50>]\nIndexed batch 1 for doc_id 89a0a684-3632-4131-910e-335749c2a0ad\nUpload result: [<azure.search.documents._generated.models._models_py3.IndexingResult object at 0x7fb5e4dd1bd0>]\nIndexed batch 1 for doc_id acb64ab7-f7d0-4575-9151-6ffb3f2c053b\nUpload result: [<azure.search.documents._generated.models._models_py3.IndexingResult object at 0x7fb6459c3ee0>, <azure.search.documents._generated.models._models_py3.IndexingResult object at 0x7fb6459c2170>, <azure.search.documents._generated.models._models_py3.IndexingResult object at 0x7fb6459c29b0>, <azure.search.documents._generated.models._models_py3.IndexingResult object at 0x7fb6459c1960>]\nIndexed batch 1 for doc_id 571829e6-0cf1-46aa-9fb6-efda86c09f4e\nUpload result: [<azure.search.documents._generated.models._models_py3.IndexingResult object at 0x7fb63ac48250>, <azure.search.documents._generated.models._models_py3.IndexingResult object at 0x7fb63ac49360>, <azure.search.documents._generated.models._models_py3.IndexingResult object at 0x7fb63ac4b280>, <azure.search.documents._generated.models._models_py3.IndexingResult object at 0x7fb63ac4ae60>]\nIndexed batch 1 for doc_id 99853801-fb73-4e74-a4a1-6235122a6d88\nUpload result: [<azure.search.documents._generated.models._models_py3.IndexingResult object at 0x7fb643883c70>, <azure.search.documents._generated.models._models_py3.IndexingResult object at 0x7fb6438835b0>, <azure.search.documents._generated.models._models_py3.IndexingResult object at 0x7fb643880d60>]\nIndexed batch 1 for doc_id 62f60404-74ce-46fe-8181-6f22160b44cb\nUpload result: [<azure.search.documents._generated.models._models_py3.IndexingResult object at 0x7fb5e4dd1cf0>, <azure.search.documents._generated.models._models_py3.IndexingResult object at 0x7fb5e4dd0a60>]\nIndexed batch 1 for doc_id 49223ae0-3dd0-4b12-bc5f-7479753ae35f\nUpload result: [<azure.search.documents._generated.models._models_py3.IndexingResult object at 0x7fb6448e3370>, <azure.search.documents._generated.models._models_py3.IndexingResult object at 0x7fb6448e25c0>]\nIndexed batch 1 for doc_id 3ea55ff5-3ece-44f1-b961-93e0988e90fe\nUpload result: [<azure.search.documents._generated.models._models_py3.IndexingResult object at 0x7fb63ac4a9e0>]\nIndexed batch 1 for doc_id 3301584c-82ef-427d-bb94-dd65120a1778\nUpload result: [<azure.search.documents._generated.models._models_py3.IndexingResult object at 0x7fb63ac495d0>, <azure.search.documents._generated.models._models_py3.IndexingResult object at 0x7fb63ac493c0>, <azure.search.documents._generated.models._models_py3.IndexingResult object at 0x7fb63ac4afb0>, <azure.search.documents._generated.models._models_py3.IndexingResult object at 0x7fb63ac4a3b0>, <azure.search.documents._generated.models._models_py3.IndexingResult object at 0x7fb63ac49690>]\nIndexed batch 1 for doc_id 04ed8967-9bce-4d26-8599-fcc74e8f5918\nUpload result: [<azure.search.documents._generated.models._models_py3.IndexingResult object at 0x7fb5e4db0820>, <azure.search.documents._generated.models._models_py3.IndexingResult object at 0x7fb5e4db1bd0>, <azure.search.documents._generated.models._models_py3.IndexingResult object at 0x7fb5e4db02e0>, <azure.search.documents._generated.models._models_py3.IndexingResult object at 0x7fb5e4db2b60>, <azure.search.documents._generated.models._models_py3.IndexingResult object at 0x7fb5e4db0640>]\nIndexed batch 1 for doc_id a7105422-1be8-4e8f-93da-41844656833c\nUpload result: [<azure.search.documents._generated.models._models_py3.IndexingResult object at 0x7fb64f5b9930>, <azure.search.documents._generated.models._models_py3.IndexingResult object at 0x7fb64f5baa40>, <azure.search.documents._generated.models._models_py3.IndexingResult object at 0x7fb64f5b8a30>, <azure.search.documents._generated.models._models_py3.IndexingResult object at 0x7fb6459c33a0>, <azure.search.documents._generated.models._models_py3.IndexingResult object at 0x7fb6459c31f0>, <azure.search.documents._generated.models._models_py3.IndexingResult object at 0x7fb6459c3b80>, <azure.search.documents._generated.models._models_py3.IndexingResult object at 0x7fb6459c06a0>, <azure.search.documents._generated.models._models_py3.IndexingResult object at 0x7fb6459c0e50>, <azure.search.documents._generated.models._models_py3.IndexingResult object at 0x7fb6459c0100>, <azure.search.documents._generated.models._models_py3.IndexingResult object at 0x7fb6459c3a00>]\nIndexed batch 1 for doc_id db692725-fcdd-4a4f-9bea-362124d94775\nUpload result: [<azure.search.documents._generated.models._models_py3.IndexingResult object at 0x7fb64c67a500>, <azure.search.documents._generated.models._models_py3.IndexingResult object at 0x7fb64c679240>]\nIndexed batch 1 for doc_id 2a8eead0-db81-481a-91b3-380bd9e6687a\nUpload result: [<azure.search.documents._generated.models._models_py3.IndexingResult object at 0x7fb63ac48c70>, <azure.search.documents._generated.models._models_py3.IndexingResult object at 0x7fb63ac49d50>, <azure.search.documents._generated.models._models_py3.IndexingResult object at 0x7fb63ac49db0>]\nIndexed batch 1 for doc_id 21a9e689-101d-4622-b72f-e28cf9561fac\nUpload result: [<azure.search.documents._generated.models._models_py3.IndexingResult object at 0x7fb64c5e44f0>, <azure.search.documents._generated.models._models_py3.IndexingResult object at 0x7fb64c5e5870>, <azure.search.documents._generated.models._models_py3.IndexingResult object at 0x7fb64c5e59f0>]\nIndexed batch 1 for doc_id ec119979-c702-4216-9fcc-310f0885ec5d\nUpload result: [<azure.search.documents._generated.models._models_py3.IndexingResult object at 0x7fb643883dc0>, <azure.search.documents._generated.models._models_py3.IndexingResult object at 0x7fb643881150>, <azure.search.documents._generated.models._models_py3.IndexingResult object at 0x7fb643881fc0>]\nIndexed batch 1 for doc_id 058ee4d0-f772-4f44-8f3e-7799ce26e2bb\nUpload result: [<azure.search.documents._generated.models._models_py3.IndexingResult object at 0x7fb6448e38e0>, <azure.search.documents._generated.models._models_py3.IndexingResult object at 0x7fb6448e2c50>, <azure.search.documents._generated.models._models_py3.IndexingResult object at 0x7fb6448e2950>, <azure.search.documents._generated.models._models_py3.IndexingResult object at 0x7fb6448e29b0>, <azure.search.documents._generated.models._models_py3.IndexingResult object at 0x7fb6448e3670>, <azure.search.documents._generated.models._models_py3.IndexingResult object at 0x7fb6448e1540>, <azure.search.documents._generated.models._models_py3.IndexingResult object at 0x7fb6448e31f0>, <azure.search.documents._generated.models._models_py3.IndexingResult object at 0x7fb6448e2ec0>, <azure.search.documents._generated.models._models_py3.IndexingResult object at 0x7fb6448e1d80>]\nIndexed batch 1 for doc_id 52645df5-11f4-44e1-90b2-1cdf2e55d38e\nUpload result: [<azure.search.documents._generated.models._models_py3.IndexingResult object at 0x7fb6448e0880>, <azure.search.documents._generated.models._models_py3.IndexingResult object at 0x7fb6448e32e0>, <azure.search.documents._generated.models._models_py3.IndexingResult object at 0x7fb6448e3ca0>, <azure.search.documents._generated.models._models_py3.IndexingResult object at 0x7fb6448e3040>, <azure.search.documents._generated.models._models_py3.IndexingResult object at 0x7fb6448e23b0>]\nIndexed batch 1 for doc_id 74fbe15f-599b-4c0c-8641-d1710b819bc2\nUpload result: [<azure.search.documents._generated.models._models_py3.IndexingResult object at 0x7fb6438829e0>, <azure.search.documents._generated.models._models_py3.IndexingResult object at 0x7fb6438804f0>, <azure.search.documents._generated.models._models_py3.IndexingResult object at 0x7fb643881ae0>]\nIndexed batch 1 for doc_id c3cbd36a-a834-4ebe-87bd-6834013b94ba\nUpload result: [<azure.search.documents._generated.models._models_py3.IndexingResult object at 0x7fb63ac4b3d0>, <azure.search.documents._generated.models._models_py3.IndexingResult object at 0x7fb63ac4b7c0>, <azure.search.documents._generated.models._models_py3.IndexingResult object at 0x7fb63ac4b1f0>, <azure.search.documents._generated.models._models_py3.IndexingResult object at 0x7fb63ac4a2f0>, <azure.search.documents._generated.models._models_py3.IndexingResult object at 0x7fb63ac4afe0>]\nIndexed batch 1 for doc_id d0fadaaf-f62a-4d75-863e-1306cd7c1484\nUpload result: [<azure.search.documents._generated.models._models_py3.IndexingResult object at 0x7fb63ac4a260>, <azure.search.documents._generated.models._models_py3.IndexingResult object at 0x7fb63ac4ae00>, <azure.search.documents._generated.models._models_py3.IndexingResult object at 0x7fb63ac493f0>, <azure.search.documents._generated.models._models_py3.IndexingResult object at 0x7fb63ac48460>]\nIndexed batch 1 for doc_id f683ac26-217d-422b-af96-df896a9e1cbd\nUpload result: [<azure.search.documents._generated.models._models_py3.IndexingResult object at 0x7fb5e4db3340>, <azure.search.documents._generated.models._models_py3.IndexingResult object at 0x7fb5e4db0130>, <azure.search.documents._generated.models._models_py3.IndexingResult object at 0x7fb5e4db0820>]\nIndexed batch 1 for doc_id bfbfd785-5a8b-4982-a667-80ebcec1540e\nUpload result: [<azure.search.documents._generated.models._models_py3.IndexingResult object at 0x7fb64fef1450>, <azure.search.documents._generated.models._models_py3.IndexingResult object at 0x7fb647621390>, <azure.search.documents._generated.models._models_py3.IndexingResult object at 0x7fb6558a3a60>]\nIndexed batch 1 for doc_id 2798a29f-f3c1-42ee-92c4-6e0822f4fb7a\nUpload result: [<azure.search.documents._generated.models._models_py3.IndexingResult object at 0x7fb64c5e48b0>, <azure.search.documents._generated.models._models_py3.IndexingResult object at 0x7fb64f5bbfa0>, <azure.search.documents._generated.models._models_py3.IndexingResult object at 0x7fb64f5b9b70>, <azure.search.documents._generated.models._models_py3.IndexingResult object at 0x7fb64f5b8a30>, <azure.search.documents._generated.models._models_py3.IndexingResult object at 0x7fb64f5b8d90>, <azure.search.documents._generated.models._models_py3.IndexingResult object at 0x7fb64f5ba320>, <azure.search.documents._generated.models._models_py3.IndexingResult object at 0x7fb64f5ba020>, <azure.search.documents._generated.models._models_py3.IndexingResult object at 0x7fb64f5bbc40>, <azure.search.documents._generated.models._models_py3.IndexingResult object at 0x7fb64f5b8ee0>, <azure.search.documents._generated.models._models_py3.IndexingResult object at 0x7fb64f5b8610>]\nIndexed batch 1 for doc_id 5bd50be7-d36e-4dbb-9fb8-1db38bb20020\nUpload result: [<azure.search.documents._generated.models._models_py3.IndexingResult object at 0x7fb6448e15d0>, <azure.search.documents._generated.models._models_py3.IndexingR\n\n*** WARNING: max output size exceeded, skipping output. ***\n\n36830>]\nIndexed batch 1 for doc_id 99a098b0-0429-48dd-b9a5-5b7ee058e6c6\nUpload result: [<azure.search.documents._generated.models._models_py3.IndexingResult object at 0x7fb643883c70>]\nIndexed batch 1 for doc_id a1ac132e-3a31-4559-bdac-b4943012c92b\nUpload result: [<azure.search.documents._generated.models._models_py3.IndexingResult object at 0x7fb639de1ff0>]\nIndexed batch 1 for doc_id f02fb81f-0395-4de8-9fca-1e21e6b45152\nUpload result: [<azure.search.documents._generated.models._models_py3.IndexingResult object at 0x7fb6448364d0>]\nIndexed batch 1 for doc_id 2518cfe9-c151-4ebc-9fe2-0267d8c32ffa\nUpload result: [<azure.search.documents._generated.models._models_py3.IndexingResult object at 0x7fb5fe6a7d60>]\nIndexed batch 1 for doc_id 99b819a0-d200-4bfb-930c-8d97391ec2a2\nUpload result: [<azure.search.documents._generated.models._models_py3.IndexingResult object at 0x7fb643883880>]\nIndexed batch 1 for doc_id b9c6e15f-b2de-462c-8b4b-8d8434c09fd6\nUpload result: [<azure.search.documents._generated.models._models_py3.IndexingResult object at 0x7fb5fe6a08e0>]\nIndexed batch 1 for doc_id 5de4ab00-56d0-4870-a1e9-ad778c4f801f\nUpload result: [<azure.search.documents._generated.models._models_py3.IndexingResult object at 0x7fb64c4a89d0>]\nIndexed batch 1 for doc_id 02e95a90-53bc-407e-bd02-4898eeb6c02f\nUpload result: [<azure.search.documents._generated.models._models_py3.IndexingResult object at 0x7fb64fe7fc10>]\nIndexed batch 1 for doc_id dfa2c49b-3a8a-423a-a39e-79d051a00083\nUpload result: [<azure.search.documents._generated.models._models_py3.IndexingResult object at 0x7fb64fe7e770>]\nIndexed batch 1 for doc_id d19c05ec-d40a-4398-a82b-7e2b04cc7eae\nUpload result: [<azure.search.documents._generated.models._models_py3.IndexingResult object at 0x7fb64c4aba00>]\nIndexed batch 1 for doc_id bf1549d4-5383-4998-82c2-f0e875060d04\nUpload result: [<azure.search.documents._generated.models._models_py3.IndexingResult object at 0x7fb64c5e66e0>, <azure.search.documents._generated.models._models_py3.IndexingResult object at 0x7fb64c5e7e50>]\nIndexed batch 1 for doc_id 121a7493-4a32-4dc5-933d-caca165f1246\nUpload result: [<azure.search.documents._generated.models._models_py3.IndexingResult object at 0x7fb5fe6a6920>]\nIndexed batch 1 for doc_id 67dcacf2-341d-4905-bbd6-ee9acd70eb61\nUpload result: [<azure.search.documents._generated.models._models_py3.IndexingResult object at 0x7fb5fe6a3850>]\nIndexed batch 1 for doc_id 8bdcfa78-94ab-4c36-b75b-b8190f1e0300\nUpload result: [<azure.search.documents._generated.models._models_py3.IndexingResult object at 0x7fb644837370>]\nIndexed batch 1 for doc_id 5f94c1fb-21f3-4f72-87b8-9507f38697f9\nUpload result: [<azure.search.documents._generated.models._models_py3.IndexingResult object at 0x7fb6448369b0>]\nIndexed batch 1 for doc_id 7350a817-4781-4910-ac08-41932dabad96\nUpload result: [<azure.search.documents._generated.models._models_py3.IndexingResult object at 0x7fb5fe6a18a0>]\nIndexed batch 1 for doc_id c3d42ce3-cf72-4792-9f19-22ff03b08308\nUpload result: [<azure.search.documents._generated.models._models_py3.IndexingResult object at 0x7fb5fe6a5330>, <azure.search.documents._generated.models._models_py3.IndexingResult object at 0x7fb5fe6a5930>]\nIndexed batch 1 for doc_id 8fc3e0e0-808c-4a91-b6a0-74e1cb95ba97\nUpload result: [<azure.search.documents._generated.models._models_py3.IndexingResult object at 0x7fb643882350>]\nIndexed batch 1 for doc_id 0da0ae11-a46d-4898-b7fa-74629b1ec7ef\nUpload result: [<azure.search.documents._generated.models._models_py3.IndexingResult object at 0x7fb64c4a8b50>, <azure.search.documents._generated.models._models_py3.IndexingResult object at 0x7fb64c4a8460>]\nIndexed batch 1 for doc_id 7d249820-1f29-42c2-86bc-28fb9c59697a\nUpload result: [<azure.search.documents._generated.models._models_py3.IndexingResult object at 0x7fb64fe7d690>, <azure.search.documents._generated.models._models_py3.IndexingResult object at 0x7fb64fe7e290>]\nIndexed batch 1 for doc_id 955812cb-9bba-48ed-a352-0a43550b2788\nUpload result: [<azure.search.documents._generated.models._models_py3.IndexingResult object at 0x7fb63ac4ad70>]\nIndexed batch 1 for doc_id 56157bc6-dbd2-4e7b-9ed6-546b58efe68d\nUpload result: [<azure.search.documents._generated.models._models_py3.IndexingResult object at 0x7fb6459c29b0>]\nIndexed batch 1 for doc_id d43d0e17-788e-4a3e-a8fe-b6873eef2aa2\nUpload result: [<azure.search.documents._generated.models._models_py3.IndexingResult object at 0x7fb5fe6a4130>]\nIndexed batch 1 for doc_id 0d173b85-36b6-4b07-803e-daffb8d5c300\nUpload result: [<azure.search.documents._generated.models._models_py3.IndexingResult object at 0x7fb5fe6a2950>]\nIndexed batch 1 for doc_id 9a8d835d-3e53-4cab-85a2-b655520cff60\nUpload result: [<azure.search.documents._generated.models._models_py3.IndexingResult object at 0x7fb644835a80>]\nIndexed batch 1 for doc_id 33f20322-e456-4142-87f2-940df5b4f134\nUpload result: [<azure.search.documents._generated.models._models_py3.IndexingResult object at 0x7fb64c581ba0>]\nIndexed batch 1 for doc_id 93ce94e9-1770-45db-9b3d-147e9c9e1fb0\nUpload result: [<azure.search.documents._generated.models._models_py3.IndexingResult object at 0x7fb5fe6a1180>]\nIndexed batch 1 for doc_id a1f96db3-489c-4721-b04b-1fc528ad43b0\nUpload result: [<azure.search.documents._generated.models._models_py3.IndexingResult object at 0x7fb5fe6a7370>]\nIndexed batch 1 for doc_id f76fadb1-bf4c-4d20-a920-d63cfe21d5a1\nUpload result: [<azure.search.documents._generated.models._models_py3.IndexingResult object at 0x7fb64c5e48b0>]\nIndexed batch 1 for doc_id ea74acd2-1f27-4aaa-a7ad-9b7d34b5f83e\nUpload result: [<azure.search.documents._generated.models._models_py3.IndexingResult object at 0x7fb64c4ab5e0>]\nIndexed batch 1 for doc_id 3fa596e6-798f-4e57-a57a-948fe4ab3de1\nUpload result: [<azure.search.documents._generated.models._models_py3.IndexingResult object at 0x7fb64c5824d0>]\nIndexed batch 1 for doc_id 01bc5c32-dfa3-4f40-bcc0-add9295bab98\nUpload result: [<azure.search.documents._generated.models._models_py3.IndexingResult object at 0x7fb64c5834c0>]\nIndexed batch 1 for doc_id cba554a4-9d8f-4d29-8751-75aee04c055f\nUpload result: [<azure.search.documents._generated.models._models_py3.IndexingResult object at 0x7fb64c582d10>, <azure.search.documents._generated.models._models_py3.IndexingResult object at 0x7fb64c583220>, <azure.search.documents._generated.models._models_py3.IndexingResult object at 0x7fb64c582200>]\nIndexed batch 1 for doc_id 7189e1fc-56a3-4136-b929-f8ce460b7535\nUpload result: [<azure.search.documents._generated.models._models_py3.IndexingResult object at 0x7fb644836ec0>, <azure.search.documents._generated.models._models_py3.IndexingResult object at 0x7fb644837e50>, <azure.search.documents._generated.models._models_py3.IndexingResult object at 0x7fb644836860>]\nIndexed batch 1 for doc_id 21483875-0269-4543-aaa5-9355398953dd\nUpload result: [<azure.search.documents._generated.models._models_py3.IndexingResult object at 0x7fb63ac4ab30>]\nIndexed batch 1 for doc_id db930fda-0b40-427a-862f-6aeb5299e7fe\nUpload result: [<azure.search.documents._generated.models._models_py3.IndexingResult object at 0x7fb6459c15a0>]\nIndexed batch 1 for doc_id 8d6783a7-4adb-4ae1-9e19-d013a25953f8\nUpload result: [<azure.search.documents._generated.models._models_py3.IndexingResult object at 0x7fb5fe6a5210>]\nIndexed batch 1 for doc_id 49443c3d-1b65-40aa-95c9-c13386f88b5e\nUpload result: [<azure.search.documents._generated.models._models_py3.IndexingResult object at 0x7fb5fe6a0700>, <azure.search.documents._generated.models._models_py3.IndexingResult object at 0x7fb5fe6a3580>]\nIndexed batch 1 for doc_id 91ab9877-8214-4b06-85a0-b55f4265e0ea\nUpload result: [<azure.search.documents._generated.models._models_py3.IndexingResult object at 0x7fb6459c39a0>]\nIndexed batch 1 for doc_id da0cdac9-d023-4ef7-9d49-c92a8aa58b68\nUpload result: [<azure.search.documents._generated.models._models_py3.IndexingResult object at 0x7fb63ac495d0>]\nIndexed batch 1 for doc_id a7952d5a-2597-4319-9d50-a7ea8f5c6c44\nUpload result: [<azure.search.documents._generated.models._models_py3.IndexingResult object at 0x7fb6448367a0>]\nIndexed batch 1 for doc_id 3b9d4ba4-4839-4976-bc36-f7be39e29efa\nUpload result: [<azure.search.documents._generated.models._models_py3.IndexingResult object at 0x7fb64c580580>]\nIndexed batch 1 for doc_id 7fa7210a-8b0d-4a87-93ed-843d15cfe267\nUpload result: [<azure.search.documents._generated.models._models_py3.IndexingResult object at 0x7fb64c580c40>]\nIndexed batch 1 for doc_id 648e2bf3-462e-40c8-9012-03010ddd8eff\nUpload result: [<azure.search.documents._generated.models._models_py3.IndexingResult object at 0x7fb644ba3a90>]\nIndexed batch 1 for doc_id 2b88f327-d0ba-49c2-b325-e7b0c011d8b3\nUpload result: [<azure.search.documents._generated.models._models_py3.IndexingResult object at 0x7fb64c5815d0>]\nIndexed batch 1 for doc_id 591c11f8-2be4-438a-b101-12fb7e6448e1\nUpload result: [<azure.search.documents._generated.models._models_py3.IndexingResult object at 0x7fb5fe6a4490>]\nIndexed batch 1 for doc_id 2ac36cb2-206b-4d51-8f2a-995e0ed9a91e\nUpload result: [<azure.search.documents._generated.models._models_py3.IndexingResult object at 0x7fb644836cb0>]\nIndexed batch 1 for doc_id 0056cbee-f116-4c97-9b40-e9fea2d2d456\nUpload result: [<azure.search.documents._generated.models._models_py3.IndexingResult object at 0x7fb64fe7e800>]\nIndexed batch 1 for doc_id f11b5e33-8276-4f7d-a77c-b804377e8451\nUpload result: [<azure.search.documents._generated.models._models_py3.IndexingResult object at 0x7fb647bf3070>]\nIndexed batch 1 for doc_id 270f84f3-384a-40a6-9ade-810d45dae197\nUpload result: [<azure.search.documents._generated.models._models_py3.IndexingResult object at 0x7fb647bf02b0>]\nIndexed batch 1 for doc_id f011d6a0-357a-479c-8441-dc5dacc53cf3\nUpload result: [<azure.search.documents._generated.models._models_py3.IndexingResult object at 0x7fb63ac4ab30>]\nIndexed batch 1 for doc_id ef195f50-4ed8-4ffd-b0fd-2c02ac757523\nUpload result: [<azure.search.documents._generated.models._models_py3.IndexingResult object at 0x7fb644836350>]\nIndexed batch 1 for doc_id 0e8cf98e-439f-4b48-a72e-79f4c6e65bed\nUpload result: [<azure.search.documents._generated.models._models_py3.IndexingResult object at 0x7fb5fe6a5840>]\nIndexed batch 1 for doc_id 3d626315-b05c-4291-90f0-21d47bdfd1ef\nUpload result: [<azure.search.documents._generated.models._models_py3.IndexingResult object at 0x7fb64c580190>]\nIndexed batch 1 for doc_id 869c7d43-b8e3-4f14-bdd6-d3cca56a52f0\nUpload result: [<azure.search.documents._generated.models._models_py3.IndexingResult object at 0x7fb64c580310>]\nIndexed batch 1 for doc_id 62aaf5bd-4a64-4671-a809-6d95170027d7\nUpload result: [<azure.search.documents._generated.models._models_py3.IndexingResult object at 0x7fb64c583a60>]\nIndexed batch 1 for doc_id cbfa7bcf-04b0-4787-be74-fa2ab6c901ec\nUpload result: [<azure.search.documents._generated.models._models_py3.IndexingResult object at 0x7fb64c581ab0>]\nIndexed batch 1 for doc_id 1f3a663a-dce2-48a2-9e0c-fc82ad222cdf\nUpload result: [<azure.search.documents._generated.models._models_py3.IndexingResult object at 0x7fb5fe6a77f0>]\nIndexed batch 1 for doc_id 316aa04b-10d1-4bf6-a5dc-451efdea5824\nUpload result: [<azure.search.documents._generated.models._models_py3.IndexingResult object at 0x7fb6448360b0>]\nIndexed batch 1 for doc_id 34c3ef6e-5d36-4a16-ad92-d3f3cbb6a68f\nUpload result: [<azure.search.documents._generated.models._models_py3.IndexingResult object at 0x7fb63ac49a20>]\nIndexed batch 1 for doc_id 3eb5c910-1357-465b-ab93-1de0525b3f40\nUpload result: [<azure.search.documents._generated.models._models_py3.IndexingResult object at 0x7fb647bf02b0>]\nIndexed batch 1 for doc_id 37bdba6d-c3a0-4813-a8b4-1d84985a59e7\nUpload result: [<azure.search.documents._generated.models._models_py3.IndexingResult object at 0x7fb644cdc9a0>]\nIndexed batch 1 for doc_id 7b9cb89a-1528-471d-9264-5554978b387e\nUpload result: [<azure.search.documents._generated.models._models_py3.IndexingResult object at 0x7fb63ac49f30>]\nIndexed batch 1 for doc_id 73326a28-b63e-45a3-b9b7-90193fd0b441\nUpload result: [<azure.search.documents._generated.models._models_py3.IndexingResult object at 0x7fb6448362c0>]\nIndexed batch 1 for doc_id 30e134d5-d2d3-4416-b029-1151133afd2f\nUpload result: [<azure.search.documents._generated.models._models_py3.IndexingResult object at 0x7fb5fe6a6f50>]\nIndexed batch 1 for doc_id 0c841248-b82b-4a96-b70c-7310092b9153\nUpload result: [<azure.search.documents._generated.models._models_py3.IndexingResult object at 0x7fb64c582e60>]\nIndexed batch 1 for doc_id 7ab698af-6f08-43fb-8853-1f7661442438\nUpload result: [<azure.search.documents._generated.models._models_py3.IndexingResult object at 0x7fb64c583610>]\nIndexed batch 1 for doc_id 13c79896-61f9-49d7-a7b7-65c5db7d3ace\nUpload result: [<azure.search.documents._generated.models._models_py3.IndexingResult object at 0x7fb64c580790>]\nIndexed batch 1 for doc_id 6f916d31-7e7d-4113-ab3a-bef67cf50fb1\nUpload result: [<azure.search.documents._generated.models._models_py3.IndexingResult object at 0x7fb64c581360>]\nIndexed batch 1 for doc_id 4a51eab0-1887-46cd-9259-45dac5b16abd\nUpload result: [<azure.search.documents._generated.models._models_py3.IndexingResult object at 0x7fb5fe6a6140>]\nIndexed batch 1 for doc_id d029e45b-3a89-4841-b096-15aa12ddeed6\nUpload result: [<azure.search.documents._generated.models._models_py3.IndexingResult object at 0x7fb6448377f0>]\nIndexed batch 1 for doc_id 2e24c40b-95b5-4a29-85e3-bed409731dbf\nUpload result: [<azure.search.documents._generated.models._models_py3.IndexingResult object at 0x7fb6448e0eb0>]\nIndexed batch 1 for doc_id d5c842d0-5af0-4d65-a6c7-f336bbe387d9\nUpload result: [<azure.search.documents._generated.models._models_py3.IndexingResult object at 0x7fb64c654490>]\nIndexed batch 1 for doc_id 621d9c7d-3441-493a-807a-e2c14ddc94c3\nUpload result: [<azure.search.documents._generated.models._models_py3.IndexingResult object at 0x7fb63ac49d20>]\nIndexed batch 1 for doc_id df3c11ee-af95-453a-a99f-3ff0a54b59c4\nUpload result: [<azure.search.documents._generated.models._models_py3.IndexingResult object at 0x7fb5fe6a7100>]\nIndexed batch 1 for doc_id 7c00990a-ddb2-4ae3-a8ef-a154f85594b6\nUpload result: [<azure.search.documents._generated.models._models_py3.IndexingResult object at 0x7fb5fe6a73a0>]\nIndexed batch 1 for doc_id ba1ece08-6fb7-4fd1-ade7-f99d28b7ae30\nUpload result: [<azure.search.documents._generated.models._models_py3.IndexingResult object at 0x7fb5fe6a09a0>]\nIndexed batch 1 for doc_id da3b5020-2fad-42a2-8e6b-52a2577d1da9\nUpload result: [<azure.search.documents._generated.models._models_py3.IndexingResult object at 0x7fb644834e80>]\nIndexed batch 1 for doc_id 0c30165b-163d-4cbc-b45c-170e7e51fa71\nUpload result: [<azure.search.documents._generated.models._models_py3.IndexingResult object at 0x7fb644836c80>]\nIndexed batch 1 for doc_id a95587fb-ef6b-4343-9fc7-db9a861db18f\nUpload result: [<azure.search.documents._generated.models._models_py3.IndexingResult object at 0x7fb64c5e7e50>]\nIndexed batch 1 for doc_id 150ad1e4-8713-40c1-8b22-0b14972a1d3e\nUpload result: [<azure.search.documents._generated.models._models_py3.IndexingResult object at 0x7fb64c4a8a60>]\nIndexed batch 1 for doc_id 6398aebd-fb8a-46b5-87f1-7120f6ae1e93\nUpload result: [<azure.search.documents._generated.models._models_py3.IndexingResult object at 0x7fb5fe6a5540>]\nIndexed batch 1 for doc_id 4b17e00e-906f-4901-bbd9-3498d16fa937\nUpload result: [<azure.search.documents._generated.models._models_py3.IndexingResult object at 0x7fb6448e19c0>]\nIndexed batch 1 for doc_id 34579c13-65ed-4ad7-8133-422bf83b5f17\nUpload result: [<azure.search.documents._generated.models._models_py3.IndexingResult object at 0x7fb6459c3fd0>]\nIndexed batch 1 for doc_id cbbdd0ab-351d-4b37-812b-117d479c1ee8\nUpload result: [<azure.search.documents._generated.models._models_py3.IndexingResult object at 0x7fb63ac48c70>]\nIndexed batch 1 for doc_id 17384042-cf92-4efd-80ff-ad7341a55e5d\nUpload result: [<azure.search.documents._generated.models._models_py3.IndexingResult object at 0x7fb5e4dd2380>]\nIndexed batch 1 for doc_id 6adddecc-5a75-462e-b847-ffe3eb1d371c\nUpload result: [<azure.search.documents._generated.models._models_py3.IndexingResult object at 0x7fb5fe6a6e00>]\nIndexed batch 1 for doc_id 33c3476b-d5d9-4427-a412-45a988f239a2\nUpload result: [<azure.search.documents._generated.models._models_py3.IndexingResult object at 0x7fb5fe6a0700>]\nIndexed batch 1 for doc_id 68cd9ade-f71a-4a82-aa00-43293ebc9778\nUpload result: [<azure.search.documents._generated.models._models_py3.IndexingResult object at 0x7fb64fef0610>]\nIndexed batch 1 for doc_id 2a8d1ac3-17cd-4bcb-883d-39076dd96c5e\nUpload result: [<azure.search.documents._generated.models._models_py3.IndexingResult object at 0x7fb6459c2ad0>]\nIndexed batch 1 for doc_id 0afb50e3-b063-4008-b4c5-c1d915c8910a\nUpload result: [<azure.search.documents._generated.models._models_py3.IndexingResult object at 0x7fb6459c0f40>]\nIndexed batch 1 for doc_id 6f05c293-e5f5-4376-b77e-23c4581ce12a\nUpload result: [<azure.search.documents._generated.models._models_py3.IndexingResult object at 0x7fb64fef1ed0>]\nIndexed batch 1 for doc_id 2b9c75e1-497a-462c-b028-c5fbae080236\nUpload result: [<azure.search.documents._generated.models._models_py3.IndexingResult object at 0x7fb5fe6a33d0>]\nIndexed batch 1 for doc_id 5773c5bb-7152-4e36-a736-eae448a67c81\nUpload result: [<azure.search.documents._generated.models._models_py3.IndexingResult object at 0x7fb5fe6a7910>]\nIndexed batch 1 for doc_id 33a17297-1ca2-4104-97eb-8c04412e17f0\nUpload result: [<azure.search.documents._generated.models._models_py3.IndexingResult object at 0x7fb5e4dd26e0>]\nIndexed batch 1 for doc_id 6a5eb319-52c0-4b41-93e3-b0d49c20e387\nUpload result: [<azure.search.documents._generated.models._models_py3.IndexingResult object at 0x7fb63ac49de0>]\nIndexed batch 1 for doc_id 6e81449c-244e-4b45-a401-54b0ab3af407\nUpload result: [<azure.search.documents._generated.models._models_py3.IndexingResult object at 0x7fb63ac4bb50>]\nIndexed batch 1 for doc_id 59421b9a-be8e-4dca-bb79-1ed4cddebea2\nUpload result: [<azure.search.documents._generated.models._models_py3.IndexingResult object at 0x7fb5e4dd33a0>]\nIndexed batch 1 for doc_id 95a67142-0018-4e82-b7d5-42b2370e55dd\nUpload result: [<azure.search.documents._generated.models._models_py3.IndexingResult object at 0x7fb5fe6a4670>]\nIndexed batch 1 for doc_id fbb27e68-1fa6-43dc-99b9-6c4d1ed39525\nUpload result: [<azure.search.documents._generated.models._models_py3.IndexingResult object at 0x7fb5fe6a1f30>]\nIndexed batch 1 for doc_id 4d95a2e1-eda1-4bf1-a510-62f81bc42b24\nUpload result: [<azure.search.documents._generated.models._models_py3.IndexingResult object at 0x7fb64fef0be0>]\nIndexed batch 1 for doc_id 9cf8c0e2-ebe2-4e82-a408-1ef86d6a1243\nUpload result: [<azure.search.documents._generated.models._models_py3.IndexingResult object at 0x7fb6459c0f40>]\nIndexed batch 1 for doc_id 9c4b55fe-1e46-4749-9d91-d40a4a0398b1\nUpload result: [<azure.search.documents._generated.models._models_py3.IndexingResult object at 0x7fb644837d30>]\nIndexed batch 1 for doc_id 3e50b9e6-a71b-42d2-97cb-a0acf304bf0b\nUpload result: [<azure.search.documents._generated.models._models_py3.IndexingResult object at 0x7fb64fef0af0>]\nIndexed batch 1 for doc_id d0d764ac-7dfa-46d6-87c1-47783163b1c7\nUpload result: [<azure.search.documents._generated.models._models_py3.IndexingResult object at 0x7fb5fe6a06a0>]\nIndexed batch 1 for doc_id e0d3fabe-8006-45bd-b3f7-dc9182688c09\nUpload result: [<azure.search.documents._generated.models._models_py3.IndexingResult object at 0x7fb5fe6a5e70>]\nIndexed batch 1 for doc_id a6215d5a-351a-4538-bd4b-2879261fb21a\nUpload result: [<azure.search.documents._generated.models._models_py3.IndexingResult object at 0x7fb5e4dd20b0>]\nIndexed batch 1 for doc_id 6f822b33-4afa-4ab2-aef7-49520e1d53f1\nUpload result: [<azure.search.documents._generated.models._models_py3.IndexingResult object at 0x7fb63ac4ab90>]\nIndexed batch 1 for doc_id fa017e16-a6e9-476c-b261-8212fadef0da\nUpload result: [<azure.search.documents._generated.models._models_py3.IndexingResult object at 0x7fb63ac4ae90>]\nIndexed batch 1 for doc_id 6017b2b3-b2c1-4c73-bc16-415834fa6ef7\nUpload result: [<azure.search.documents._generated.models._models_py3.IndexingResult object at 0x7fb5e4dd1c60>]\nIndexed batch 1 for doc_id bdde54ba-fcdc-47b6-a471-9dfc0523e9a1\nUpload result: [<azure.search.documents._generated.models._models_py3.IndexingResult object at 0x7fb5fe6a4f70>, <azure.search.documents._generated.models._models_py3.IndexingResult object at 0x7fb5fe6a47c0>]\nIndexed batch 1 for doc_id 886de3fb-7c90-4f06-877d-c52b087a466b\nUpload result: [<azure.search.documents._generated.models._models_py3.IndexingResult object at 0x7fb5fe6a1cc0>]\nIndexed batch 1 for doc_id d54a5d2c-3fca-4135-a1f1-f66be0698a2e\nUpload result: [<azure.search.documents._generated.models._models_py3.IndexingResult object at 0x7fb644837370>]\nIndexed batch 1 for doc_id 6bf9e9ad-d83d-43a6-b9ae-a30daeed5655\nUpload result: [<azure.search.documents._generated.models._models_py3.IndexingResult object at 0x7fb6459c0bb0>]\nIndexed batch 1 for doc_id 12a6b6dd-1b75-4dda-811e-ff7d0678e602\nUpload result: [<azure.search.documents._generated.models._models_py3.IndexingResult object at 0x7fb644836770>]\nIndexed batch 1 for doc_id f2e1c0e3-10bb-441a-a716-aefe284804e5\nUpload result: [<azure.search.documents._generated.models._models_py3.IndexingResult object at 0x7fb64fef3100>]\nIndexed batch 1 for doc_id 9d6add65-7c2b-4660-825e-67139fd335d1\nUpload result: [<azure.search.documents._generated.models._models_py3.IndexingResult object at 0x7fb5fe6a0cd0>, <azure.search.documents._generated.models._models_py3.IndexingResult object at 0x7fb5fe6a2d40>]\nIndexed batch 1 for doc_id 3a9f508b-fdf0-4176-9f2b-a22a179df496\nUpload result: [<azure.search.documents._generated.models._models_py3.IndexingResult object at 0x7fb5fe6a5210>]\nIndexed batch 1 for doc_id dabc2a45-edee-4e50-b594-8de7a4d01155\nUpload result: [<azure.search.documents._generated.models._models_py3.IndexingResult object at 0x7fb6448e2aa0>]\nIndexed batch 1 for doc_id 24cb5e51-ce47-42a8-a9aa-b2d5c7c966a5\nUpload result: [<azure.search.documents._generated.models._models_py3.IndexingResult object at 0x7fb63ac49300>]\nIndexed batch 1 for doc_id c10de7ca-8d95-4c45-9e26-694b0f86f94a\nUpload result: [<azure.search.documents._generated.models._models_py3.IndexingResult object at 0x7fb63ac48850>]\nIndexed batch 1 for doc_id 769b8bdd-631d-4a1c-a679-5bd2171b268f\nUpload result: [<azure.search.documents._generated.models._models_py3.IndexingResult object at 0x7fb5e4dd3a30>]\nIndexed batch 1 for doc_id 5424fc21-6bee-4aec-af88-4cb198c58028\nUpload result: [<azure.search.documents._generated.models._models_py3.IndexingResult object at 0x7fb5fe6a49a0>]\nIndexed batch 1 for doc_id b0d3ae6c-e284-4569-b266-3553b4cf3dd0\nUpload result: [<azure.search.documents._generated.models._models_py3.IndexingResult object at 0x7fb5fe6a0460>]\nIndexed batch 1 for doc_id 3ca2149d-6ea8-47cd-8760-71e156ecd008\nUpload result: [<azure.search.documents._generated.models._models_py3.IndexingResult object at 0x7fb64fef0ca0>]\nIndexed batch 1 for doc_id ea019f41-074b-4a66-b668-9a25d6575c2e\nUpload result: [<azure.search.documents._generated.models._models_py3.IndexingResult object at 0x7fb6459c1060>]\nIndexed batch 1 for doc_id 1b859bc9-df13-45aa-93b8-fefecbcd7cc7\nUpload result: [<azure.search.documents._generated.models._models_py3.IndexingResult object at 0x7fb644836140>]\nIndexed batch 1 for doc_id 7df4c990-2157-455b-9c95-34a430424a65\nUpload result: [<azure.search.documents._generated.models._models_py3.IndexingResult object at 0x7fb5fe6a5f90>]\nIndexed batch 1 for doc_id 6024a6c9-5cb7-4bef-9fb4-459478e33887\nUpload result: [<azure.search.documents._generated.models._models_py3.IndexingResult object at 0x7fb5e4dd1f00>]\nIndexed batch 1 for doc_id 0846b716-4232-4e1f-9d5b-d3cc9b609e4e\nUpload result: [<azure.search.documents._generated.models._models_py3.IndexingResult object at 0x7fb63ac493c0>]\nIndexed batch 1 for doc_id 9229ff5f-66be-48ef-be21-2dc3484cb67c\nUpload result: [<azure.search.documents._generated.models._models_py3.IndexingResult object at 0x7fb5fe6a3f10>]\nIndexed batch 1 for doc_id 7dfb5b92-3555-4077-a2a2-b3943d6d312e\nUpload result: [<azure.search.documents._generated.models._models_py3.IndexingResult object at 0x7fb64c654340>]\nIndexed batch 1 for doc_id 996ba738-9c0e-493f-981a-7807262b0dcb\nUpload result: [<azure.search.documents._generated.models._models_py3.IndexingResult object at 0x7fb5fe6a1480>]\nIndexed batch 1 for doc_id 8fa0adfb-49a4-4ef1-bf77-82a2e0ae1941\nUpload result: [<azure.search.documents._generated.models._models_py3.IndexingResult object at 0x7fb63ac48fd0>]\nIndexed batch 1 for doc_id d957b0b3-2293-46e6-9ba2-8cb386563531\nUpload result: [<azure.search.documents._generated.models._models_py3.IndexingResult object at 0x7fb5e4dd3a30>]\nIndexed batch 1 for doc_id 5c792f46-2989-4655-ac9a-cca40d3aafa1\nUpload result: [<azure.search.documents._generated.models._models_py3.IndexingResult object at 0x7fb5fe6a4700>]\n"
          ]
        }
      ],
      "source": [
        "import numpy as np\n",
        "from azure.core.exceptions import HttpResponseError\n",
        "\n",
        "def generate_embeddings(input_data):\n",
        "    # Extract content and meta_content from input data\n",
        "    content = [item['content'] for item in input_data]\n",
        "    meta_content = [item['meta_content'] for item in input_data]\n",
        "\n",
        "    # Generate embeddings for content\n",
        "    content_response = embedding_client.embeddings.create(input=content, model=azure_openai_embedding_deployment, dimensions=1536)\n",
        "    content_embeddings = [item.embedding for item in content_response.data]\n",
        "    #print(\"CONENT\", content_embeddings)\n",
        "\n",
        "    # Generate embeddings for meta_content\n",
        "    meta_content_response = embedding_client.embeddings.create(input=meta_content, model=azure_openai_embedding_deployment, dimensions=1536)\n",
        "    meta_content_embeddings = [item.embedding for item in meta_content_response.data]\n",
        "    #print(\"META\", meta_content_embeddings)\n",
        "\n",
        "    # Assign embeddings to input data\n",
        "    for i, item in enumerate(input_data):\n",
        "        item['contentVector'] = content_embeddings[i]\n",
        "        #print(item['contentVector'])\n",
        "        item['meta_content_vector'] = meta_content_embeddings[i]\n",
        "\n",
        "    return input_data\n",
        "\n",
        "def filter_documents_with_empty_vectors(documents):\n",
        "    filtered_docs = []\n",
        "    for doc in documents:\n",
        "        content_vector = doc.get('contentVector', [])\n",
        "        meta_content_vector = doc.get('meta_content_vector', [])\n",
        "\n",
        "        # Check if either vector field is empty\n",
        "        if content_vector is None or len(content_vector) == 0 or meta_content_vector is None or len(meta_content_vector) == 0:\n",
        "            filtered_docs.append(doc)\n",
        "\n",
        "    print(f\"Total documents with empty vectors: {len(filtered_docs)}\")\n",
        "    return filtered_docs\n",
        "\n",
        "def get_documents():\n",
        "    try:\n",
        "        # Retrieve all documents from the index\n",
        "        results = search_client.search(search_text=\"*\", filter=None)\n",
        "        documents = [doc for doc in results]\n",
        "        print(f\"Total documents retrieved: {len(documents)}\")\n",
        "        grouped_documents = {}\n",
        "\n",
        "        # Iterate through the documents\n",
        "        for doc in documents:\n",
        "            content_vector = doc.get(\"contentVector\", [])\n",
        "            meta_content_vector = doc.get(\"meta_content_vector\", [])\n",
        "\n",
        "            # Check if either vector field is empty\n",
        "            if content_vector is None or len(content_vector) == 0 or meta_content_vector is None or len(meta_content_vector) == 0:\n",
        "                doc_id = doc.get(\"id\")\n",
        "                if doc_id not in grouped_documents:\n",
        "                    grouped_documents[doc_id] = []\n",
        "                grouped_documents[doc_id].append(doc)\n",
        "\n",
        "        print(f\"Total documents with empty vectors: {len(grouped_documents)}\")\n",
        "        return grouped_documents\n",
        "\n",
        "    except HttpResponseError as e:\n",
        "        print(f\"Error fetching documents: {e}\")\n",
        "        return {}\n",
        "\n",
        "def update_content_vectors(grouped_documents):\n",
        "    batch_size = 10  # Adjust batch size as needed\n",
        "    for doc_id, docs in grouped_documents.items():\n",
        "        for i in range(0, len(docs), batch_size):\n",
        "            batch = docs[i:i + batch_size]\n",
        "            try:\n",
        "                updated_documents = generate_embeddings(batch)\n",
        "                result = search_client.upload_documents(documents=updated_documents)\n",
        "                print(f\"Indexed batch {i // batch_size + 1} for doc_id {doc_id}\")\n",
        "                print(f\"Upload result: {result}\")\n",
        "            except HttpResponseError as e:\n",
        "                print(f\"Failed to upload batch {i // batch_size + 1} for doc_id {doc_id}: {e}\")\n",
        "                for doc in batch:\n",
        "                    print(\"Failed Document:\")\n",
        "                    print(\"Type:\", type(doc))\n",
        "                    print(\"Keys:\", list(doc.keys()))\n",
        "                    print(\"Type:\", doc.get(\"content\"))\n",
        "                    print(\"Type:\", doc.get(\"content_vector\"))\n",
        "                    print(\"Type:\", doc.get(\"meta_vector\"))\n",
        "                    for key, value in doc.items():\n",
        "                        print(f\"Field: {key}, Type: {type(value)}, Length: {len(str(value))}\")\n",
        "\n",
        "# Process documents\n",
        "grouped_documents = get_documents()\n",
        "update_content_vectors(grouped_documents)"
      ]
    },
    {
      "cell_type": "markdown",
      "metadata": {
        "application/vnd.databricks.v1+cell": {
          "cellMetadata": {},
          "inputWidgets": {},
          "nuid": "e77a9f24-ca6a-4230-a674-fb34f1a4ea41",
          "showTitle": false,
          "title": ""
        },
        "id": "sm8JAqhsZk48"
      },
      "source": [
        "Run Test Queries"
      ]
    },
    {
      "cell_type": "code",
      "execution_count": null,
      "metadata": {
        "application/vnd.databricks.v1+cell": {
          "cellMetadata": {
            "byteLimit": 2048000,
            "rowLimit": 10000
          },
          "inputWidgets": {},
          "nuid": "545f7aa9-14ab-4849-a876-bda165d5158f",
          "showTitle": false,
          "title": ""
        },
        "id": "VFqCzZVzZk49",
        "outputId": "fe6b8ccb-9c72-4a9a-a25f-1c720f4a817d"
      },
      "outputs": [
        {
          "output_type": "stream",
          "name": "stdout",
          "text": [
            "content='The \"4SHP17LE\" refers to a specific model of a split system heat pump. Here are the key details and specifications for the 4SHP17LE model:\\n\\n### Key Features:\\n\\n1. **Compressor**:\\n   - High-efficiency scroll compressor\\n   - Uses R410A refrigerant\\n   - Grommet mounted compressor for quieter operation\\n   - Heavy-duty compressor sound blanket for quieter operation\\n   - Internally protected against high temperature motor overload conditions\\n\\n2. **Cabinet**:\\n   - Full metal louvered panel with 2 screws for ease of coil cleaning and service\\n   - Corner-mounted controls for easy service\\n   - Rounded corners for safety and an attractive appearance\\n   - Baked polyester paint finished over galvanized steel for maximum durability\\n   - Removable PVC coated wire fan discharge grill\\n   - 45-degree offset gauge ports for easy service\\n   - Removable service panel for internal access\\n\\n3. **Coils**:\\n   - Omniguard® total corrosion protection technology\\n   - Enhanced tube-and-fin coil design featuring MHT™ Technology for maximum heat transfer\\n   - Factory tested for leak-proof construction\\n   - Raised coil prevents debris from impeding airflow\\n\\n4. **Performance**:\\n   - Up to 17 SEER (Seasonal Energy Efficiency Ratio) & 9.5 HSPF (Heating Seasonal Performance Factor)\\n   - Designed to perform in temperatures up to 125°F and down to 0°F\\n\\n5. **Components**:\\n   - Factory installed crankcase heater\\n   - Factory installed high and low pressure switches\\n   - Thread-on pressure switches for simple, quick service\\n   - Filter drier shipped loose for installation flexibility\\n   - Fan orifice for smoother airflow and sound level reduction\\n   - Charged for 15 feet of line set\\n   - Discharge muffler for quiet operation\\n   - Quiet Shift™ capable to reduce noise during defrost\\n   - Demand defrost helps eliminate unnecessary defrost cycles\\n   - Sealed Contactor with lugs\\n\\n6. **Warranty**:\\n   - 5-year limited warranty on all parts and compressor\\n   - Option to extend to a 10-year warranty on all parts and compressor with registration within 60 days of installation\\n\\n### Model Number Interpretation:\\n- **4**: R410A refrigerant\\n- **SHP**: Split Heat Pump\\n- **17**: SEER rating\\n- **LE**: Louvered Enhanced\\n- **1**: All regions\\n- **P**: 1-phase, 208/240V, 60Hz\\n- **Tonnage**: Available in various tonnage options like 18, 24, 30, 36, 42, 48, and 60\\n\\n### Physical and Electrical Data:\\n- Voltage/Hz/Phase: 208-230/60/1\\n- Voltage Range: 197-253\\n- Min. Circuit Ampacity and Max. Overcurrent Device (amps) vary by specific model within the 4SHP17LE series.\\n\\n### Unit Dimensions:\\n- Dimensions vary slightly with the tonnage, but typical dimensions include width, depth, and height measurements.\\n\\n### Sound Ratings:\\n- Sound power and estimated sound pressure levels are provided, ensuring quieter operation.\\n\\n### Refrigeration Data:\\n- The refrigerant charge (Oz.), TXV, and refrigerant line sizes are specified for various models in the series.\\n\\n### Accessories:\\n- Various system accessories are available, such as liquid line solenoids, low ambient kits, mild ambient kits, cold weather kits, and more, to enhance the unit\\'s performance and compatibility with different installation requirements.\\n\\nFor detailed technical specifications, service manuals, and the latest ratings, refer to the official product documentation or websites like www.alliedratings.com or www.AHRIdirectory.org.'\nNow trying advanced vector based query\ncontent='The model \"4SHP17LE\" refers to a high-efficiency split system heat pump designed for both heating and cooling applications. The product specifications, features, and other relevant details are as follows:\\n\\n### Key Features:\\n\\n#### Compressor\\n- High-efficiency scroll compressor\\n- Uses R410A refrigerant\\n- Grommet-mounted for quiet operation\\n- Equipped with a heavy-duty sound blanket\\n- Internally protected against high temperature motor overload conditions\\n\\n#### Cabinet\\n- Full metal louvered panel with easy removal for coil cleaning and service\\n- Corner-mounted controls for easy access\\n- Rounded corners for safety and aesthetics\\n- Baked polyester paint finish over galvanized steel for durability\\n- Removable PVC-coated wire fan discharge grill\\n- 45-degree offset gauge ports for easy service\\n- Removable service panel for internal access\\n\\n#### Coils\\n- Omniguard® total corrosion protection technology\\n- Enhanced tube-and-fin coil design (MHT™ Technology) for maximum heat transfer\\n- Factory tested for leak-proof construction\\n- Raised coil to prevent debris from impeding airflow\\n\\n### Performance:\\n- SEER (Seasonal Energy Efficiency Ratio): Up to 18.2\\n- HSPF (Heating Seasonal Performance Factor): Up to 10.6\\n- Designed to operate in a wide range of temperatures (up to 125°F and down to 0°F)\\n\\n### Components:\\n- Factory-installed crankcase heater\\n- High and low pressure switches\\n- Thread-on pressure switches for quick service\\n- Filter drier shipped loose for installation flexibility\\n- Fan orifice for smoother airflow and reduced sound levels\\n- Charged for 15 feet of line set\\n- Discharge muffler for quiet operation\\n- Quiet Shift™ capable to reduce noise during defrost\\n- Demand defrost to eliminate unnecessary defrost cycles\\n- Sealed contactor with lugs\\n\\n### Warranty:\\n- 5-year limited warranty on all parts and compressor\\n- 10-year warranty available upon registration within 60 days of installation\\n\\n### Physical and Electrical Data:\\nThe unit comes in various models with different tonnage capacities ranging from 1.5 tons to 5 tons. Each model has specific electrical and physical dimensions. For example:\\n- Model 4SHP17LE118P-51 operates at 208-230/60/1 voltage, has a minimum circuit ampacity of 13.6, and a maximum overcurrent protection device rating of 20 amps.\\n\\n### Sound Ratings:\\nSound power levels vary by model, with estimated sound pressure levels provided at different distances. For example:\\n- Model 4SHP17LE118P-51 has a sound power rating of 72 dBA, with estimated sound pressure levels at 64 dBA (1 meter), 58 dBA (2 meters), and 54 dBA (3 meters).\\n\\n### Accessories:\\nVarious accessories are available to enhance the performance and functionality of the unit, including:\\n- Liquid Line Solenoid\\n- Low Ambient Cooling Kit\\n- Mild Ambient Heating Kit\\n- Cold Weather Kit\\n- Fossil Fuel Kit\\n- Hard Start Kit\\n- Crankcase Heater\\n- Sound Cover\\n- Loss of Charge Kit\\n- TXV Kit for superior refrigerant flow control\\n\\nThe 4SHP17LE is a versatile and efficient heat pump, suitable for various climates and applications, providing both heating and cooling solutions with advanced features for quiet operation, durability, and ease of maintenance.'\n"
          ]
        }
      ],
      "source": [
        "from langchain_core.utils import get_from_env\n",
        "import os\n",
        "os.environ[\"AZURESEARCH_FIELDS_CONTENT_VECTOR\"] = \"contentVector\"\n",
        "os.environ[\"AZURESEARCH_FIELDS_TAG\"] = \"meta_content_vector\"\n",
        "FIELDS_ID = get_from_env(\n",
        "    key=\"AZURESEARCH_FIELDS_ID\", env_key=\"AZURESEARCH_FIELDS_ID\", default=\"meta_content_vector\"\n",
        ")\n",
        "from azure.search.documents.models import VectorizedQuery\n",
        "from azure.search.documents.models import QueryType, QueryCaptionType, QueryAnswerType\n",
        "from azure.search.documents.models import VectorFilterMode\n",
        "from azure.search.documents import SearchClient\n",
        "from langchain_community.vectorstores import AzureSearch\n",
        "\n",
        "query=\"explain 4shp17le\"\n",
        "def inspect_index_documents():\n",
        "    # Simple vs Advanced query processs of the index\n",
        "    results = search_client.search(search_text=query, filter=None, top=5)\n",
        "    context=\"\"\n",
        "    for result in results:\n",
        "        context += result.get(\"content\")\n",
        "    response = generate_summary(query,context)\n",
        "    print(response)\n",
        "\n",
        "global select_fields\n",
        "global vectorizable_fields\n",
        "select_fields = [\"filepath\", \"content\",\"chunk_id\"]\n",
        "vectorizable_fields = \"contentVector\", \"meta_content_vector\"\n",
        "\n",
        "def generate_summary(query,context):\n",
        "        prompt_template = \"\"\"Query: <query>{query}<query> Please use the following context to answer the query provided: <context>{context}</context>\n",
        "\"\"\"\n",
        "        prompt = prompt_template.format(query=query,context=context)\n",
        "        message = HumanMessage(content=prompt)\n",
        "        return str(model([message]))\n",
        "\n",
        "embedding = embedding_client.embeddings.create(\n",
        "        input=query, model=azure_openai_embedding_deployment\n",
        "    ).data[0].embedding\n",
        "\n",
        "vector_query = VectorizedQuery(\n",
        "        vector=embedding,\n",
        "        k_nearest_neighbors=2,\n",
        "        fields=\"contentVector, meta_content_vector\",\n",
        "        exhaustive=True,\n",
        "    )\n",
        "# Example usage\n",
        "def inspect_index_documentsAdvanced():\n",
        "  print(\"Now trying advanced vector based query\")\n",
        "  results_main = search_client.search(\n",
        "        search_text=query,\n",
        "        vector_queries=[vector_query],\n",
        "        select=select_fields,\n",
        "        query_type=QueryType.SEMANTIC,\n",
        "        semantic_configuration_name='my-semantic-config',\n",
        "        query_caption=QueryCaptionType.EXTRACTIVE,\n",
        "        query_answer=QueryAnswerType.EXTRACTIVE,\n",
        "        top=3,\n",
        "        vector_filter_mode=VectorFilterMode.PRE_FILTER,\n",
        "    )\n",
        "\n",
        "  #results_main = search_client.search(search_text=query, vector_queries=[vector_query],top=3, vector_filter_mode=VectorFilterMode.PRE_FILTER)\n",
        "  context=\"\"\n",
        "  for result in results_main:\n",
        "        context += result.get(\"content\")\n",
        "  response = generate_summary(query,context)\n",
        "  print(response)\n",
        "inspect_index_documents()\n",
        "inspect_index_documentsAdvanced()"
      ]
    },
    {
      "cell_type": "markdown",
      "metadata": {
        "application/vnd.databricks.v1+cell": {
          "cellMetadata": {},
          "inputWidgets": {},
          "nuid": "17da3285-4a12-421b-b6d6-271aa00e5dfd",
          "showTitle": false,
          "title": ""
        },
        "id": "myDQ_gZhZk49"
      },
      "source": [
        "Inspect index dimensions and document count"
      ]
    },
    {
      "cell_type": "code",
      "execution_count": null,
      "metadata": {
        "application/vnd.databricks.v1+cell": {
          "cellMetadata": {
            "byteLimit": 2048000,
            "rowLimit": 10000
          },
          "inputWidgets": {},
          "nuid": "70b7c2a9-b4aa-41c3-b693-f6829ff28178",
          "showTitle": false,
          "title": ""
        },
        "id": "whlo0qVhZk49",
        "outputId": "c0c7249e-1076-4606-c1ac-b463a2ba98fc"
      },
      "outputs": [
        {
          "output_type": "stream",
          "name": "stdout",
          "text": [
            "Number of documents with empty 'contentVector': 0\nNumber of documents with empty 'meta_content_vector': 0\n"
          ]
        }
      ],
      "source": [
        "# query_empty_content_vector = \"*\"\n",
        "# filter_empty_content_vector = \"contentVector/any(c: c eq null)\"\n",
        "\n",
        "def get_all_documents(search_client):\n",
        "    \"\"\"Fetch all documents from the index without pagination.\"\"\"\n",
        "    search_text = \"*\"\n",
        "    response = search_client.search(search_text=search_text)\n",
        "    return list(response)  # Convert the response to a list of documents\n",
        "\n",
        "def count_empty_vectors(documents):\n",
        "    \"\"\"Count documents with empty 'contentVector' or 'meta_content_vector'.\"\"\"\n",
        "    count_empty_content_vector = 0\n",
        "    count_empty_meta_content_vector = 0\n",
        "\n",
        "    for doc in documents:\n",
        "        content_vector = doc.get('contentVector', None)\n",
        "        meta_content_vector = doc.get('meta_content_vector', None)\n",
        "\n",
        "        if content_vector is None or len(content_vector) == 0:\n",
        "            count_empty_content_vector += 1\n",
        "\n",
        "        if meta_content_vector is None or len(meta_content_vector) == 0:\n",
        "            count_empty_meta_content_vector += 1\n",
        "\n",
        "    return count_empty_content_vector, count_empty_meta_content_vector\n",
        "\n",
        "# Fetch all documents\n",
        "documents = get_all_documents(search_client)\n",
        "\n",
        "# Count empty vectors\n",
        "empty_content_vector_count, empty_meta_content_vector_count = count_empty_vectors(documents)\n",
        "\n",
        "print(f\"Number of documents with empty 'contentVector': {empty_content_vector_count}\")\n",
        "print(f\"Number of documents with empty 'meta_content_vector': {empty_meta_content_vector_count}\")"
      ]
    },
    {
      "cell_type": "code",
      "execution_count": null,
      "metadata": {
        "application/vnd.databricks.v1+cell": {
          "cellMetadata": {
            "byteLimit": 2048000,
            "rowLimit": 10000
          },
          "inputWidgets": {},
          "nuid": "cbccbe65-e1fd-4307-a430-341803fe2916",
          "showTitle": false,
          "title": ""
        },
        "id": "yvRmQsvUZk49",
        "outputId": "a355b4ea-c0b5-4b75-cdc2-79c787bbdc6b"
      },
      "outputs": [
        {
          "output_type": "stream",
          "name": "stdout",
          "text": [
            "\u001b[43mNote: you may need to restart the kernel using dbutils.library.restartPython() to use updated packages.\u001b[0m\nCollecting openpyxl\n  Downloading openpyxl-3.1.5-py2.py3-none-any.whl (250 kB)\n     ━━━━━━━━━━━━━━━━━━━━━━━━━━━━━━━━━━━━━━━ 250.9/250.9 kB 2.3 MB/s eta 0:00:00\nCollecting et-xmlfile\n  Downloading et_xmlfile-1.1.0-py3-none-any.whl (4.7 kB)\nInstalling collected packages: et-xmlfile, openpyxl\nSuccessfully installed et-xmlfile-1.1.0 openpyxl-3.1.5\n\u001b[43mNote: you may need to restart the kernel using dbutils.library.restartPython() to use updated packages.\u001b[0m\n"
          ]
        }
      ],
      "source": [
        "!pip install openpyxl\n",
        "dbutils.library.restartPython()"
      ]
    },
    {
      "cell_type": "markdown",
      "metadata": {
        "application/vnd.databricks.v1+cell": {
          "cellMetadata": {},
          "inputWidgets": {},
          "nuid": "8cb766fe-5e5c-4770-b4da-86c7b5268e34",
          "showTitle": false,
          "title": ""
        },
        "id": "UXVgXpAsZk49"
      },
      "source": [
        "Automate Log Testing"
      ]
    },
    {
      "cell_type": "markdown",
      "metadata": {
        "application/vnd.databricks.v1+cell": {
          "cellMetadata": {},
          "inputWidgets": {},
          "nuid": "a03f4f21-2496-4070-ab29-8277db81d6fd",
          "showTitle": false,
          "title": ""
        },
        "id": "9y3ip6vXZk49"
      },
      "source": [
        "Clean up NL characters from the answers"
      ]
    },
    {
      "cell_type": "code",
      "execution_count": null,
      "metadata": {
        "application/vnd.databricks.v1+cell": {
          "cellMetadata": {
            "byteLimit": 2048000,
            "rowLimit": 10000
          },
          "inputWidgets": {},
          "nuid": "48b8e36c-e97e-4bf3-b63a-47c4f0288ba1",
          "showTitle": false,
          "title": ""
        },
        "id": "Pebu1resZk4-",
        "outputId": "935b6c88-1346-4312-c2e9-6e11c75bd76d"
      },
      "outputs": [
        {
          "output_type": "stream",
          "name": "stdout",
          "text": [
            "Excel file updated with cleaned answers: /Workspace/Users/krishan.bansal@lennox.com/updates_allied_tech_support_auto_fixed_8624.xlsx\n"
          ]
        }
      ],
      "source": [
        "import pandas as pd\n",
        "import re\n",
        "\n",
        "def clean_text(text):\n",
        "    \"\"\"Clean up the text by removing 'content=' prefix, Markdown characters, and properly handling newlines.\"\"\"\n",
        "    # Ensure the text is a string\n",
        "    text = str(text)\n",
        "\n",
        "    # Remove 'content=' prefix if it exists\n",
        "    if text.startswith(\"content=\"):\n",
        "        text = text[len(\"content=\"):]\n",
        "\n",
        "    # Remove Markdown bold, italic, and code characters (e.g., **bold**, *italic*, `code`)\n",
        "    text = re.sub(r'(\\*\\*|\\*|`)', '', text)\n",
        "\n",
        "    # Replace carriage returns (\\r) with line feeds (\\n) and then replace consecutive newlines with a single space\n",
        "    text = re.sub(r'\\r\\n?', '\\n', text)  # Standardize to \\n\n",
        "\n",
        "    # Replace multiple newlines or newlines with no preceding text with a space\n",
        "    text = re.sub(r'(?<!\\S)\\n(?!\\S)', ' ', text)  # Newlines not surrounded by non-whitespace characters\n",
        "\n",
        "    # Replace multiple consecutive newlines with a single space\n",
        "    text = re.sub(r'\\n+', ' ', text)\n",
        "\n",
        "    # Replace any remaining whitespace sequences with a single space\n",
        "    text = re.sub(r'\\s+', ' ', text).strip()\n",
        "\n",
        "    return text\n",
        "\n",
        "def clean_answers(file_path):\n",
        "    # Read the Excel file\n",
        "    df = pd.read_excel(file_path)\n",
        "\n",
        "    # Ensure the 'New Answer' column exists\n",
        "    if 'New Answer' not in df.columns:\n",
        "        raise ValueError(\"The Excel file must contain a 'New Answer' column.\")\n",
        "\n",
        "    # Clean each answer in the 'New Answer' column\n",
        "    df['New Answer'] = df['New Answer'].apply(lambda x: clean_text(x))\n",
        "\n",
        "    # Save the cleaned DataFrame to the same Excel file\n",
        "    df.to_excel(file_path, index=False)\n",
        "    print(f\"Excel file updated with cleaned answers: {file_path}\")\n",
        "\n",
        "# Main execution\n",
        "file_path = \"/Workspace/Users/krishan.bansal@lennox.com/updates_allied_tech_support_auto_fixed_8624.xlsx\"  # Path to the input Excel file\n",
        "clean_answers(file_path)\n"
      ]
    },
    {
      "cell_type": "code",
      "execution_count": null,
      "metadata": {
        "application/vnd.databricks.v1+cell": {
          "cellMetadata": {
            "byteLimit": 2048000,
            "rowLimit": 10000
          },
          "inputWidgets": {},
          "nuid": "da089888-a652-4c3c-bf02-3b301e73ed29",
          "showTitle": false,
          "title": ""
        },
        "id": "vB5kV0OeZk4-",
        "outputId": "688153d9-7320-4d3d-afa1-57e7494e5f6d"
      },
      "outputs": [
        {
          "output_type": "stream",
          "name": "stdout",
          "text": [
            "Excel file updated with cleaned answers: /Workspace/Users/krishan.bansal@lennox.com/updates_allied_tech_support_auto_fixed_8624.xlsx\n"
          ]
        }
      ],
      "source": [
        "import pandas as pd\n",
        "\n",
        "def clean_text(text):\n",
        "    \"\"\"Clean up the text by removing unnecessary characters and formatting issues.\"\"\"\n",
        "    # Ensure the text is a string\n",
        "    text = str(text)\n",
        "\n",
        "    # Replace backward slashes with a space or remove them\n",
        "    text = text.replace(\"\\\\\", \" \")\n",
        "\n",
        "    # Replace the '#' character with a space or remove it\n",
        "    text = text.replace(\"#\", \" \")\n",
        "\n",
        "    # Replace literal \"\\n\" with actual newline characters\n",
        "    text = text.replace(\"\\\\n\", \"\\n\")\n",
        "\n",
        "    # Replace actual newlines with a single space or desired formatting\n",
        "    text = text.replace(\"\\n\", \" \")\n",
        "\n",
        "    # Optionally, replace forward slashes if needed (adjust or remove if not necessary)\n",
        "    text = text.replace(\"/\", \" \")\n",
        "\n",
        "    # Normalize multiple spaces\n",
        "    text = \" \".join(text.split())\n",
        "\n",
        "    return text\n",
        "\n",
        "def clean_answers(file_path):\n",
        "    # Read the Excel file\n",
        "    df = pd.read_excel(file_path)\n",
        "\n",
        "    # Ensure the 'New Answer' column exists\n",
        "    if 'New Answer' not in df.columns:\n",
        "        raise ValueError(\"The Excel file must contain a 'New Answer' column.\")\n",
        "\n",
        "    # Clean each answer in the 'New Answer' column\n",
        "    df['New Answer'] = df['New Answer'].apply(clean_text)\n",
        "\n",
        "    # Save the cleaned DataFrame to the same Excel file\n",
        "    df.to_excel(file_path, index=False)\n",
        "    print(f\"Excel file updated with cleaned answers: {file_path}\")\n",
        "\n",
        "# Main execution\n",
        "file_path = \"/Workspace/Users/krishan.bansal@lennox.com/updates_allied_tech_support_auto_fixed_8624.xlsx\"  # Path to the input Excel file\n",
        "clean_answers(file_path)\n"
      ]
    }
  ],
  "metadata": {
    "application/vnd.databricks.v1+notebook": {
      "dashboards": [],
      "environmentMetadata": {
        "base_environment": "",
        "client": "1"
      },
      "language": "python",
      "notebookMetadata": {
        "pythonIndentUnit": 4
      },
      "notebookName": "indexDataBricks_main_dascent_finalKB",
      "widgets": {}
    },
    "colab": {
      "provenance": []
    }
  },
  "nbformat": 4,
  "nbformat_minor": 0
}